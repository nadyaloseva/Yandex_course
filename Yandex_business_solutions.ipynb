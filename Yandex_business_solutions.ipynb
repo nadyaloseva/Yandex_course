{
 "cells": [
  {
   "cell_type": "markdown",
   "metadata": {},
   "source": [
    "# ПРИНЯТИЕ РЕШЕНИЙ В БИЗНЕСЕ\n",
    "\n",
    "Вы — аналитик крупного интернет-магазина. Вместе с отделом маркетинга вы подготовили список гипотез для увеличения выручки.\n",
    "Приоритизируйте гипотезы, запустите A/B-тест и проанализируйте результаты. \n",
    "\n",
    " # Описание данных\n",
    "\n",
    "**Данные для первой части***\n",
    "\n",
    "Файл /datasets/hypothesis.csv\n",
    "\n",
    "* Hypothesis — краткое описание гипотезы;\n",
    "* Reach — охват пользователей по 10-балльной шкале;\n",
    "* Impact — влияние на пользователей по 10-балльной шкале;\n",
    "*  — уверенность в гипотезе по 10-балльной шкале;\n",
    "* Efforts — затраты ресурсов на проверку гипотезы по 10-балльной шкале. Чем больше значение Efforts, тем дороже проверка гипотезы.\n",
    "\n",
    "\n",
    "Файл /datasets/orders.csv.\n",
    "\n",
    "* transactionId — идентификатор заказа;\n",
    "* visitorId — идентификатор пользователя, совершившего заказ;\n",
    "* date — дата, когда был совершён заказ;\n",
    "* revenue — выручка заказа;\n",
    "* group — группа A/B-теста, в которую попал заказ.\n",
    "\n",
    "Файл /datasets/visitors.csv. \n",
    "\n",
    "* date — дата;\n",
    "* group — группа A/B-теста;\n",
    "* visitors — количество пользователей в указанную дату в указанной группе A/B-теста"
   ]
  },
  {
   "cell_type": "markdown",
   "metadata": {},
   "source": [
    "## Часть 1. Приоритизация гипотез."
   ]
  },
  {
   "cell_type": "code",
   "execution_count": 1,
   "metadata": {},
   "outputs": [],
   "source": [
    "import pandas as pd \n",
    "import datetime as dt\n",
    "import numpy as np\n",
    "import matplotlib.pyplot as plt\n",
    "import scipy.stats as stats"
   ]
  },
  {
   "cell_type": "code",
   "execution_count": 2,
   "metadata": {},
   "outputs": [
    {
     "data": {
      "text/plain": [
       "0    Добавить два новых канала привлечения трафика,...\n",
       "1    Запустить собственную службу доставки, что сок...\n",
       "2    Добавить блоки рекомендаций товаров на сайт ин...\n",
       "3    Изменить структура категорий, что увеличит кон...\n",
       "4    Изменить цвет фона главной страницы, чтобы уве...\n",
       "5    Добавить страницу отзывов клиентов о магазине,...\n",
       "6    Показать на главной странице баннеры с актуаль...\n",
       "7    Добавить форму подписки на все основные страни...\n",
       "8    Запустить акцию, дающую скидку на товар в день...\n",
       "Name: Hypothesis, dtype: object"
      ]
     },
     "execution_count": 2,
     "metadata": {},
     "output_type": "execute_result"
    }
   ],
   "source": [
    "#скачаем датасет и посмотрим на него\n",
    "data = pd.read_csv('/datasets/hypothesis.csv')\n",
    "data['Hypothesis']"
   ]
  },
  {
   "cell_type": "markdown",
   "metadata": {},
   "source": [
    "Так как данные вполне корректны и не требуют продолжим дальнейший анализ. \n",
    "\n",
    "Применим фрейвор ICE для приоритезации гипотез"
   ]
  },
  {
   "cell_type": "code",
   "execution_count": 3,
   "metadata": {},
   "outputs": [
    {
     "data": {
      "text/html": [
       "<div>\n",
       "<style scoped>\n",
       "    .dataframe tbody tr th:only-of-type {\n",
       "        vertical-align: middle;\n",
       "    }\n",
       "\n",
       "    .dataframe tbody tr th {\n",
       "        vertical-align: top;\n",
       "    }\n",
       "\n",
       "    .dataframe thead th {\n",
       "        text-align: right;\n",
       "    }\n",
       "</style>\n",
       "<table border=\"1\" class=\"dataframe\">\n",
       "  <thead>\n",
       "    <tr style=\"text-align: right;\">\n",
       "      <th></th>\n",
       "      <th>Hypothesis</th>\n",
       "      <th>ICE</th>\n",
       "    </tr>\n",
       "  </thead>\n",
       "  <tbody>\n",
       "    <tr>\n",
       "      <th>8</th>\n",
       "      <td>Запустить акцию, дающую скидку на товар в день...</td>\n",
       "      <td>16.20</td>\n",
       "    </tr>\n",
       "    <tr>\n",
       "      <th>0</th>\n",
       "      <td>Добавить два новых канала привлечения трафика,...</td>\n",
       "      <td>13.33</td>\n",
       "    </tr>\n",
       "    <tr>\n",
       "      <th>7</th>\n",
       "      <td>Добавить форму подписки на все основные страни...</td>\n",
       "      <td>11.20</td>\n",
       "    </tr>\n",
       "    <tr>\n",
       "      <th>6</th>\n",
       "      <td>Показать на главной странице баннеры с актуаль...</td>\n",
       "      <td>8.00</td>\n",
       "    </tr>\n",
       "    <tr>\n",
       "      <th>2</th>\n",
       "      <td>Добавить блоки рекомендаций товаров на сайт ин...</td>\n",
       "      <td>7.00</td>\n",
       "    </tr>\n",
       "    <tr>\n",
       "      <th>1</th>\n",
       "      <td>Запустить собственную службу доставки, что сок...</td>\n",
       "      <td>2.00</td>\n",
       "    </tr>\n",
       "    <tr>\n",
       "      <th>5</th>\n",
       "      <td>Добавить страницу отзывов клиентов о магазине,...</td>\n",
       "      <td>1.33</td>\n",
       "    </tr>\n",
       "    <tr>\n",
       "      <th>3</th>\n",
       "      <td>Изменить структура категорий, что увеличит кон...</td>\n",
       "      <td>1.12</td>\n",
       "    </tr>\n",
       "    <tr>\n",
       "      <th>4</th>\n",
       "      <td>Изменить цвет фона главной страницы, чтобы уве...</td>\n",
       "      <td>1.00</td>\n",
       "    </tr>\n",
       "  </tbody>\n",
       "</table>\n",
       "</div>"
      ],
      "text/plain": [
       "                                          Hypothesis    ICE\n",
       "8  Запустить акцию, дающую скидку на товар в день...  16.20\n",
       "0  Добавить два новых канала привлечения трафика,...  13.33\n",
       "7  Добавить форму подписки на все основные страни...  11.20\n",
       "6  Показать на главной странице баннеры с актуаль...   8.00\n",
       "2  Добавить блоки рекомендаций товаров на сайт ин...   7.00\n",
       "1  Запустить собственную службу доставки, что сок...   2.00\n",
       "5  Добавить страницу отзывов клиентов о магазине,...   1.33\n",
       "3  Изменить структура категорий, что увеличит кон...   1.12\n",
       "4  Изменить цвет фона главной страницы, чтобы уве...   1.00"
      ]
     },
     "execution_count": 3,
     "metadata": {},
     "output_type": "execute_result"
    }
   ],
   "source": [
    "data['ICE']=round((data['Impact']*data['Confidence'])/data['Efforts'],2)\n",
    "data[['Hypothesis','ICE']].sort_values(by='ICE',ascending=False)"
   ]
  },
  {
   "cell_type": "markdown",
   "metadata": {},
   "source": [
    "Применим фрейвор RICE для приоритезации гипотез"
   ]
  },
  {
   "cell_type": "code",
   "execution_count": 4,
   "metadata": {},
   "outputs": [
    {
     "data": {
      "text/html": [
       "<div>\n",
       "<style scoped>\n",
       "    .dataframe tbody tr th:only-of-type {\n",
       "        vertical-align: middle;\n",
       "    }\n",
       "\n",
       "    .dataframe tbody tr th {\n",
       "        vertical-align: top;\n",
       "    }\n",
       "\n",
       "    .dataframe thead th {\n",
       "        text-align: right;\n",
       "    }\n",
       "</style>\n",
       "<table border=\"1\" class=\"dataframe\">\n",
       "  <thead>\n",
       "    <tr style=\"text-align: right;\">\n",
       "      <th></th>\n",
       "      <th>Hypothesis</th>\n",
       "      <th>RICE</th>\n",
       "    </tr>\n",
       "  </thead>\n",
       "  <tbody>\n",
       "    <tr>\n",
       "      <th>7</th>\n",
       "      <td>Добавить форму подписки на все основные страни...</td>\n",
       "      <td>112.0</td>\n",
       "    </tr>\n",
       "    <tr>\n",
       "      <th>2</th>\n",
       "      <td>Добавить блоки рекомендаций товаров на сайт ин...</td>\n",
       "      <td>56.0</td>\n",
       "    </tr>\n",
       "    <tr>\n",
       "      <th>0</th>\n",
       "      <td>Добавить два новых канала привлечения трафика,...</td>\n",
       "      <td>40.0</td>\n",
       "    </tr>\n",
       "    <tr>\n",
       "      <th>6</th>\n",
       "      <td>Показать на главной странице баннеры с актуаль...</td>\n",
       "      <td>40.0</td>\n",
       "    </tr>\n",
       "    <tr>\n",
       "      <th>8</th>\n",
       "      <td>Запустить акцию, дающую скидку на товар в день...</td>\n",
       "      <td>16.2</td>\n",
       "    </tr>\n",
       "    <tr>\n",
       "      <th>3</th>\n",
       "      <td>Изменить структура категорий, что увеличит кон...</td>\n",
       "      <td>9.0</td>\n",
       "    </tr>\n",
       "    <tr>\n",
       "      <th>1</th>\n",
       "      <td>Запустить собственную службу доставки, что сок...</td>\n",
       "      <td>4.0</td>\n",
       "    </tr>\n",
       "    <tr>\n",
       "      <th>5</th>\n",
       "      <td>Добавить страницу отзывов клиентов о магазине,...</td>\n",
       "      <td>4.0</td>\n",
       "    </tr>\n",
       "    <tr>\n",
       "      <th>4</th>\n",
       "      <td>Изменить цвет фона главной страницы, чтобы уве...</td>\n",
       "      <td>3.0</td>\n",
       "    </tr>\n",
       "  </tbody>\n",
       "</table>\n",
       "</div>"
      ],
      "text/plain": [
       "                                          Hypothesis   RICE\n",
       "7  Добавить форму подписки на все основные страни...  112.0\n",
       "2  Добавить блоки рекомендаций товаров на сайт ин...   56.0\n",
       "0  Добавить два новых канала привлечения трафика,...   40.0\n",
       "6  Показать на главной странице баннеры с актуаль...   40.0\n",
       "8  Запустить акцию, дающую скидку на товар в день...   16.2\n",
       "3  Изменить структура категорий, что увеличит кон...    9.0\n",
       "1  Запустить собственную службу доставки, что сок...    4.0\n",
       "5  Добавить страницу отзывов клиентов о магазине,...    4.0\n",
       "4  Изменить цвет фона главной страницы, чтобы уве...    3.0"
      ]
     },
     "execution_count": 4,
     "metadata": {},
     "output_type": "execute_result"
    }
   ],
   "source": [
    "data['RICE']=(data['Reach']*data['Impact']*data['Confidence'])/data['Efforts']\n",
    "data[['Hypothesis','RICE']].sort_values(by='RICE',ascending=False)"
   ]
  },
  {
   "cell_type": "markdown",
   "metadata": {},
   "source": [
    "Укажите, как изменилась приоритизация гипотез при применении RICE вместо ICE? \n",
    "При приоритезации методом RICE на первое место вышла гипотеза \"Добавить форму подписки на все основные страни..\" с \"Добавить блоки рекомендаций товаров на сайт\" , хоть ранее она занимала 5 позицию. Это связано с тем, что RICE учитывает не только влияние и уверенность во влиянии на изменения, но и количество людей, которое оно затронет. Для тестированияможно взять гипотезу о добавлении формы подписки на все основые страницы и добавлении блока рекоментаций товаров на сайт."
   ]
  },
  {
   "cell_type": "markdown",
   "metadata": {},
   "source": [
    "## Часть 2. Анализ A/B-теста"
   ]
  },
  {
   "cell_type": "markdown",
   "metadata": {},
   "source": [
    "### Предобработка данных"
   ]
  },
  {
   "cell_type": "code",
   "execution_count": 5,
   "metadata": {},
   "outputs": [
    {
     "name": "stdout",
     "output_type": "stream",
     "text": [
      "Количество пустых ячеек: transactionId    0\n",
      "visitorId        0\n",
      "date             0\n",
      "revenue          0\n",
      "group            0\n",
      "dtype: int64\n",
      "Количество дубликатов: 0\n",
      "<class 'pandas.core.frame.DataFrame'>\n",
      "RangeIndex: 1197 entries, 0 to 1196\n",
      "Data columns (total 5 columns):\n",
      " #   Column         Non-Null Count  Dtype \n",
      "---  ------         --------------  ----- \n",
      " 0   transactionId  1197 non-null   int64 \n",
      " 1   visitorId      1197 non-null   int64 \n",
      " 2   date           1197 non-null   object\n",
      " 3   revenue        1197 non-null   int64 \n",
      " 4   group          1197 non-null   object\n",
      "dtypes: int64(3), object(2)\n",
      "memory usage: 46.9+ KB\n"
     ]
    },
    {
     "data": {
      "text/html": [
       "<div>\n",
       "<style scoped>\n",
       "    .dataframe tbody tr th:only-of-type {\n",
       "        vertical-align: middle;\n",
       "    }\n",
       "\n",
       "    .dataframe tbody tr th {\n",
       "        vertical-align: top;\n",
       "    }\n",
       "\n",
       "    .dataframe thead th {\n",
       "        text-align: right;\n",
       "    }\n",
       "</style>\n",
       "<table border=\"1\" class=\"dataframe\">\n",
       "  <thead>\n",
       "    <tr style=\"text-align: right;\">\n",
       "      <th></th>\n",
       "      <th>transactionId</th>\n",
       "      <th>visitorId</th>\n",
       "      <th>date</th>\n",
       "      <th>revenue</th>\n",
       "      <th>group</th>\n",
       "    </tr>\n",
       "  </thead>\n",
       "  <tbody>\n",
       "    <tr>\n",
       "      <th>0</th>\n",
       "      <td>3667963787</td>\n",
       "      <td>3312258926</td>\n",
       "      <td>2019-08-15</td>\n",
       "      <td>1650</td>\n",
       "      <td>B</td>\n",
       "    </tr>\n",
       "    <tr>\n",
       "      <th>1</th>\n",
       "      <td>2804400009</td>\n",
       "      <td>3642806036</td>\n",
       "      <td>2019-08-15</td>\n",
       "      <td>730</td>\n",
       "      <td>B</td>\n",
       "    </tr>\n",
       "    <tr>\n",
       "      <th>2</th>\n",
       "      <td>2961555356</td>\n",
       "      <td>4069496402</td>\n",
       "      <td>2019-08-15</td>\n",
       "      <td>400</td>\n",
       "      <td>A</td>\n",
       "    </tr>\n",
       "    <tr>\n",
       "      <th>3</th>\n",
       "      <td>3797467345</td>\n",
       "      <td>1196621759</td>\n",
       "      <td>2019-08-15</td>\n",
       "      <td>9759</td>\n",
       "      <td>B</td>\n",
       "    </tr>\n",
       "    <tr>\n",
       "      <th>4</th>\n",
       "      <td>2282983706</td>\n",
       "      <td>2322279887</td>\n",
       "      <td>2019-08-15</td>\n",
       "      <td>2308</td>\n",
       "      <td>B</td>\n",
       "    </tr>\n",
       "  </tbody>\n",
       "</table>\n",
       "</div>"
      ],
      "text/plain": [
       "   transactionId   visitorId        date  revenue group\n",
       "0     3667963787  3312258926  2019-08-15     1650     B\n",
       "1     2804400009  3642806036  2019-08-15      730     B\n",
       "2     2961555356  4069496402  2019-08-15      400     A\n",
       "3     3797467345  1196621759  2019-08-15     9759     B\n",
       "4     2282983706  2322279887  2019-08-15     2308     B"
      ]
     },
     "execution_count": 5,
     "metadata": {},
     "output_type": "execute_result"
    }
   ],
   "source": [
    "#скачаем датасет и проведем предобработку\n",
    "orders = pd.read_csv('/datasets/orders.csv')\n",
    "print(\"Количество пустых ячеек:\",orders.isnull().sum())\n",
    "print(\"Количество дубликатов:\",orders.duplicated().sum())\n",
    "\n",
    "orders.info()\n",
    "orders.head(5)"
   ]
  },
  {
   "cell_type": "markdown",
   "metadata": {},
   "source": [
    "С данными все хорошо, но нужно исправить формат для столбца data с object на datetime"
   ]
  },
  {
   "cell_type": "code",
   "execution_count": 6,
   "metadata": {},
   "outputs": [
    {
     "name": "stdout",
     "output_type": "stream",
     "text": [
      "<class 'pandas.core.frame.DataFrame'>\n",
      "RangeIndex: 1197 entries, 0 to 1196\n",
      "Data columns (total 5 columns):\n",
      " #   Column         Non-Null Count  Dtype         \n",
      "---  ------         --------------  -----         \n",
      " 0   transactionId  1197 non-null   int64         \n",
      " 1   visitorId      1197 non-null   int64         \n",
      " 2   date           1197 non-null   datetime64[ns]\n",
      " 3   revenue        1197 non-null   int64         \n",
      " 4   group          1197 non-null   object        \n",
      "dtypes: datetime64[ns](1), int64(3), object(1)\n",
      "memory usage: 46.9+ KB\n"
     ]
    }
   ],
   "source": [
    "orders[\"date\"] = orders[\"date\"].map(lambda x: dt.datetime.strptime(x, '%Y-%m-%d'))\n",
    "orders.info()"
   ]
  },
  {
   "cell_type": "code",
   "execution_count": 7,
   "metadata": {},
   "outputs": [
    {
     "name": "stdout",
     "output_type": "stream",
     "text": [
      "Количество пустых ячеек: date        0\n",
      "group       0\n",
      "visitors    0\n",
      "dtype: int64\n",
      "Количество дубликатов: 0\n",
      "<class 'pandas.core.frame.DataFrame'>\n",
      "RangeIndex: 62 entries, 0 to 61\n",
      "Data columns (total 3 columns):\n",
      " #   Column    Non-Null Count  Dtype \n",
      "---  ------    --------------  ----- \n",
      " 0   date      62 non-null     object\n",
      " 1   group     62 non-null     object\n",
      " 2   visitors  62 non-null     int64 \n",
      "dtypes: int64(1), object(2)\n",
      "memory usage: 1.6+ KB\n"
     ]
    },
    {
     "data": {
      "text/html": [
       "<div>\n",
       "<style scoped>\n",
       "    .dataframe tbody tr th:only-of-type {\n",
       "        vertical-align: middle;\n",
       "    }\n",
       "\n",
       "    .dataframe tbody tr th {\n",
       "        vertical-align: top;\n",
       "    }\n",
       "\n",
       "    .dataframe thead th {\n",
       "        text-align: right;\n",
       "    }\n",
       "</style>\n",
       "<table border=\"1\" class=\"dataframe\">\n",
       "  <thead>\n",
       "    <tr style=\"text-align: right;\">\n",
       "      <th></th>\n",
       "      <th>date</th>\n",
       "      <th>group</th>\n",
       "      <th>visitors</th>\n",
       "    </tr>\n",
       "  </thead>\n",
       "  <tbody>\n",
       "    <tr>\n",
       "      <th>0</th>\n",
       "      <td>2019-08-01</td>\n",
       "      <td>A</td>\n",
       "      <td>719</td>\n",
       "    </tr>\n",
       "    <tr>\n",
       "      <th>1</th>\n",
       "      <td>2019-08-02</td>\n",
       "      <td>A</td>\n",
       "      <td>619</td>\n",
       "    </tr>\n",
       "    <tr>\n",
       "      <th>2</th>\n",
       "      <td>2019-08-03</td>\n",
       "      <td>A</td>\n",
       "      <td>507</td>\n",
       "    </tr>\n",
       "    <tr>\n",
       "      <th>3</th>\n",
       "      <td>2019-08-04</td>\n",
       "      <td>A</td>\n",
       "      <td>717</td>\n",
       "    </tr>\n",
       "    <tr>\n",
       "      <th>4</th>\n",
       "      <td>2019-08-05</td>\n",
       "      <td>A</td>\n",
       "      <td>756</td>\n",
       "    </tr>\n",
       "  </tbody>\n",
       "</table>\n",
       "</div>"
      ],
      "text/plain": [
       "         date group  visitors\n",
       "0  2019-08-01     A       719\n",
       "1  2019-08-02     A       619\n",
       "2  2019-08-03     A       507\n",
       "3  2019-08-04     A       717\n",
       "4  2019-08-05     A       756"
      ]
     },
     "execution_count": 7,
     "metadata": {},
     "output_type": "execute_result"
    }
   ],
   "source": [
    "#скачаем датасет и проведем предобработку\n",
    "visits = pd.read_csv('/datasets/visitors.csv') \n",
    "print(\"Количество пустых ячеек:\",visits.isnull().sum())\n",
    "print(\"Количество дубликатов:\",visits.duplicated().sum())\n",
    "\n",
    "visits.info()\n",
    "visits.head(5)"
   ]
  },
  {
   "cell_type": "markdown",
   "metadata": {},
   "source": [
    "Аналогичено предыдущему набору исправит формат столбца "
   ]
  },
  {
   "cell_type": "code",
   "execution_count": 8,
   "metadata": {},
   "outputs": [
    {
     "name": "stdout",
     "output_type": "stream",
     "text": [
      "<class 'pandas.core.frame.DataFrame'>\n",
      "RangeIndex: 62 entries, 0 to 61\n",
      "Data columns (total 3 columns):\n",
      " #   Column    Non-Null Count  Dtype         \n",
      "---  ------    --------------  -----         \n",
      " 0   date      62 non-null     datetime64[ns]\n",
      " 1   group     62 non-null     object        \n",
      " 2   visitors  62 non-null     int64         \n",
      "dtypes: datetime64[ns](1), int64(1), object(1)\n",
      "memory usage: 1.6+ KB\n"
     ]
    }
   ],
   "source": [
    "visits[\"date\"] = visits[\"date\"].map(lambda x: dt.datetime.strptime(x, '%Y-%m-%d'))\n",
    "visits.info()"
   ]
  },
  {
   "cell_type": "markdown",
   "metadata": {},
   "source": [
    "Предобработка завершина, можем приступать к дальнейшему анализу."
   ]
  },
  {
   "cell_type": "markdown",
   "metadata": {},
   "source": [
    "### Построим график кумулятивной выручки по группам."
   ]
  },
  {
   "cell_type": "code",
   "execution_count": 9,
   "metadata": {},
   "outputs": [
    {
     "name": "stdout",
     "output_type": "stream",
     "text": [
      "        date group  orders  buyers  revenue  visitors\n",
      "0 2019-08-01     A      24      20   148579       719\n",
      "1 2019-08-01     B      21      20   101217       713\n",
      "2 2019-08-02     A      44      38   242401      1338\n",
      "3 2019-08-02     B      45      43   266748      1294\n",
      "4 2019-08-03     A      68      62   354874      1845\n"
     ]
    }
   ],
   "source": [
    "# создаем массив уникальных пар значений дат и групп теста\n",
    "datesGroups = orders[['date','group']].drop_duplicates()\n",
    "\n",
    "# получаем агрегированные кумулятивные по дням данные о заказах \n",
    "ordersAggregated = datesGroups.apply(lambda x: orders[np.logical_and(orders['date'] <= x['date'], orders['group'] == x['group'])].agg({'date' : 'max', 'group' : 'max', 'transactionId' : 'nunique', 'visitorId' : 'nunique', 'revenue' : 'sum'}), axis=1).sort_values(by=['date','group'])\n",
    "\n",
    "# получаем агрегированные кумулятивные по дням данные о посетителях интернет-магазина \n",
    "visitsAggregated = datesGroups.apply(lambda x: visits[np.logical_and(visits['date'] <= x['date'], visits['group'] == x['group'])].agg({'date' : 'max', 'group' : 'max', 'visitors' : 'sum'}), axis=1).sort_values(by=['date','group'])\n",
    "\n",
    "# объединяем кумулятивные данные в одной таблице и присваиваем ее столбцам понятные названия\n",
    "cumulativeData = ordersAggregated.merge(visitsAggregated, left_on=['date', 'group'], right_on=['date', 'group'])\n",
    "cumulativeData.columns = ['date', 'group', 'orders', 'buyers', 'revenue', 'visitors']\n",
    "\n",
    "print(cumulativeData.head(5))"
   ]
  },
  {
   "cell_type": "code",
   "execution_count": 10,
   "metadata": {},
   "outputs": [
    {
     "data": {
      "text/plain": [
       "<matplotlib.legend.Legend at 0x7f7b6a3a0d90>"
      ]
     },
     "execution_count": 10,
     "metadata": {},
     "output_type": "execute_result"
    },
    {
     "data": {
      "image/png": "[encoded data removed]",
      "text/plain": [
       "<Figure size 1080x360 with 1 Axes>"
      ]
     },
     "metadata": {
      "needs_background": "light"
     },
     "output_type": "display_data"
    }
   ],
   "source": [
    "# датафрейм с кумулятивным количеством заказов и кумулятивной выручкой по дням в группе А\n",
    "cumulativeRevenueA = cumulativeData[cumulativeData['group']=='A'][['date','revenue', 'orders']]\n",
    "\n",
    "# датафрейм с кумулятивным количеством заказов и кумулятивной выручкой по дням в группе B\n",
    "cumulativeRevenueB = cumulativeData[cumulativeData['group']=='B'][['date','revenue', 'orders']]\n",
    "\n",
    "plt.figure(figsize=(15,5))\n",
    "plt.grid()\n",
    "plt.title (\"График кумулятивной выручки по группам\")\n",
    "plt.xlabel('Дата')\n",
    "plt.ylabel('Количество')\n",
    "# Строим график выручки группы А\n",
    "plt.plot(cumulativeRevenueA['date'], cumulativeRevenueA['revenue'], label='A')\n",
    "\n",
    "# Строим график выручки группы B\n",
    "plt.plot(cumulativeRevenueB['date'], cumulativeRevenueB['revenue'], label='B')\n",
    "\n",
    "\n",
    "plt.legend() "
   ]
  },
  {
   "cell_type": "markdown",
   "metadata": {},
   "source": [
    "**Выручка почти равномерно увеличивается в течение всего теста. Хороший знак. В начале видно, что выручка группы группы B растет быстрее, чем группы А. Это можно наблюдать и в дальнейшем. Однако графики выручки группы B резко расстет в некоторых точках. Это может сигнализировать о всплесках числа заказов, либо о появлении очень дорогих заказов в выборке.** \n"
   ]
  },
  {
   "cell_type": "markdown",
   "metadata": {},
   "source": [
    "### Построим график кумулятивного среднего чека по группам."
   ]
  },
  {
   "cell_type": "code",
   "execution_count": 11,
   "metadata": {},
   "outputs": [
    {
     "data": {
      "text/plain": [
       "<matplotlib.legend.Legend at 0x7f7b69e6fbb0>"
      ]
     },
     "execution_count": 11,
     "metadata": {},
     "output_type": "execute_result"
    },
    {
     "data": {
      "image/png": "[encoded data removed]",
      "text/plain": [
       "<Figure size 1080x360 with 1 Axes>"
      ]
     },
     "metadata": {
      "needs_background": "light"
     },
     "output_type": "display_data"
    }
   ],
   "source": [
    "plt.figure(figsize=(15,5))\n",
    "plt.grid()\n",
    "plt.title (\"График кумулятивного среднего чека по группам\")\n",
    "plt.xlabel('Дата')\n",
    "plt.ylabel('Количество')\n",
    "\n",
    "plt.plot(cumulativeRevenueA['date'], cumulativeRevenueA['revenue']/cumulativeRevenueA['orders'], label='A')\n",
    "plt.plot(cumulativeRevenueB['date'], cumulativeRevenueB['revenue']/cumulativeRevenueB['orders'], label='B')\n",
    "plt.legend()"
   ]
  },
  {
   "cell_type": "markdown",
   "metadata": {},
   "source": [
    "**График очень неравномерный на всем промежутке и становится более плавным к концу эксперемента. Нужно большое данных, чтобы прийти к реальному среднему чеку и установиться на его уровне. Можно отметить, что как и на предыдущем графики: группа B берет преимущество над группой А, однако можно заметить и противоположную ситуцаию, например, 09-09-2019. Также можно заметить, что у группы B был резкий всплеск 18 или 19 августа, который связан с какой-то крупной продажей.**\n"
   ]
  },
  {
   "cell_type": "markdown",
   "metadata": {},
   "source": [
    "### Построим график относительного изменения кумулятивного среднего чека группы B к группе A"
   ]
  },
  {
   "cell_type": "code",
   "execution_count": 12,
   "metadata": {},
   "outputs": [
    {
     "data": {
      "text/plain": [
       "<matplotlib.lines.Line2D at 0x7f7b69fd7130>"
      ]
     },
     "execution_count": 12,
     "metadata": {},
     "output_type": "execute_result"
    },
    {
     "data": {
      "image/png": "[encoded data removed]",
      "text/plain": [
       "<Figure size 1080x360 with 1 Axes>"
      ]
     },
     "metadata": {
      "needs_background": "light"
     },
     "output_type": "display_data"
    }
   ],
   "source": [
    "# собираем данные в одном датафрейме\n",
    "mergedCumulativeRevenue = cumulativeRevenueA.merge(cumulativeRevenueB, left_on='date', right_on='date', how='left', suffixes=['A', 'B'])\n",
    "\n",
    "plt.figure(figsize=(15,5))\n",
    "plt.grid()\n",
    "plt.title (\"График относительного изменения кумулятивного среднего чека группы B к группе A\")\n",
    "plt.xlabel('Дата')\n",
    "plt.ylabel('Количество')\n",
    "\n",
    "# cтроим отношение средних чеков\n",
    "plt.plot(mergedCumulativeRevenue['date'], (mergedCumulativeRevenue['revenueB']/mergedCumulativeRevenue['ordersB'])/(mergedCumulativeRevenue['revenueA']/mergedCumulativeRevenue['ordersA'])-1)\n",
    "\n",
    "# добавляем ось X\n",
    "plt.axhline(y=0, color='black', linestyle='--') "
   ]
  },
  {
   "cell_type": "markdown",
   "metadata": {},
   "source": [
    "**График полностю подтверждает предыдущие. На нем мы также видем, что группа А привысила средний чек группы В примерно в период с 12-14 августа, но вдальнейшем группа Б все равно вырвалась в период, особенно учитывая резкий скачок в продажах в период с 18 по 20 августа. К концу месяца замечается снижение лидрской позиии группы В, возможно в дальнейшем группа сможем его опередить по превышению среднего чека.** \n"
   ]
  },
  {
   "cell_type": "markdown",
   "metadata": {},
   "source": [
    "### Построим график кумулятивного среднего количества заказов на посетителя по группам."
   ]
  },
  {
   "cell_type": "code",
   "execution_count": 13,
   "metadata": {},
   "outputs": [
    {
     "data": {
      "text/plain": [
       "<matplotlib.legend.Legend at 0x7f7b69f70760>"
      ]
     },
     "execution_count": 13,
     "metadata": {},
     "output_type": "execute_result"
    },
    {
     "data": {
      "image/png": "[encoded data removed]",
      "text/plain": [
       "<Figure size 1080x360 with 1 Axes>"
      ]
     },
     "metadata": {
      "needs_background": "light"
     },
     "output_type": "display_data"
    }
   ],
   "source": [
    "# считаем кумулятивную конверсию\n",
    "cumulativeData['conversion'] = cumulativeData['orders']/cumulativeData['visitors']\n",
    "\n",
    "# отделяем данные по группе A\n",
    "cumulativeDataA = cumulativeData[cumulativeData['group']=='A']\n",
    "\n",
    "# отделяем данные по группе B\n",
    "cumulativeDataB = cumulativeData[cumulativeData['group']=='B']\n",
    "\n",
    "# строим графики\n",
    "plt.figure(figsize=(15,5))\n",
    "plt.grid()\n",
    "plt.xlabel('Дата')\n",
    "plt.ylabel('Конверсия')\n",
    "plt.title (\"График кумулятивного среднего количества заказов на посетителя по группам\")\n",
    "plt.plot(cumulativeDataA['date'], cumulativeDataA['conversion'], label='A')\n",
    "plt.plot(cumulativeDataB['date'], cumulativeDataB['conversion'], label='B')\n",
    "plt.legend()\n",
    "\n"
   ]
  },
  {
   "cell_type": "markdown",
   "metadata": {},
   "source": [
    "**В начале месяца можно заметить, что конверсия группы А превышает конверсию группы В. Примерно 6 августа они пересекаются и лидером становится группа В.  10 августа конверсия группы Б выросла до пика своего значения - выше 0,036. А группа А примерно 15 августа достигла своего минимального значения - меньше 0,029**\n",
    " "
   ]
  },
  {
   "cell_type": "markdown",
   "metadata": {},
   "source": []
  },
  {
   "cell_type": "markdown",
   "metadata": {},
   "source": [
    "### Построим график относительного изменения кумулятивного среднего количества заказов на посетителя группы B к группе A."
   ]
  },
  {
   "cell_type": "code",
   "execution_count": 14,
   "metadata": {},
   "outputs": [
    {
     "data": {
      "text/plain": [
       "<matplotlib.lines.Line2D at 0x7f7b5e630a60>"
      ]
     },
     "execution_count": 14,
     "metadata": {},
     "output_type": "execute_result"
    },
    {
     "data": {
      "image/png": "[encoded data removed]",
      "text/plain": [
       "<Figure size 1080x360 with 1 Axes>"
      ]
     },
     "metadata": {
      "needs_background": "light"
     },
     "output_type": "display_data"
    }
   ],
   "source": [
    "mergedCumulativeConversions = cumulativeDataA[['date','conversion']].merge(cumulativeDataB[['date','conversion']], left_on='date', right_on='date', how='left', suffixes=['A', 'B'])\n",
    "\n",
    "\n",
    "plt.figure(figsize=(15,5))\n",
    "plt.grid()\n",
    "plt.xlabel('Дата')\n",
    "plt.ylabel('Конверсия')\n",
    "plt.title (\"График относительного изменения кумулятивного среднего количества заказов на посетителя группы B к группе A\")\n",
    "plt.plot(mergedCumulativeConversions['date'], mergedCumulativeConversions['conversionB']/mergedCumulativeConversions['conversionA']-1, label=\"Относительный прирост конверсии группы B относительно группы A\")\n",
    "plt.legend()\n",
    "plt.axhline(y=0, color='black', linestyle='--')\n",
    "plt.axhline(y=-0.1, color='grey', linestyle='--')\n"
   ]
  },
  {
   "cell_type": "markdown",
   "metadata": {},
   "source": [
    "**Как и на прошлом графике мы видем, что 1 августа и в период с 3 по 5 августа конверсия группы А была больше группы В примерно на 5-10%. 2 августа был всплекс конверсии группы В, аналогично группе А. После 6 августа конверсия группы В начала увеличиваться и сильно привысила конверсию группы А.** \n"
   ]
  },
  {
   "cell_type": "markdown",
   "metadata": {},
   "source": [
    "### Построим точечный график количества заказов по пользователям. "
   ]
  },
  {
   "cell_type": "code",
   "execution_count": 15,
   "metadata": {},
   "outputs": [
    {
     "data": {
      "text/plain": [
       "<matplotlib.collections.PathCollection at 0x7f7b5e5a57f0>"
      ]
     },
     "execution_count": 15,
     "metadata": {},
     "output_type": "execute_result"
    },
    {
     "data": {
      "image/png": "[encoded data removed]",
      "text/plain": [
       "<Figure size 1080x360 with 1 Axes>"
      ]
     },
     "metadata": {
      "needs_background": "light"
     },
     "output_type": "display_data"
    }
   ],
   "source": [
    "ordersByUsers = (\n",
    "    orders.groupby('visitorId', as_index=False)\n",
    "    .agg({'transactionId': 'nunique'})\n",
    ")\n",
    "\n",
    "ordersByUsers.columns = ['userId', 'orders']\n",
    "\n",
    "x_values = pd.Series(range(0,len(ordersByUsers)))\n",
    "\n",
    "\n",
    "plt.figure(figsize=(15,5))\n",
    "plt.grid()\n",
    "plt.xlabel('Пользователи')\n",
    "plt.ylabel('Количество заказов')\n",
    "plt.title (\"Точечный график количества заказов\")\n",
    "plt.scatter(x_values, ordersByUsers['orders'])"
   ]
  },
  {
   "cell_type": "markdown",
   "metadata": {},
   "source": [
    "**На графике видно, что большая часть покупателей произвели 1 покупу, также небольшое количество призвело 2 покупки. Более 4 заказов совершили единицы пользователей, которых можно считать аномалиями. Посчитаем 95-й и 99-й процентали**"
   ]
  },
  {
   "cell_type": "markdown",
   "metadata": {},
   "source": []
  },
  {
   "cell_type": "markdown",
   "metadata": {},
   "source": [
    "### Посчитаем 95-й и 99-й перцентили количества заказов на пользователя. "
   ]
  },
  {
   "cell_type": "code",
   "execution_count": 16,
   "metadata": {},
   "outputs": [
    {
     "name": "stdout",
     "output_type": "stream",
     "text": [
      "95-й и 99-й перцентили количества заказов на пользователя: [2. 4.]\n"
     ]
    }
   ],
   "source": [
    "print(\"95-й и 99-й перцентили количества заказов на пользователя:\",np.percentile(ordersByUsers['orders'], [95, 99]))"
   ]
  },
  {
   "cell_type": "markdown",
   "metadata": {},
   "source": [
    "**Из этих значениев можно сделать вывод, что большее количество пользователей делают заказы в диапозоне 2-4 штук.За аномальные значения будем принимать значения больше 4**"
   ]
  },
  {
   "cell_type": "markdown",
   "metadata": {},
   "source": [
    "### Построим точечный график стоимостей заказов. "
   ]
  },
  {
   "cell_type": "code",
   "execution_count": 17,
   "metadata": {},
   "outputs": [
    {
     "data": {
      "text/plain": [
       "<matplotlib.collections.PathCollection at 0x7f7b5e5129a0>"
      ]
     },
     "execution_count": 17,
     "metadata": {},
     "output_type": "execute_result"
    },
    {
     "data": {
      "image/png": "[encoded data removed]",
      "text/plain": [
       "<Figure size 1080x360 with 1 Axes>"
      ]
     },
     "metadata": {
      "needs_background": "light"
     },
     "output_type": "display_data"
    }
   ],
   "source": [
    "x_values = pd.Series(range(0,len(orders['revenue'])))\n",
    "\n",
    "plt.figure(figsize=(15,5))\n",
    "plt.grid()\n",
    "plt.xlabel('Пользователи')\n",
    "plt.ylabel('Сумма заказа, млн. руб.')\n",
    "plt.title('График стоимостей заказов')\n",
    "plt.scatter(x_values, orders['revenue'], alpha=0.5)"
   ]
  },
  {
   "cell_type": "markdown",
   "metadata": {},
   "source": [
    "Уменьшем диапазон расмотрения, для этого исключим выбросы, которые привышают 1 млн. Но перед этим посмотрим аномальное значение привышающе 1,2 млн. "
   ]
  },
  {
   "cell_type": "code",
   "execution_count": 18,
   "metadata": {},
   "outputs": [
    {
     "name": "stdout",
     "output_type": "stream",
     "text": [
      "     transactionId   visitorId       date  revenue group\n",
      "425      590470918  1920142716 2019-08-19  1294500     B\n"
     ]
    }
   ],
   "source": [
    "print(orders.query('revenue >= 1000000'))"
   ]
  },
  {
   "cell_type": "markdown",
   "metadata": {},
   "source": [
    "Теперь стояло ясно с чем связан скачек среднего чека группы В в период с 18-20 августа. 19 августа был сделан заказ на суммы 1 294 500."
   ]
  },
  {
   "cell_type": "code",
   "execution_count": 19,
   "metadata": {},
   "outputs": [
    {
     "data": {
      "text/plain": [
       "<matplotlib.collections.PathCollection at 0x7f7b5e530d00>"
      ]
     },
     "execution_count": 19,
     "metadata": {},
     "output_type": "execute_result"
    },
    {
     "data": {
      "image/png": "[encoded data removed]",
      "text/plain": [
       "<Figure size 1080x360 with 1 Axes>"
      ]
     },
     "metadata": {
      "needs_background": "light"
     },
     "output_type": "display_data"
    }
   ],
   "source": [
    "orders_new = orders.query('revenue <= 1000000')\n",
    "x_values = pd.Series(range(0,len(orders_new['revenue'])))\n",
    "\n",
    "plt.figure(figsize=(15,5))\n",
    "plt.grid()\n",
    "plt.xlabel('Пользователи')\n",
    "plt.ylabel('Сумма заказа')\n",
    "plt.title('График стоимостей заказов')\n",
    "plt.scatter(x_values, orders_new['revenue'],alpha=0.5)"
   ]
  },
  {
   "cell_type": "markdown",
   "metadata": {},
   "source": [
    "Из этого графика видно, что аномальными можно считать заказы привышающие 50000, но более точно можно это посмотреть взяв 95 и 99 проценталь. "
   ]
  },
  {
   "cell_type": "markdown",
   "metadata": {},
   "source": []
  },
  {
   "cell_type": "markdown",
   "metadata": {},
   "source": [
    "### Посчитаем 95-й и 99-й перцентили стоимости заказов"
   ]
  },
  {
   "cell_type": "code",
   "execution_count": 20,
   "metadata": {},
   "outputs": [
    {
     "name": "stdout",
     "output_type": "stream",
     "text": [
      "95-й и 99-й перцентили стоимости заказов: [28000.  58233.2]\n"
     ]
    }
   ],
   "source": [
    "print(\"95-й и 99-й перцентили стоимости заказов:\",np.percentile(orders['revenue'], [95, 99]))"
   ]
  },
  {
   "cell_type": "markdown",
   "metadata": {},
   "source": [
    "**Теперь мы видим, что 99% заказов по стоимости меньше 58 233,2. А 95% заказов меньше 28 000**"
   ]
  },
  {
   "cell_type": "markdown",
   "metadata": {},
   "source": [
    "### Посчитайте статистическую значимость различий в среднем количестве заказов на посетителя между группами по «сырым» данным. "
   ]
  },
  {
   "cell_type": "markdown",
   "metadata": {},
   "source": [
    "Начнем с подготовки данных для работы"
   ]
  },
  {
   "cell_type": "code",
   "execution_count": 21,
   "metadata": {},
   "outputs": [],
   "source": [
    "visitorsADaily = visits[visits['group'] == 'A'][['date', 'visitors']]\n",
    "visitorsADaily.columns = ['date', 'visitorsPerDateA']\n",
    "\n",
    "#посчитатем количество пользователей  в группе A; \n",
    "visitorsACummulative = visitorsADaily.apply(\n",
    "    lambda x: visitorsADaily[visitorsADaily['date'] <= x['date']].agg(\n",
    "        {'date': 'max', 'visitorsPerDateA': 'sum'}\n",
    "    ),\n",
    "    axis=1,\n",
    ")\n",
    "visitorsACummulative.columns = ['date', 'visitorsCummulativeA']\n",
    "\n",
    "#проведем аналогичный посчет для группы В\n",
    "visitorsBDaily = visits[visits['group'] == 'B'][['date', 'visitors']]\n",
    "visitorsBDaily.columns = ['date', 'visitorsPerDateB']\n",
    "\n",
    "visitorsBCummulative = visitorsBDaily.apply(\n",
    "    lambda x: visitorsBDaily[visitorsBDaily['date'] <= x['date']].agg(\n",
    "        {'date': 'max', 'visitorsPerDateB': 'sum'}\n",
    "    ),\n",
    "    axis=1,\n",
    ")\n",
    "visitorsBCummulative.columns = ['date', 'visitorsCummulativeB']\n",
    "\n",
    "#посчитаем стоимость заказов для каждого пользователя группы А\n",
    "ordersADaily = (\n",
    "    orders[orders['group'] == 'A'][['date', 'transactionId', 'visitorId', 'revenue']]\n",
    "    .groupby('date', as_index=False)\n",
    "    .agg({'transactionId': pd.Series.nunique, 'revenue': 'sum'})\n",
    ")\n",
    "ordersADaily.columns = ['date', 'ordersPerDateA', 'revenuePerDateA']\n",
    "\n",
    "#посчиаем сумму на максимальную дату из периода для группы А\n",
    "ordersACummulative = ordersADaily.apply(\n",
    "    lambda x: ordersADaily[ordersADaily['date'] <= x['date']].agg(\n",
    "        {'date': 'max', 'ordersPerDateA': 'sum', 'revenuePerDateA': 'sum'}\n",
    "    ),\n",
    "    axis=1,\n",
    ").sort_values(by=['date'])\n",
    "ordersACummulative.columns = [\n",
    "    'date',\n",
    "    'ordersCummulativeA',\n",
    "    'revenueCummulativeA',\n",
    "]\n",
    "\n",
    "#проведем аналогичную операцию для группы В \n",
    "ordersBDaily = (\n",
    "    orders[orders['group'] == 'B'][['date', 'transactionId', 'visitorId', 'revenue']]\n",
    "    .groupby('date', as_index=False)\n",
    "    .agg({'transactionId': pd.Series.nunique, 'revenue': 'sum'})\n",
    ")\n",
    "ordersBDaily.columns = ['date', 'ordersPerDateB', 'revenuePerDateB']\n",
    "\n",
    "ordersBCummulative = ordersBDaily.apply(\n",
    "    lambda x: ordersBDaily[ordersBDaily['date'] <= x['date']].agg(\n",
    "        {'date': 'max', 'ordersPerDateB': 'sum', 'revenuePerDateB': 'sum'}\n",
    "    ),\n",
    "    axis=1,\n",
    ").sort_values(by=['date'])\n",
    "ordersBCummulative.columns = [\n",
    "    'date',\n",
    "    'ordersCummulativeB',\n",
    "    'revenueCummulativeB',\n",
    "]\n",
    "\n",
    "#объединим получивший результат в одну таблицу\n",
    "data = (\n",
    "    ordersADaily.merge(\n",
    "        ordersBDaily, left_on='date', right_on='date', how='left'\n",
    "    )\n",
    "    .merge(ordersACummulative, left_on='date', right_on='date', how='left')\n",
    "    .merge(ordersBCummulative, left_on='date', right_on='date', how='left')\n",
    "    .merge(visitorsADaily, left_on='date', right_on='date', how='left')\n",
    "    .merge(visitorsBDaily, left_on='date', right_on='date', how='left')\n",
    "    .merge(visitorsACummulative, left_on='date', right_on='date', how='left')\n",
    "    .merge(visitorsBCummulative, left_on='date', right_on='date', how='left')\n",
    ")\n",
    "\n",
    "ordersByUsersA = (\n",
    "    orders[orders['group'] == 'A']\n",
    "    .groupby('visitorId', as_index=False)\n",
    "    .agg({'transactionId': pd.Series.nunique})\n",
    ")\n",
    "ordersByUsersA.columns = ['visitorId', 'transactionId']\n",
    "\n",
    "ordersByUsersB = (\n",
    "    orders[orders['group'] == 'B']\n",
    "    .groupby('visitorId', as_index=False)\n",
    "    .agg({'transactionId': pd.Series.nunique})\n",
    ")\n",
    "ordersByUsersB.columns = ['visitorId', 'transactionId']\n",
    "\n"
   ]
  },
  {
   "cell_type": "markdown",
   "metadata": {},
   "source": [
    "Выдвинем нулевую гипотезу: \"Различий в среднем количестве заказов на посетителя между группами нет\". Альтернативная гипотеза будет звучать, как \"Различий в среднем количестве заказов на посетителя между группами есть\""
   ]
  },
  {
   "cell_type": "code",
   "execution_count": 22,
   "metadata": {},
   "outputs": [
    {
     "name": "stdout",
     "output_type": "stream",
     "text": [
      "Результаты исследования различий конверсий группы В и А:\n",
      "alpha = 0.05\n",
      "p-value = 0.017\n",
      "Относительный показатель 'B' и 'A' = 0.138\n"
     ]
    }
   ],
   "source": [
    "sampleA = pd.concat([ordersByUsersA['transactionId'],pd.Series(0, index=np.arange(data['visitorsPerDateA'].sum() - len(ordersByUsersA['transactionId'])), name='orders')],axis=0)\n",
    "\n",
    "sampleB = pd.concat([ordersByUsersB['transactionId'],pd.Series(0, index=np.arange(data['visitorsPerDateB'].sum() - len(ordersByUsersB['transactionId'])), name='orders')],axis=0)\n",
    "\n",
    "print('Результаты исследования различий конверсий группы В и А:')\n",
    "print(\"alpha =\",0.05)\n",
    "print(\"p-value = {0:.3f}\".format(stats.mannwhitneyu(sampleA, sampleB, alternative = 'two-sided')[1]))\n",
    "print(\"Относительный показатель 'B' и 'A' = {0:.3f}\".format(sampleB.mean()/sampleA.mean()-1)) "
   ]
  },
  {
   "cell_type": "markdown",
   "metadata": {},
   "source": [
    "**Из полученны результатов можно отвергать нулевую гипотезу о том, что среднее количестве заказов на посетителя между группами А и В не имеет различий. По \"сырым\" данным различие между конверсиями группы А и В есть, группа В привышает группу А на 13,8%** "
   ]
  },
  {
   "cell_type": "markdown",
   "metadata": {},
   "source": [
    "### Посчитаем статистическую значимость различий в среднем чеке заказа между группами по «сырым» данным."
   ]
  },
  {
   "cell_type": "markdown",
   "metadata": {},
   "source": [
    "Выдвинем нулевую гипотезу: \"Статическая значимость различий в среднем чеке заказов между группами отсутвует\"\n",
    "Альтернативная гипотеза: \"Статическая значимость различий в среднем чеке заказов между группами присутвует\""
   ]
  },
  {
   "cell_type": "code",
   "execution_count": 23,
   "metadata": {},
   "outputs": [
    {
     "name": "stdout",
     "output_type": "stream",
     "text": [
      "Результаты исследования различий в среднем чеке заказа между группами группы В и А(по сырым данным):\n",
      "alpha = 0.05\n",
      "p-value: 0.729\n",
      "Относительность показателей В и А = 0.259\n"
     ]
    }
   ],
   "source": [
    "print('Результаты исследования различий в среднем чеке заказа между группами группы В и А(по сырым данным):')\n",
    "print(\"alpha =\",0.05)\n",
    "print(\"p-value: {0:.3f}\".format(stats.mannwhitneyu(orders[orders['group']=='A']['revenue'], orders[orders['group']=='B']['revenue'])[1]))\n",
    "print(\"Относительность показателей В и А = {0:.3f}\".format(orders[orders['group']=='B']['revenue'].mean()/orders[orders['group']=='A']['revenue'].mean()-1))"
   ]
  },
  {
   "cell_type": "markdown",
   "metadata": {},
   "source": [
    "**Так как значение p-value больше 0,05, то смысла отвергать нулевую гипотезу нет.\n",
    "Вывод: Статическая значимость различий в среднем чеке заказов между группами по «сырым» данным нет. Однако нужно отметить, что средний чек группы В больше на группы на 25,9%**"
   ]
  },
  {
   "cell_type": "markdown",
   "metadata": {},
   "source": [
    "### Посчитам статистическую значимость различий в среднем количестве заказов на посетителя между группами по «очищенным» данным."
   ]
  },
  {
   "cell_type": "markdown",
   "metadata": {},
   "source": [
    "Для очищенных данных мы исключим пользователей, которые совершили больше 4 заказов и произвели покупку суммой больше 58233.2"
   ]
  },
  {
   "cell_type": "code",
   "execution_count": 24,
   "metadata": {},
   "outputs": [],
   "source": [
    "#сделаем срез пользователей,которые сделали больше 4 заказов\n",
    "usersWithManyOrders = pd.concat(\n",
    "    [\n",
    "        ordersByUsersA[ordersByUsersA['transactionId'] > 3]['visitorId'],\n",
    "        ordersByUsersB[ordersByUsersB['transactionId'] > 3]['visitorId'],\n",
    "    ],\n",
    "    axis=0,\n",
    ")\n",
    "\n",
    "#сделаем срез пользователей, которые сделали заказ на сумму больше\n",
    "usersWithExpensiveOrders = orders[orders['revenue'] > 58233.2]['visitorId']\n",
    "\n",
    "#объединим пользователей в одну таблицу \n",
    "abnormalUsers = (\n",
    "    pd.concat([usersWithManyOrders, usersWithExpensiveOrders], axis=0)\n",
    "    .drop_duplicates()\n",
    "    .sort_values()\n",
    ")\n"
   ]
  },
  {
   "cell_type": "markdown",
   "metadata": {},
   "source": [
    "Теперь посчитаем статистическую значимость различия средних чеков после удаления аномальных пользователей"
   ]
  },
  {
   "cell_type": "code",
   "execution_count": 25,
   "metadata": {},
   "outputs": [
    {
     "name": "stdout",
     "output_type": "stream",
     "text": [
      "Результаты различий в среднем количестве заказов на посетителя между группами группы В и А(по очищенным данным):\n",
      "alpha = 0.05\n",
      "p-value = 0.014\n",
      "Относительный показатель 'B' и 'A' = 0.151\n"
     ]
    }
   ],
   "source": [
    "sampleANew = pd.concat([ordersByUsersA[np.logical_not(ordersByUsersA['visitorId'].isin(abnormalUsers))]['transactionId'], \\\n",
    "                             pd.Series(0, index=np.arange(data['visitorsPerDateA'].sum() - len(ordersByUsersA['transactionId'])), \\\n",
    "                                       name='transactionId')],axis=0)\n",
    "\n",
    "sampleBNew = pd.concat([ordersByUsersB[np.logical_not(ordersByUsersB['visitorId'].isin(abnormalUsers))]['transactionId'], \\\n",
    "                             pd.Series(0, index=np.arange(data['visitorsPerDateB'].sum() - len(ordersByUsersB['transactionId'])), \\\n",
    "                                       name='transactionId')],axis=0) \n",
    "\n",
    "print('Результаты различий в среднем количестве заказов на посетителя между группами группы В и А(по очищенным данным):')\n",
    "print(\"alpha =\",0.05)\n",
    "print(\"p-value = {0:.3f}\".format(stats.mannwhitneyu(sampleANew, sampleBNew, alternative = 'two-sided')[1]))\n",
    "print(\"Относительный показатель 'B' и 'A' = {0:.3f}\".format(sampleBNew.mean()/sampleANew.mean()-1)) "
   ]
  },
  {
   "cell_type": "markdown",
   "metadata": {},
   "source": [
    "**Значение p-value сильно меньше значения alpha, поэтому можно опровергнуть нулевую гипотезу: статистическая значимость различий в среднем количестве заказов на посетителя между группами А и В есть. Причем конверсия группы В больше группы А примерно на 15,1%. Результаты не сильно отличаются от полученных при анализе на \"сырых\" данных.**"
   ]
  },
  {
   "cell_type": "markdown",
   "metadata": {},
   "source": [
    "### Посчитаем статистическую значимость различий в среднем чеке заказа между группами по «очищенным» данным. "
   ]
  },
  {
   "cell_type": "code",
   "execution_count": 26,
   "metadata": {},
   "outputs": [
    {
     "name": "stdout",
     "output_type": "stream",
     "text": [
      "Результаты исследования различий в среднем чеке заказа между группами группы В и А(по очищенным данным):\n",
      "alpha = 0.05\n",
      "p-value: 0.959\n",
      "Относительность показателей В и А = -0.014\n"
     ]
    }
   ],
   "source": [
    "print('Результаты исследования различий в среднем чеке заказа между группами группы В и А(по очищенным данным):')\n",
    "print(\"alpha =\",0.05)\n",
    "print(\"p-value: {0:.3f}\".format(\n",
    "        stats.mannwhitneyu(\n",
    "            orders[np.logical_and(\n",
    "                    orders['group'] == 'A',\n",
    "                    np.logical_not(orders['visitorId'].isin(abnormalUsers)),)]['revenue'],\n",
    "            orders[np.logical_and(\n",
    "                    orders['group'] == 'B',\n",
    "                    np.logical_not(orders['visitorId'].isin(abnormalUsers)),)]['revenue'],)[1]))\n",
    "\n",
    "print(\"Относительность показателей В и А = {0:.3f}\".format(\n",
    "        orders[np.logical_and(\n",
    "                orders['group'] == 'B',\n",
    "                np.logical_not(orders['visitorId'].isin(abnormalUsers)),)]['revenue'].mean()\n",
    "        / orders[np.logical_and(\n",
    "                orders['group'] == 'A',\n",
    "                np.logical_not(orders['visitorId'].isin(abnormalUsers)),\n",
    "            )]['revenue'].mean()- 1))"
   ]
  },
  {
   "cell_type": "markdown",
   "metadata": {},
   "source": [
    "**В ситуации с очищенными данными p-value сильно привышает 0,05, поэтому можно смело отвергать нулевую гипотезу. Следовательно, статическая значимость различий в среднем чеке заказов между группами присутвует. При исследовании \"сырых\" данных ситуация выглядела наоборот и мы принимали нулевую гипотезу. Если посмотреть на относительность покателей, то в первом случае она была положительной в пользу группы В, а сейчас она ниже среднего чека группы А на 1,4%. Это связано с анамальной продаже 19 августа в группе В.**\n",
    "\n"
   ]
  },
  {
   "cell_type": "markdown",
   "metadata": {},
   "source": [
    "## Решение по результата теста\n",
    "\n",
    " Варианты решений: \n",
    " 1. Остановить тест, зафиксировать победу одной из групп. \n",
    " 2. Остановить тест, зафиксировать отсутствие различий между группами. \n",
    " 3. Продолжить тест.\n",
    " \n",
    " **Выводы, к которым мы пришли в результате тестирования:**\n",
    "\n",
    "* По \"сырым\" и \"очищенным\" даннным мы опровергли нулевую гипотезу о том, что статистическая значимость различий в среднем количестве заказов на посетителя между группами А и В существует. То есть среднее количество заказов примерно равно в обоих группах, но стоит заметить, что группа В все равно превосходит группу А в в первом случае на 13,8%: а во втором случае на 15,1%. Можно сказать, что в  этом тесте победила группа В\n",
    " \n",
    "* При проверки гипотезы о статической значимости различий в среднем чеке заказов между группами результаты на \"сырых\" и \"очищенных\" данных были разными. При анализе \"сырых\" данных мы принимали нулевую гипотезу и группа В сильно превосходила группу А (примерно на 25,9%). Но при анализе \"очищенных\" данных мы принимали нулевую гипотезу и сказали, что статистических различий среднего чека между группами нет и группа В незначительно проигрывает группе А (примерно на 15,1%). Это обосновано заказом в группе В от 19 августа суммой на 1,3 млн. \n",
    "\n",
    "**Общий вывод по тесту:** *Останавливаем тест, зафиксируем победу группе В. Несмотря на то, что среднее количество заказов примерно равно, но группа В все равно выигрывает, а средний чек заказов на \"очищенных\" данных показывает, что суммы статически равны и незначительный проигрыш группы В не влияет на результат.*\n",
    " "
   ]
  }
 ],
 "metadata": {
  "ExecuteTimeLog": [
   {
    "duration": 471,
    "start_time": "2023-03-29T15:00:49.312Z"
   },
   {
    "duration": 99,
    "start_time": "2023-03-29T15:00:49.786Z"
   },
   {
    "duration": 1875,
    "start_time": "2023-03-29T15:05:39.196Z"
   },
   {
    "duration": 13,
    "start_time": "2023-03-29T15:05:57.692Z"
   },
   {
    "duration": 14,
    "start_time": "2023-03-29T15:06:44.644Z"
   },
   {
    "duration": 15,
    "start_time": "2023-03-29T15:06:55.136Z"
   },
   {
    "duration": 1259,
    "start_time": "2023-03-29T15:07:01.764Z"
   },
   {
    "duration": 13,
    "start_time": "2023-03-29T15:07:18.804Z"
   },
   {
    "duration": 126,
    "start_time": "2023-03-29T15:14:03.992Z"
   },
   {
    "duration": 74,
    "start_time": "2023-03-29T15:14:21.722Z"
   },
   {
    "duration": 33,
    "start_time": "2023-03-29T15:14:29.820Z"
   },
   {
    "duration": 56,
    "start_time": "2023-03-29T15:16:37.568Z"
   },
   {
    "duration": 71,
    "start_time": "2023-03-29T15:18:41.116Z"
   },
   {
    "duration": 78,
    "start_time": "2023-03-29T15:19:00.323Z"
   },
   {
    "duration": 52,
    "start_time": "2023-03-29T15:19:12.155Z"
   },
   {
    "duration": 67,
    "start_time": "2023-03-29T15:19:23.499Z"
   },
   {
    "duration": 344,
    "start_time": "2023-03-29T15:20:39.132Z"
   },
   {
    "duration": 3,
    "start_time": "2023-03-29T15:20:57.324Z"
   },
   {
    "duration": 24,
    "start_time": "2023-03-29T15:21:01.631Z"
   },
   {
    "duration": 38,
    "start_time": "2023-03-29T15:22:23.288Z"
   },
   {
    "duration": 43,
    "start_time": "2023-03-29T15:22:36.359Z"
   },
   {
    "duration": 41,
    "start_time": "2023-03-29T15:23:56.152Z"
   },
   {
    "duration": 13,
    "start_time": "2023-03-29T15:24:38.012Z"
   },
   {
    "duration": 35,
    "start_time": "2023-03-29T15:29:04.032Z"
   },
   {
    "duration": 3,
    "start_time": "2023-03-29T15:29:24.619Z"
   },
   {
    "duration": 27,
    "start_time": "2023-03-29T15:29:29.103Z"
   },
   {
    "duration": 28,
    "start_time": "2023-03-29T15:31:09.163Z"
   },
   {
    "duration": 26,
    "start_time": "2023-03-29T15:31:32.591Z"
   },
   {
    "duration": 311,
    "start_time": "2023-03-29T15:31:49.593Z"
   },
   {
    "duration": 382,
    "start_time": "2023-03-29T15:32:07.464Z"
   },
   {
    "duration": 448,
    "start_time": "2023-03-29T15:32:27.947Z"
   },
   {
    "duration": 337,
    "start_time": "2023-03-29T15:32:43.931Z"
   },
   {
    "duration": 283,
    "start_time": "2023-03-29T15:33:44.391Z"
   },
   {
    "duration": 287,
    "start_time": "2023-03-29T15:34:01.390Z"
   },
   {
    "duration": 220,
    "start_time": "2023-03-29T15:34:10.270Z"
   },
   {
    "duration": 239,
    "start_time": "2023-03-29T15:36:15.044Z"
   },
   {
    "duration": 234,
    "start_time": "2023-03-29T15:36:24.947Z"
   },
   {
    "duration": 198,
    "start_time": "2023-03-29T15:39:44.794Z"
   },
   {
    "duration": 228,
    "start_time": "2023-03-29T15:40:11.391Z"
   },
   {
    "duration": 346,
    "start_time": "2023-03-29T15:44:53.530Z"
   },
   {
    "duration": 255,
    "start_time": "2023-03-29T15:45:26.634Z"
   },
   {
    "duration": 319,
    "start_time": "2023-03-29T15:45:45.366Z"
   },
   {
    "duration": 253,
    "start_time": "2023-03-29T15:46:05.386Z"
   },
   {
    "duration": 248,
    "start_time": "2023-03-29T15:46:08.806Z"
   },
   {
    "duration": 414,
    "start_time": "2023-03-29T15:46:11.993Z"
   },
   {
    "duration": 262,
    "start_time": "2023-03-29T15:48:10.190Z"
   },
   {
    "duration": 223,
    "start_time": "2023-03-29T15:48:28.430Z"
   },
   {
    "duration": 249,
    "start_time": "2023-03-29T15:49:08.675Z"
   },
   {
    "duration": 327,
    "start_time": "2023-03-29T15:50:14.245Z"
   },
   {
    "duration": 377,
    "start_time": "2023-03-29T15:50:56.210Z"
   },
   {
    "duration": 386,
    "start_time": "2023-03-29T15:51:04.573Z"
   },
   {
    "duration": 1688,
    "start_time": "2023-03-29T15:52:15.166Z"
   },
   {
    "duration": 141,
    "start_time": "2023-03-29T15:52:44.593Z"
   },
   {
    "duration": 178,
    "start_time": "2023-03-29T15:53:20.265Z"
   },
   {
    "duration": 2324,
    "start_time": "2023-03-29T15:54:25.725Z"
   },
   {
    "duration": 6,
    "start_time": "2023-03-29T15:54:40.005Z"
   },
   {
    "duration": 13,
    "start_time": "2023-03-29T15:56:51.326Z"
   },
   {
    "duration": 11,
    "start_time": "2023-03-29T15:57:09.930Z"
   },
   {
    "duration": 129,
    "start_time": "2023-03-29T15:57:30.653Z"
   },
   {
    "duration": 204,
    "start_time": "2023-03-29T15:57:54.013Z"
   },
   {
    "duration": 167,
    "start_time": "2023-03-29T15:58:04.081Z"
   },
   {
    "duration": 117,
    "start_time": "2023-03-29T15:58:58.525Z"
   },
   {
    "duration": 7,
    "start_time": "2023-03-29T15:59:03.502Z"
   },
   {
    "duration": 63,
    "start_time": "2023-03-31T14:00:43.551Z"
   },
   {
    "duration": 860,
    "start_time": "2023-03-31T14:00:49.113Z"
   },
   {
    "duration": 76,
    "start_time": "2023-03-31T14:00:49.975Z"
   },
   {
    "duration": 18,
    "start_time": "2023-03-31T14:00:50.539Z"
   },
   {
    "duration": 13,
    "start_time": "2023-03-31T14:00:51.375Z"
   },
   {
    "duration": 129,
    "start_time": "2023-03-31T14:00:52.926Z"
   },
   {
    "duration": 21,
    "start_time": "2023-03-31T14:00:53.656Z"
   },
   {
    "duration": 91,
    "start_time": "2023-03-31T14:00:54.008Z"
   },
   {
    "duration": 14,
    "start_time": "2023-03-31T14:00:54.731Z"
   },
   {
    "duration": 309,
    "start_time": "2023-03-31T14:00:55.731Z"
   },
   {
    "duration": 341,
    "start_time": "2023-03-31T14:00:56.057Z"
   },
   {
    "duration": 260,
    "start_time": "2023-03-31T14:00:57.099Z"
   },
   {
    "duration": 376,
    "start_time": "2023-03-31T14:00:58.172Z"
   },
   {
    "duration": 333,
    "start_time": "2023-03-31T14:00:59.859Z"
   },
   {
    "duration": 353,
    "start_time": "2023-03-31T14:01:01.859Z"
   },
   {
    "duration": 187,
    "start_time": "2023-03-31T14:01:03.931Z"
   },
   {
    "duration": 187,
    "start_time": "2023-03-31T14:04:31.102Z"
   },
   {
    "duration": 154,
    "start_time": "2023-03-31T14:05:00.198Z"
   },
   {
    "duration": 154,
    "start_time": "2023-03-31T14:05:11.333Z"
   },
   {
    "duration": 6,
    "start_time": "2023-03-31T14:07:48.198Z"
   },
   {
    "duration": 5,
    "start_time": "2023-03-31T14:08:30.798Z"
   },
   {
    "duration": 180,
    "start_time": "2023-03-31T14:10:41.638Z"
   },
   {
    "duration": 750,
    "start_time": "2023-03-31T14:12:22.394Z"
   },
   {
    "duration": 262,
    "start_time": "2023-03-31T14:12:33.506Z"
   },
   {
    "duration": 161,
    "start_time": "2023-03-31T14:12:46.714Z"
   },
   {
    "duration": 155,
    "start_time": "2023-03-31T14:16:03.537Z"
   },
   {
    "duration": 9,
    "start_time": "2023-03-31T14:17:44.557Z"
   },
   {
    "duration": 138,
    "start_time": "2023-03-31T14:17:51.773Z"
   },
   {
    "duration": 12,
    "start_time": "2023-03-31T14:18:53.553Z"
   },
   {
    "duration": 6,
    "start_time": "2023-03-31T14:20:07.242Z"
   },
   {
    "duration": 8,
    "start_time": "2023-03-31T14:20:31.165Z"
   },
   {
    "duration": 12,
    "start_time": "2023-03-31T14:20:48.025Z"
   },
   {
    "duration": 261,
    "start_time": "2023-03-31T14:21:02.773Z"
   },
   {
    "duration": 176,
    "start_time": "2023-03-31T14:21:40.742Z"
   },
   {
    "duration": 176,
    "start_time": "2023-03-31T14:21:55.901Z"
   },
   {
    "duration": 54,
    "start_time": "2023-03-31T14:24:42.609Z"
   },
   {
    "duration": 8,
    "start_time": "2023-03-31T14:24:46.989Z"
   },
   {
    "duration": 5,
    "start_time": "2023-03-31T14:27:59.473Z"
   },
   {
    "duration": 4,
    "start_time": "2023-03-31T14:28:26.201Z"
   },
   {
    "duration": 5,
    "start_time": "2023-03-31T14:29:19.965Z"
   },
   {
    "duration": 60,
    "start_time": "2023-03-31T14:31:47.717Z"
   },
   {
    "duration": 9,
    "start_time": "2023-03-31T14:32:22.696Z"
   },
   {
    "duration": 115,
    "start_time": "2023-03-31T14:35:27.804Z"
   },
   {
    "duration": 23,
    "start_time": "2023-03-31T14:37:32.652Z"
   },
   {
    "duration": 13,
    "start_time": "2023-03-31T14:38:37.051Z"
   },
   {
    "duration": 11,
    "start_time": "2023-03-31T14:39:05.486Z"
   },
   {
    "duration": 5,
    "start_time": "2023-03-31T14:39:23.999Z"
   },
   {
    "duration": 133,
    "start_time": "2023-03-31T14:39:38.776Z"
   },
   {
    "duration": 115,
    "start_time": "2023-03-31T14:40:17.100Z"
   },
   {
    "duration": 361,
    "start_time": "2023-03-31T14:41:05.702Z"
   },
   {
    "duration": 442,
    "start_time": "2023-03-31T14:41:29.332Z"
   },
   {
    "duration": 369,
    "start_time": "2023-03-31T14:41:34.236Z"
   },
   {
    "duration": 340,
    "start_time": "2023-03-31T14:43:13.760Z"
   },
   {
    "duration": 12,
    "start_time": "2023-03-31T14:46:57.496Z"
   },
   {
    "duration": 367,
    "start_time": "2023-03-31T14:53:44.956Z"
   },
   {
    "duration": 11,
    "start_time": "2023-03-31T14:53:45.603Z"
   },
   {
    "duration": 796,
    "start_time": "2023-03-31T14:56:40.735Z"
   },
   {
    "duration": 810,
    "start_time": "2023-03-31T14:57:02.155Z"
   },
   {
    "duration": 33,
    "start_time": "2023-03-31T14:57:25.619Z"
   },
   {
    "duration": 31,
    "start_time": "2023-03-31T14:58:49.393Z"
   },
   {
    "duration": 30,
    "start_time": "2023-03-31T14:58:57.466Z"
   },
   {
    "duration": 6,
    "start_time": "2023-03-31T15:15:41.053Z"
   },
   {
    "duration": 8,
    "start_time": "2023-03-31T15:17:12.525Z"
   },
   {
    "duration": 10,
    "start_time": "2023-03-31T15:17:42.253Z"
   },
   {
    "duration": 8,
    "start_time": "2023-03-31T15:18:10.517Z"
   },
   {
    "duration": 869,
    "start_time": "2023-03-31T15:21:41.306Z"
   },
   {
    "duration": 784,
    "start_time": "2023-03-31T15:21:53.390Z"
   },
   {
    "duration": 14,
    "start_time": "2023-03-31T15:22:06.911Z"
   },
   {
    "duration": 15,
    "start_time": "2023-03-31T15:23:08.255Z"
   },
   {
    "duration": 11,
    "start_time": "2023-03-31T15:32:28.646Z"
   },
   {
    "duration": 768,
    "start_time": "2023-03-31T15:35:33.829Z"
   },
   {
    "duration": 31,
    "start_time": "2023-03-31T15:36:07.161Z"
   },
   {
    "duration": 32,
    "start_time": "2023-03-31T15:37:47.173Z"
   },
   {
    "duration": 42,
    "start_time": "2023-03-31T15:38:02.505Z"
   },
   {
    "duration": 454,
    "start_time": "2023-03-31T16:36:02.849Z"
   },
   {
    "duration": 252,
    "start_time": "2023-03-31T16:36:05.992Z"
   },
   {
    "duration": 162,
    "start_time": "2023-03-31T16:36:44.224Z"
   },
   {
    "duration": 177,
    "start_time": "2023-03-31T16:37:10.117Z"
   },
   {
    "duration": 199,
    "start_time": "2023-03-31T16:37:24.348Z"
   },
   {
    "duration": 1355,
    "start_time": "2023-03-31T20:00:43.567Z"
   },
   {
    "duration": 72,
    "start_time": "2023-03-31T20:00:44.925Z"
   },
   {
    "duration": 13,
    "start_time": "2023-03-31T20:00:44.998Z"
   },
   {
    "duration": 29,
    "start_time": "2023-03-31T20:00:45.013Z"
   },
   {
    "duration": 98,
    "start_time": "2023-03-31T20:00:45.043Z"
   },
   {
    "duration": 20,
    "start_time": "2023-03-31T20:00:45.143Z"
   },
   {
    "duration": 87,
    "start_time": "2023-03-31T20:00:45.164Z"
   },
   {
    "duration": 13,
    "start_time": "2023-03-31T20:00:45.253Z"
   },
   {
    "duration": 294,
    "start_time": "2023-03-31T20:00:45.267Z"
   },
   {
    "duration": 357,
    "start_time": "2023-03-31T20:00:45.564Z"
   },
   {
    "duration": 259,
    "start_time": "2023-03-31T20:00:45.923Z"
   },
   {
    "duration": 360,
    "start_time": "2023-03-31T20:00:46.184Z"
   },
   {
    "duration": 259,
    "start_time": "2023-03-31T20:00:46.546Z"
   },
   {
    "duration": 346,
    "start_time": "2023-03-31T20:00:46.807Z"
   },
   {
    "duration": 177,
    "start_time": "2023-03-31T20:00:47.154Z"
   },
   {
    "duration": 5,
    "start_time": "2023-03-31T20:00:47.333Z"
   },
   {
    "duration": 193,
    "start_time": "2023-03-31T20:00:47.340Z"
   },
   {
    "duration": 8,
    "start_time": "2023-03-31T20:00:47.535Z"
   },
   {
    "duration": 216,
    "start_time": "2023-03-31T20:00:47.545Z"
   },
   {
    "duration": 5,
    "start_time": "2023-03-31T20:00:47.763Z"
   },
   {
    "duration": 453,
    "start_time": "2023-03-31T20:00:47.770Z"
   },
   {
    "duration": 39,
    "start_time": "2023-03-31T20:00:48.225Z"
   },
   {
    "duration": 12,
    "start_time": "2023-03-31T20:00:48.266Z"
   },
   {
    "duration": 19,
    "start_time": "2023-03-31T20:00:48.280Z"
   },
   {
    "duration": 41,
    "start_time": "2023-03-31T20:00:48.301Z"
   },
   {
    "duration": 25,
    "start_time": "2023-03-31T20:00:48.344Z"
   },
   {
    "duration": 101,
    "start_time": "2023-03-31T20:05:37.586Z"
   },
   {
    "duration": 1281,
    "start_time": "2023-04-02T11:19:41.893Z"
   },
   {
    "duration": 66,
    "start_time": "2023-04-02T11:19:57.593Z"
   },
   {
    "duration": 24,
    "start_time": "2023-04-02T11:20:14.673Z"
   },
   {
    "duration": 89,
    "start_time": "2023-04-02T11:24:35.269Z"
   },
   {
    "duration": 55,
    "start_time": "2023-04-02T11:24:46.464Z"
   },
   {
    "duration": 55,
    "start_time": "2023-04-02T11:25:45.701Z"
   },
   {
    "duration": 54,
    "start_time": "2023-04-02T11:25:55.868Z"
   },
   {
    "duration": 76,
    "start_time": "2023-04-02T11:26:17.901Z"
   },
   {
    "duration": 12,
    "start_time": "2023-04-02T11:28:52.245Z"
   },
   {
    "duration": 1335,
    "start_time": "2023-04-02T12:00:06.241Z"
   },
   {
    "duration": 62,
    "start_time": "2023-04-02T12:00:07.577Z"
   },
   {
    "duration": 15,
    "start_time": "2023-04-02T12:00:07.641Z"
   },
   {
    "duration": 16,
    "start_time": "2023-04-02T12:00:07.658Z"
   },
   {
    "duration": 104,
    "start_time": "2023-04-02T12:00:07.675Z"
   },
   {
    "duration": 20,
    "start_time": "2023-04-02T12:00:07.780Z"
   },
   {
    "duration": 80,
    "start_time": "2023-04-02T12:00:07.801Z"
   },
   {
    "duration": 12,
    "start_time": "2023-04-02T12:00:07.882Z"
   },
   {
    "duration": 308,
    "start_time": "2023-04-02T12:00:07.895Z"
   },
   {
    "duration": 315,
    "start_time": "2023-04-02T12:00:08.205Z"
   },
   {
    "duration": 229,
    "start_time": "2023-04-02T12:00:08.522Z"
   },
   {
    "duration": 372,
    "start_time": "2023-04-02T12:00:08.752Z"
   },
   {
    "duration": 258,
    "start_time": "2023-04-02T12:00:09.125Z"
   },
   {
    "duration": 384,
    "start_time": "2023-04-02T12:00:09.385Z"
   },
   {
    "duration": 176,
    "start_time": "2023-04-02T12:00:09.771Z"
   },
   {
    "duration": 5,
    "start_time": "2023-04-02T12:00:09.950Z"
   },
   {
    "duration": 207,
    "start_time": "2023-04-02T12:00:09.957Z"
   },
   {
    "duration": 9,
    "start_time": "2023-04-02T12:00:10.166Z"
   },
   {
    "duration": 226,
    "start_time": "2023-04-02T12:00:10.177Z"
   },
   {
    "duration": 4,
    "start_time": "2023-04-02T12:00:10.405Z"
   },
   {
    "duration": 440,
    "start_time": "2023-04-02T12:00:10.412Z"
   },
   {
    "duration": 27,
    "start_time": "2023-04-02T12:00:10.854Z"
   },
   {
    "duration": 25,
    "start_time": "2023-04-02T12:00:10.883Z"
   },
   {
    "duration": 8,
    "start_time": "2023-04-02T12:00:10.910Z"
   },
   {
    "duration": 36,
    "start_time": "2023-04-02T12:00:10.920Z"
   },
   {
    "duration": 17,
    "start_time": "2023-04-02T12:00:10.958Z"
   }
  ],
  "kernelspec": {
   "display_name": "Python 3 (ipykernel)",
   "language": "python",
   "name": "python3"
  },
  "language_info": {
   "codemirror_mode": {
    "name": "ipython",
    "version": 3
   },
   "file_extension": ".py",
   "mimetype": "text/x-python",
   "name": "python",
   "nbconvert_exporter": "python",
   "pygments_lexer": "ipython3",
   "version": "3.9.5"
  },
  "toc": {
   "base_numbering": 1,
   "nav_menu": {},
   "number_sections": true,
   "sideBar": true,
   "skip_h1_title": true,
   "title_cell": "Table of Contents",
   "title_sidebar": "Contents",
   "toc_cell": false,
   "toc_position": {},
   "toc_section_display": true,
   "toc_window_display": false
  }
 },
 "nbformat": 4,
 "nbformat_minor": 2
}
