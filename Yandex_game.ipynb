{
 "cells": [
  {
   "cell_type": "markdown",
   "metadata": {},
   "source": [
    "# Анализ  продаж по компьютерным играм."
   ]
  },
  {
   "cell_type": "markdown",
   "metadata": {},
   "source": [
    "Вы работаете в интернет-магазине «Стримчик», который продаёт по всему миру компьютерные игры. Из открытых источников доступны исторические данные о продажах игр, оценки пользователей и экспертов, жанры и платформы (например, Xbox или PlayStation). Вам нужно выявить определяющие успешность игры закономерности. Это позволит сделать ставку на потенциально популярный продукт и спланировать рекламные кампании.\n",
    "\n",
    "Перед вами данные до 2016 года. Представим, что сейчас декабрь 2016 г., и вы планируете кампанию на 2017-й. Нужно отработать принцип работы с данными. Неважно, прогнозируете ли вы продажи на 2017 год по данным 2016-го или же 2027-й — по данным 2026 года.\n",
    "\n",
    "В наборе данных попадается аббревиатура ESRB (Entertainment Software Rating Board) — это ассоциация, определяющая возрастной рейтинг компьютерных игр. ESRB оценивает игровой контент и присваивает ему подходящую возрастную категорию, например, «Для взрослых», «Для детей младшего возраста» или «Для подростков».\n",
    "\n",
    "**Описание данных**\n",
    "\n",
    "* Name — название игры\n",
    "* Platform — платформа\n",
    "* Year_of_Release — год выпуска\n",
    "* Genre — жанр игры\n",
    "* NA_sales — продажи в Северной Америке (миллионы проданных копий)\n",
    "* EU_sales — продажи в Европе (миллионы проданных копий)\n",
    "* JP_sales — продажи в Японии (миллионы проданных копий)\n",
    "* Other_sales — продажи в других странах (миллионы проданных копий)\n",
    "* Critic_Score — оценка критиков (максимум 100)\n",
    "* User_Score — оценка пользователей (максимум 10)\n",
    "* Rating — рейтинг от организации ESRB (англ. Entertainment Software Rating Board). Эта ассоциация определяет рейтинг компьютерных игр и присваивает им подходящую возрастную категорию.\n"
   ]
  },
  {
   "cell_type": "code",
   "execution_count": 1,
   "metadata": {},
   "outputs": [],
   "source": [
    "import pandas as pd"
   ]
  },
  {
   "cell_type": "code",
   "execution_count": 2,
   "metadata": {},
   "outputs": [
    {
     "name": "stdout",
     "output_type": "stream",
     "text": [
      "                       Name Platform  Year_of_Release         Genre  NA_sales  \\\n",
      "0                Wii Sports      Wii           2006.0        Sports     41.36   \n",
      "1         Super Mario Bros.      NES           1985.0      Platform     29.08   \n",
      "2            Mario Kart Wii      Wii           2008.0        Racing     15.68   \n",
      "3         Wii Sports Resort      Wii           2009.0        Sports     15.61   \n",
      "4  Pokemon Red/Pokemon Blue       GB           1996.0  Role-Playing     11.27   \n",
      "\n",
      "   EU_sales  JP_sales  Other_sales  Critic_Score User_Score Rating  \n",
      "0     28.96      3.77         8.45          76.0          8      E  \n",
      "1      3.58      6.81         0.77           NaN        NaN    NaN  \n",
      "2     12.76      3.79         3.29          82.0        8.3      E  \n",
      "3     10.93      3.28         2.95          80.0          8      E  \n",
      "4      8.89     10.22         1.00           NaN        NaN    NaN  \n"
     ]
    }
   ],
   "source": [
    "#загрузка данных\n",
    "data=pd.read_csv('/datasets/games.csv')\n",
    "print(data.head(5))"
   ]
  },
  {
   "cell_type": "markdown",
   "metadata": {},
   "source": [
    "## Подготовка данных"
   ]
  },
  {
   "cell_type": "code",
   "execution_count": 3,
   "metadata": {},
   "outputs": [
    {
     "name": "stdout",
     "output_type": "stream",
     "text": [
      "Index(['name', 'platform', 'year_of_release', 'genre', 'na_sales', 'eu_sales',\n",
      "       'jp_sales', 'other_sales', 'critic_score', 'user_score', 'rating'],\n",
      "      dtype='object')\n"
     ]
    }
   ],
   "source": [
    "import numpy as np\n",
    "import matplotlib as plt\n",
    "#переименование столбцов \n",
    "data.columns = data.columns.str.lower()\n",
    "\n",
    "print(data.columns)\n",
    "\n"
   ]
  },
  {
   "cell_type": "code",
   "execution_count": 4,
   "metadata": {
    "scrolled": true
   },
   "outputs": [
    {
     "name": "stdout",
     "output_type": "stream",
     "text": [
      "<class 'pandas.core.frame.DataFrame'>\n",
      "RangeIndex: 16715 entries, 0 to 16714\n",
      "Data columns (total 11 columns):\n",
      " #   Column           Non-Null Count  Dtype  \n",
      "---  ------           --------------  -----  \n",
      " 0   name             16713 non-null  object \n",
      " 1   platform         16715 non-null  object \n",
      " 2   year_of_release  16446 non-null  float64\n",
      " 3   genre            16713 non-null  object \n",
      " 4   na_sales         16715 non-null  float64\n",
      " 5   eu_sales         16715 non-null  float64\n",
      " 6   jp_sales         16715 non-null  float64\n",
      " 7   other_sales      16715 non-null  float64\n",
      " 8   critic_score     8137 non-null   float64\n",
      " 9   user_score       10014 non-null  object \n",
      " 10  rating           9949 non-null   object \n",
      "dtypes: float64(6), object(5)\n",
      "memory usage: 1.4+ MB\n",
      "name                  2\n",
      "platform              0\n",
      "year_of_release     269\n",
      "genre                 2\n",
      "na_sales              0\n",
      "eu_sales              0\n",
      "jp_sales              0\n",
      "other_sales           0\n",
      "critic_score       8578\n",
      "user_score         6701\n",
      "rating             6766\n",
      "dtype: int64\n",
      "269\n",
      "269\n",
      "      name platform  year_of_release genre  na_sales  eu_sales  jp_sales  \\\n",
      "659    NaN      GEN             1993   NaN      1.78      0.53      0.00   \n",
      "14244  NaN      GEN             1993   NaN      0.00      0.00      0.03   \n",
      "\n",
      "       other_sales  critic_score  user_score rating  \n",
      "659           0.08           NaN         NaN    NaN  \n",
      "14244         0.00           NaN         NaN    NaN  \n",
      "                        name platform  year_of_release         genre  \\\n",
      "0                 Wii Sports      Wii             2006        Sports   \n",
      "1          Super Mario Bros.      NES             1985      Platform   \n",
      "2             Mario Kart Wii      Wii             2008        Racing   \n",
      "3          Wii Sports Resort      Wii             2009        Sports   \n",
      "4   Pokemon Red/Pokemon Blue       GB             1996  Role-Playing   \n",
      "5                     Tetris       GB             1989        Puzzle   \n",
      "6      New Super Mario Bros.       DS             2006      Platform   \n",
      "7                   Wii Play      Wii             2006          Misc   \n",
      "8  New Super Mario Bros. Wii      Wii             2009      Platform   \n",
      "9                  Duck Hunt      NES             1984       Shooter   \n",
      "\n",
      "   na_sales  eu_sales  jp_sales  other_sales  critic_score  user_score rating  \\\n",
      "0     41.36     28.96      3.77         8.45          76.0         8.0      E   \n",
      "1     29.08      3.58      6.81         0.77           NaN         NaN    NaN   \n",
      "2     15.68     12.76      3.79         3.29          82.0         8.3      E   \n",
      "3     15.61     10.93      3.28         2.95          80.0         8.0      E   \n",
      "4     11.27      8.89     10.22         1.00           NaN         NaN    NaN   \n",
      "5     23.20      2.26      4.22         0.58           NaN         NaN    NaN   \n",
      "6     11.28      9.14      6.50         2.88          89.0         8.5      E   \n",
      "7     13.96      9.18      2.93         2.84          58.0         6.6      E   \n",
      "8     14.44      6.94      4.70         2.24          87.0         8.4      E   \n",
      "9     26.93      0.63      0.28         0.47           NaN         NaN    NaN   \n",
      "\n",
      "   total_sales  \n",
      "0        82.54  \n",
      "1        40.24  \n",
      "2        35.52  \n",
      "3        32.77  \n",
      "4        31.38  \n",
      "5        30.26  \n",
      "6        29.80  \n",
      "7        28.91  \n",
      "8        28.32  \n",
      "9        28.31  \n",
      "name                  0\n",
      "platform              0\n",
      "year_of_release       0\n",
      "genre                 0\n",
      "na_sales              0\n",
      "eu_sales              0\n",
      "jp_sales              0\n",
      "other_sales           0\n",
      "critic_score       8461\n",
      "user_score         8981\n",
      "rating                0\n",
      "total_sales           0\n",
      "dtype: int64\n"
     ]
    }
   ],
   "source": [
    "\n",
    "#проверка пропусков \n",
    "data.info()\n",
    "data.describe()\n",
    "print(data.isnull().sum())\n",
    "\n",
    "print(data['year_of_release'].isna().sum())\n",
    "\n",
    "#преобразуем значения даты, в тип другой тип \n",
    "data['year_of_release'] = data['year_of_release'].astype('Int64')\n",
    "print(data['year_of_release'].isna().sum())\n",
    "\n",
    "#удали игры, в которых не сдержаться года\n",
    "data= data.dropna(subset=['year_of_release'])\n",
    "\n",
    "#заменим значение tbd на nan\n",
    "data['user_score'] = data['user_score'].replace('tbd', np.nan, regex=True)\n",
    "data['user_score'] = data['user_score'].astype(float)\n",
    "\n",
    "#проверим незаполненные значения по столбцам genre \n",
    "print(data[data['genre'].isna()])\n",
    "\n",
    "#исключим из списка строки 659 и 1422, так как они не несу цельной информации и не повлияют на исследование \n",
    "data.drop([659, 14244],inplace=True)\n",
    "\n",
    "#создадим новый столбце с общей стоймостью во всех регионах\n",
    "data['total_sales']=data['na_sales']+data['eu_sales']+data['jp_sales']+data['other_sales']\n",
    "print(data.head(10))\n",
    "\n",
    "#уберем дубликаты\n",
    "data.drop_duplicates()\n",
    "\n",
    "#сделаем заглушки для значений столбца рейтинг ESRB\n",
    "data['rating'] = data['rating'].fillna('unknown')\n",
    "print(data.isna().sum())"
   ]
  },
  {
   "cell_type": "markdown",
   "metadata": {},
   "source": [
    "* Пропуски в столбце 'critic_score' может быть связана с тем, что не было критиков, то есть не было культуры оценивания игр критиками. Нулевые значения в столбце 'critic_score' сложно заменить каким-либо другие.Поэтому оставим их незаполнеными.  \n",
    "* В столбце 'user_score' можно заменить значения оценкой критиков деленной на 10, чтобы они не привышали 10. Но я считаю, что это не целесообразно, так сделаю показания неточными. Поэтому оставим их такими, какие есть сейчас. Возможно не было нужно сервиса для оценки и чата, где можно было бы поставить свою оценку. Также возможно это было не очень доступно для некоторых людей. \n",
    "* Оценка ESRB появилась только в 1994 году, поэтому вполне возможно, что данные отсутвуют именно за период ранее. К тому же разные категории появлись в разные приоды времени, поэтому с датой выпуска их могли просто не оценить, так как не было дожной категории. \n",
    "\n"
   ]
  },
  {
   "cell_type": "markdown",
   "metadata": {},
   "source": [
    "## Провединие исследовательского анализа данных"
   ]
  },
  {
   "cell_type": "code",
   "execution_count": 6,
   "metadata": {
    "scrolled": false
   },
   "outputs": [
    {
     "name": "stdout",
     "output_type": "stream",
     "text": [
      "year_of_release\n",
      "1980       9\n",
      "1981      46\n",
      "1982      36\n",
      "1983      17\n",
      "1984      14\n",
      "1985      14\n",
      "1986      21\n",
      "1987      16\n",
      "1988      15\n",
      "1989      17\n",
      "1990      16\n",
      "1991      41\n",
      "1992      43\n",
      "1993      60\n",
      "1994     121\n",
      "1995     219\n",
      "1996     263\n",
      "1997     289\n",
      "1998     379\n",
      "1999     338\n",
      "2000     350\n",
      "2001     482\n",
      "2002     829\n",
      "2003     775\n",
      "2004     762\n",
      "2005     939\n",
      "2006    1006\n",
      "2007    1197\n",
      "2008    1427\n",
      "2009    1426\n",
      "2010    1255\n",
      "2011    1136\n",
      "2012     653\n",
      "2013     544\n",
      "2014     581\n",
      "2015     606\n",
      "2016     502\n",
      "Name: name, dtype: int64\n"
     ]
    },
    {
     "data": {
      "image/png": "[encoded data removed]",
      "text/plain": [
       "<Figure size 864x432 with 1 Axes>"
      ]
     },
     "metadata": {
      "needs_background": "light"
     },
     "output_type": "display_data"
    }
   ],
   "source": [
    "import matplotlib.pyplot as plt\n",
    "\n",
    "data_of_year= data.pivot_table(index='year_of_release', values='name', aggfunc='count').plot(grid=True,figsize=(12,6))\n",
    "plt.title(\"Количество игр по годам\")\n",
    "plt.xlabel(\"Год выпуска\")\n",
    "plt.ylabel(\"Количество выпущенных игр\")\n",
    "plt.legend('')\n",
    "print(data.groupby(by=['year_of_release'])['name'].count())"
   ]
  },
  {
   "cell_type": "markdown",
   "metadata": {},
   "source": [
    "Из графика видно, что игровая индустрия начиная с 1980 имела тенденцию роста и с каждым годом выпускалось еще больше игр. 2008 год имел пиковый показатель по выпуску игр и начиная с 2009 года количество выпускаемых игр начало сокращаться. \n",
    "Это можно объяснить тем, что начало 1980-х годов совпало с появлением многих домашних компьютеров и разработчиков игр на них. Позже начинают появляться и игровые приставки, которые также влияют на рост выпуска игр. Однако, в 2008 году вместе с пиковыми показателями происходит и начало кризиса игровой индустрии. Это связано и мировым экономическим кризисом 2008-2013 года \n"
   ]
  },
  {
   "cell_type": "code",
   "execution_count": 7,
   "metadata": {},
   "outputs": [
    {
     "name": "stdout",
     "output_type": "stream",
     "text": [
      "platform\n",
      "PS2     1233.56\n",
      "X360     961.24\n",
      "PS3      931.34\n",
      "Wii      891.18\n",
      "DS       802.78\n",
      "PS       727.58\n",
      "PS4      314.14\n",
      "GBA      312.88\n",
      "PSP      289.53\n",
      "3DS      257.81\n",
      "Name: total_sales, dtype: float64\n"
     ]
    }
   ],
   "source": [
    "#для анализа платформ возмем 6 с наибольшими суммарными продажами и посмотрим распределение для каждой из них\n",
    "print(data.groupby(by=['platform'])['total_sales'].sum().sort_values(ascending=False).head(10))"
   ]
  },
  {
   "cell_type": "code",
   "execution_count": 8,
   "metadata": {
    "scrolled": false
   },
   "outputs": [
    {
     "data": {
      "text/plain": [
       "Text(0.5, 1.0, '3DS')"
      ]
     },
     "execution_count": 8,
     "metadata": {},
     "output_type": "execute_result"
    },
    {
     "data": {
      "image/png": "[encoded data removed]",
      "text/plain": [
       "<Figure size 936x288 with 1 Axes>"
      ]
     },
     "metadata": {
      "needs_background": "light"
     },
     "output_type": "display_data"
    },
    {
     "data": {
      "image/png": "[encoded data removed]",
      "text/plain": [
       "<Figure size 936x288 with 1 Axes>"
      ]
     },
     "metadata": {
      "needs_background": "light"
     },
     "output_type": "display_data"
    },
    {
     "data": {
      "image/png": "[encoded data removed]",
      "text/plain": [
       "<Figure size 936x288 with 1 Axes>"
      ]
     },
     "metadata": {
      "needs_background": "light"
     },
     "output_type": "display_data"
    },
    {
     "data": {
      "image/png": "[encoded data removed]",
      "text/plain": [
       "<Figure size 936x288 with 1 Axes>"
      ]
     },
     "metadata": {
      "needs_background": "light"
     },
     "output_type": "display_data"
    },
    {
     "data": {
      "image/png": "[encoded data removed]",
      "text/plain": [
       "<Figure size 936x288 with 1 Axes>"
      ]
     },
     "metadata": {
      "needs_background": "light"
     },
     "output_type": "display_data"
    },
    {
     "data": {
      "image/png": "[encoded data removed]",
      "text/plain": [
       "<Figure size 936x288 with 1 Axes>"
      ]
     },
     "metadata": {
      "needs_background": "light"
     },
     "output_type": "display_data"
    },
    {
     "data": {
      "image/png": "[encoded data removed]",
      "text/plain": [
       "<Figure size 936x288 with 1 Axes>"
      ]
     },
     "metadata": {
      "needs_background": "light"
     },
     "output_type": "display_data"
    },
    {
     "data": {
      "image/png": "[encoded data removed]",
      "text/plain": [
       "<Figure size 936x288 with 1 Axes>"
      ]
     },
     "metadata": {
      "needs_background": "light"
     },
     "output_type": "display_data"
    },
    {
     "data": {
      "image/png": "[encoded data removed]",
      "text/plain": [
       "<Figure size 936x288 with 1 Axes>"
      ]
     },
     "metadata": {
      "needs_background": "light"
     },
     "output_type": "display_data"
    }
   ],
   "source": [
    "\n",
    "data.query(\"platform == 'PS2'\").pivot_table(index='year_of_release', values='total_sales', aggfunc='sum')\\\n",
    "             .plot(kind='bar', figsize=(13,4))\n",
    "plt.xlabel(\"Год выпуска\")\n",
    "plt.ylabel(\"Сумма продаж\")\n",
    "plt.title('PS2')\n",
    "\n",
    "data.query(\"platform == 'X360'\").pivot_table(index='year_of_release', values='total_sales', aggfunc='sum')\\\n",
    "             .plot(kind='bar', figsize=(13,4))\n",
    "plt.xlabel(\"Год выпуска\")\n",
    "plt.ylabel(\"Сумма продаж\")\n",
    "plt.title('X360')\n",
    "\n",
    "data.query(\"platform == 'PS3'\").pivot_table(index='year_of_release', values='total_sales', aggfunc='sum')\\\n",
    "             .plot(kind='bar', figsize=(13,4))\n",
    "plt.xlabel(\"Год выпуска\")\n",
    "plt.ylabel(\"Сумма продаж\")\n",
    "plt.title('PS3')\n",
    "\n",
    "data.query(\"platform == 'Wii'\").pivot_table(index='year_of_release', values='total_sales', aggfunc='sum')\\\n",
    "             .plot(kind='bar', figsize=(13,4))\n",
    "plt.xlabel(\"Год выпуска\")\n",
    "plt.ylabel(\"Сумма продаж\")\n",
    "plt.title('Wii')\n",
    "\n",
    "data.query(\"platform == 'DS'\").pivot_table(index='year_of_release', values='total_sales', aggfunc='sum')\\\n",
    "             .plot(kind='bar', figsize=(13,4))\n",
    "plt.xlabel(\"Год выпуска\")\n",
    "plt.ylabel(\"Сумма продаж\")\n",
    "plt.title('DS')\n",
    "\n",
    "data.query(\"platform == 'PS'\").pivot_table(index='year_of_release', values='total_sales', aggfunc='sum')\\\n",
    "             .plot(kind='bar', figsize=(13,4))\n",
    "plt.xlabel(\"Год выпуска\")\n",
    "plt.ylabel(\"Сумма продаж\")\n",
    "plt.title('PS')\n",
    "\n",
    "data.query(\"platform == 'PS4'\").pivot_table(index='year_of_release', values='total_sales', aggfunc='sum')\\\n",
    "             .plot(kind='bar', figsize=(13,4))\n",
    "plt.xlabel(\"Год выпуска\")\n",
    "plt.ylabel(\"Сумма продаж\")\n",
    "plt.title('PS4')\n",
    "\n",
    "data.query(\"platform == 'XOne'\").pivot_table(index='year_of_release', values='total_sales', aggfunc='sum')\\\n",
    "             .plot(kind='bar', figsize=(13,4))\n",
    "plt.xlabel(\"Год выпуска\")\n",
    "plt.ylabel(\"Сумма продаж\")\n",
    "plt.title('XOne')\n",
    "\n",
    "data.query(\"platform == '3DS'\").pivot_table(index='year_of_release', values='total_sales', aggfunc='sum')\\\n",
    "             .plot(kind='bar', figsize=(13,4))\n",
    "plt.xlabel(\"Год выпуска\")\n",
    "plt.ylabel(\"Сумма продаж\")\n",
    "plt.title('3DS')"
   ]
  },
  {
   "cell_type": "markdown",
   "metadata": {},
   "source": [
    "- Платформы X360 и PS3 исчезли примерно в одно время, а именно в 2016 году, и начинали свое развитие в 2005 году.\n",
    "- PS2 с 2000 по 2010 год\n",
    "- Wii с 2006 по 2016. Также стоит заметить, что они достаточно быстро вошли в игровую индустрию, но при этом также быстро с него ушли, потому что с 2013 года видно, что у них было очень маленькое количество продаж\n",
    "- DS начали свое развитие в 1985 году, продаж было очень мало, так что можно не учитывать этот год. Поэтому можно сказать, что платформа развивалась с 2004 года по 2013 год\n",
    "- PS с 1994 по 2003 год. \n",
    "\n",
    "Проверим данные по платформе DS за 1985 год. "
   ]
  },
  {
   "cell_type": "code",
   "execution_count": 9,
   "metadata": {},
   "outputs": [],
   "source": [
    "data[(data['year_of_release'] < 2000) & (data['platform'] == 'DS')]\n",
    "data.drop([15957],inplace=True)"
   ]
  },
  {
   "cell_type": "markdown",
   "metadata": {},
   "source": [
    "Данная игра была выпущенна в 2010 году, поэтому дата выпуска указана неверна. Также исключу данную строку, так как она не несет в себе ценной информации, а лишь вводит в замешательства. "
   ]
  },
  {
   "cell_type": "markdown",
   "metadata": {},
   "source": [
    "\n",
    "Из перечисленного выше можно сделать вывод, что характерный срок, в который появляются новые и исчезают старые платформы примерно 8-10 лет. Например, самая старая платформа PS была актуально 10 лет и уже 2004 - 2005 году ей на смену пришли другие платформы. Платформа Wii \"прожила\" 8 лет, так как с 2013 сильно упало суммы продаж. Но для дальнейшего исследования все же возьмем 3 последних года, так как индустрия игр быстро развивается и прогноз с охватом большего срока будет ошибочным. \n"
   ]
  },
  {
   "cell_type": "code",
   "execution_count": 10,
   "metadata": {},
   "outputs": [
    {
     "data": {
      "text/html": [
       "<div>\n",
       "<style scoped>\n",
       "    .dataframe tbody tr th:only-of-type {\n",
       "        vertical-align: middle;\n",
       "    }\n",
       "\n",
       "    .dataframe tbody tr th {\n",
       "        vertical-align: top;\n",
       "    }\n",
       "\n",
       "    .dataframe thead th {\n",
       "        text-align: right;\n",
       "    }\n",
       "</style>\n",
       "<table border=\"1\" class=\"dataframe\">\n",
       "  <thead>\n",
       "    <tr style=\"text-align: right;\">\n",
       "      <th></th>\n",
       "      <th>name</th>\n",
       "      <th>platform</th>\n",
       "      <th>year_of_release</th>\n",
       "      <th>genre</th>\n",
       "      <th>na_sales</th>\n",
       "      <th>eu_sales</th>\n",
       "      <th>jp_sales</th>\n",
       "      <th>other_sales</th>\n",
       "      <th>critic_score</th>\n",
       "      <th>user_score</th>\n",
       "      <th>rating</th>\n",
       "      <th>total_sales</th>\n",
       "    </tr>\n",
       "  </thead>\n",
       "  <tbody>\n",
       "    <tr>\n",
       "      <th>31</th>\n",
       "      <td>Call of Duty: Black Ops 3</td>\n",
       "      <td>PS4</td>\n",
       "      <td>2015</td>\n",
       "      <td>Shooter</td>\n",
       "      <td>6.03</td>\n",
       "      <td>5.86</td>\n",
       "      <td>0.36</td>\n",
       "      <td>2.38</td>\n",
       "      <td>NaN</td>\n",
       "      <td>NaN</td>\n",
       "      <td>unknown</td>\n",
       "      <td>14.63</td>\n",
       "    </tr>\n",
       "    <tr>\n",
       "      <th>42</th>\n",
       "      <td>Grand Theft Auto V</td>\n",
       "      <td>PS4</td>\n",
       "      <td>2014</td>\n",
       "      <td>Action</td>\n",
       "      <td>3.96</td>\n",
       "      <td>6.31</td>\n",
       "      <td>0.38</td>\n",
       "      <td>1.97</td>\n",
       "      <td>97.0</td>\n",
       "      <td>8.3</td>\n",
       "      <td>M</td>\n",
       "      <td>12.62</td>\n",
       "    </tr>\n",
       "    <tr>\n",
       "      <th>47</th>\n",
       "      <td>Pokemon Omega Ruby/Pokemon Alpha Sapphire</td>\n",
       "      <td>3DS</td>\n",
       "      <td>2014</td>\n",
       "      <td>Role-Playing</td>\n",
       "      <td>4.35</td>\n",
       "      <td>3.49</td>\n",
       "      <td>3.10</td>\n",
       "      <td>0.74</td>\n",
       "      <td>NaN</td>\n",
       "      <td>NaN</td>\n",
       "      <td>unknown</td>\n",
       "      <td>11.68</td>\n",
       "    </tr>\n",
       "    <tr>\n",
       "      <th>77</th>\n",
       "      <td>FIFA 16</td>\n",
       "      <td>PS4</td>\n",
       "      <td>2015</td>\n",
       "      <td>Sports</td>\n",
       "      <td>1.12</td>\n",
       "      <td>6.12</td>\n",
       "      <td>0.06</td>\n",
       "      <td>1.28</td>\n",
       "      <td>82.0</td>\n",
       "      <td>4.3</td>\n",
       "      <td>E</td>\n",
       "      <td>8.58</td>\n",
       "    </tr>\n",
       "    <tr>\n",
       "      <th>87</th>\n",
       "      <td>Star Wars Battlefront (2015)</td>\n",
       "      <td>PS4</td>\n",
       "      <td>2015</td>\n",
       "      <td>Shooter</td>\n",
       "      <td>2.99</td>\n",
       "      <td>3.49</td>\n",
       "      <td>0.22</td>\n",
       "      <td>1.28</td>\n",
       "      <td>NaN</td>\n",
       "      <td>NaN</td>\n",
       "      <td>unknown</td>\n",
       "      <td>7.98</td>\n",
       "    </tr>\n",
       "  </tbody>\n",
       "</table>\n",
       "</div>"
      ],
      "text/plain": [
       "                                         name platform  year_of_release  \\\n",
       "31                  Call of Duty: Black Ops 3      PS4             2015   \n",
       "42                         Grand Theft Auto V      PS4             2014   \n",
       "47  Pokemon Omega Ruby/Pokemon Alpha Sapphire      3DS             2014   \n",
       "77                                    FIFA 16      PS4             2015   \n",
       "87               Star Wars Battlefront (2015)      PS4             2015   \n",
       "\n",
       "           genre  na_sales  eu_sales  jp_sales  other_sales  critic_score  \\\n",
       "31       Shooter      6.03      5.86      0.36         2.38           NaN   \n",
       "42        Action      3.96      6.31      0.38         1.97          97.0   \n",
       "47  Role-Playing      4.35      3.49      3.10         0.74           NaN   \n",
       "77        Sports      1.12      6.12      0.06         1.28          82.0   \n",
       "87       Shooter      2.99      3.49      0.22         1.28           NaN   \n",
       "\n",
       "    user_score   rating  total_sales  \n",
       "31         NaN  unknown        14.63  \n",
       "42         8.3        M        12.62  \n",
       "47         NaN  unknown        11.68  \n",
       "77         4.3        E         8.58  \n",
       "87         NaN  unknown         7.98  "
      ]
     },
     "execution_count": 10,
     "metadata": {},
     "output_type": "execute_result"
    }
   ],
   "source": [
    "#Возьмем данные за актуальный период \n",
    "data_new = data.query(\"year_of_release >= 2014\")\n",
    "data_new.head(5)"
   ]
  },
  {
   "cell_type": "markdown",
   "metadata": {},
   "source": [
    "Для дальнейшего исследования будем использовать данные, которые могут быть актуальными для нашего периода. И так как применый период \"жизни\" платформ, как мы определили при анализи ранее, от 8 до 10 лет, возьмем 9 лет. То есть для будущего 2017 года будут актуальны платформы, которые были активны с 2010 года. "
   ]
  },
  {
   "cell_type": "markdown",
   "metadata": {},
   "source": [
    "Посмотри игры, которые выпущенный в выбранный нами актуальный период, для проведения анализа."
   ]
  },
  {
   "cell_type": "code",
   "execution_count": 12,
   "metadata": {},
   "outputs": [
    {
     "name": "stdout",
     "output_type": "stream",
     "text": [
      "platform\n",
      "PS4     288.15\n",
      "XOne    140.36\n",
      "3DS      86.68\n",
      "PS3      68.18\n",
      "X360     48.22\n",
      "WiiU     42.98\n",
      "PC       27.05\n",
      "PSV      22.40\n",
      "Wii       5.07\n",
      "PSP       0.36\n",
      "Name: total_sales, dtype: float64\n"
     ]
    }
   ],
   "source": [
    "#топ-5 платформ самых популярных платформ за актуальный период \n",
    "print(data_new.groupby(by=['platform'])['total_sales'].sum().sort_values(ascending=False))"
   ]
  },
  {
   "cell_type": "markdown",
   "metadata": {},
   "source": [
    "Из данных видно, что самыми популярными платформами являются PS4 и XOne, которые можно назвать наиболее перспективными для 2017 года. \n",
    "Это можно объяснить тем, что данные платформы являются наиболее новыми для пользователей. А такие платформы,\n",
    "как Wii и PSP уже утеряли свою актуальность и не поддерживают современные форматы игр. \n"
   ]
  },
  {
   "cell_type": "markdown",
   "metadata": {},
   "source": [
    "**Рассмотрим подробнее разбивку по играм выпущенным на различных платформах.** "
   ]
  },
  {
   "cell_type": "code",
   "execution_count": 13,
   "metadata": {},
   "outputs": [
    {
     "data": {
      "text/plain": [
       "(0.0, 2.0)"
      ]
     },
     "execution_count": 13,
     "metadata": {},
     "output_type": "execute_result"
    },
    {
     "data": {
      "image/png": "[encoded data removed]",
      "text/plain": [
       "<Figure size 864x720 with 1 Axes>"
      ]
     },
     "metadata": {
      "needs_background": "light"
     },
     "output_type": "display_data"
    }
   ],
   "source": [
    "#data_new.query(\"platform == 'PS3'\").boxplot(column = 'total_sales')\n",
    "#plt.title('PS3')\n",
    "#plt.xlabel('Платформа', fontsize=12)\n",
    "#plt.ylabel('Сумма продаж',fontsize=12)\n",
    "#plt.ylim(0, 15)\n",
    "\n",
    "import seaborn as sns\n",
    "\n",
    "plt.figure(figsize=(12,10))\n",
    "sns.boxplot(data=data_new, x='platform', y='total_sales')\n",
    "plt.title('Диаграмма размаха', fontsize=15)\n",
    "plt.xlabel('Платформы', fontsize=12)\n",
    "plt.ylabel('Сумма продаж',fontsize=12)\n",
    "plt.ylim(0,2)"
   ]
  },
  {
   "cell_type": "markdown",
   "metadata": {},
   "source": [
    "Медианные значения по топовым платформам варируются примерно от 0,1 до 1,8 млн рублей за одну (Wii, XOne, PS4). Это означает, что среднее сумма продаж одной игры составляется от 0,1 до 1,8 млн. \n",
    "\n",
    "Можно также выделить платформу PSP, медианное значение продаж, которого составляте примерно 0,025, что показывает, плохую окупаемость или же низкую стоимость продукта. "
   ]
  },
  {
   "cell_type": "markdown",
   "metadata": {},
   "source": [
    "\n",
    "\n",
    "\n",
    "**Посмотри, как влияют отзывы пользователей на продажи платформы**"
   ]
  },
  {
   "cell_type": "code",
   "execution_count": 14,
   "metadata": {},
   "outputs": [
    {
     "name": "stdout",
     "output_type": "stream",
     "text": [
      "Корреляция между отзывами и продажами: 1.0\n",
      "Корреляция между отзывами и продажами: nan\n"
     ]
    },
    {
     "data": {
      "text/plain": [
       "<matplotlib.collections.PathCollection at 0x7f4146a0d880>"
      ]
     },
     "execution_count": 14,
     "metadata": {},
     "output_type": "execute_result"
    },
    {
     "data": {
      "image/png": "[encoded data removed]",
      "text/plain": [
       "<Figure size 864x432 with 1 Axes>"
      ]
     },
     "metadata": {
      "needs_background": "light"
     },
     "output_type": "display_data"
    },
    {
     "data": {
      "image/png": "[encoded data removed]",
      "text/plain": [
       "<Figure size 864x432 with 1 Axes>"
      ]
     },
     "metadata": {
      "needs_background": "light"
     },
     "output_type": "display_data"
    }
   ],
   "source": [
    "#проверим корреляцию\n",
    "data_new_wii = data_new[data_new['platform']=='Wii']\n",
    "print(\"Корреляция между отзывами и продажами:\",data_new_wii['user_score'].corr(data_new_wii['total_sales']))\n",
    "print(\"Корреляция между отзывами и продажами:\",data_new_wii['critic_score'].corr(data_new_wii['total_sales']))\n",
    "\n",
    "\n",
    "#построим диаграмму рассеяности \n",
    "plt.figure(figsize=(12,6))\n",
    "plt.scatter(x='user_score', y='total_sales', data=data_new_wii, edgecolors = 'blue')\n",
    "plt.title('Диаграмма рассеяности Wii. Оценка пользоватлей.')\n",
    "plt.xlabel('Оценка')\n",
    "plt.ylabel('Сумма продаж')\n",
    "\n",
    "plt.figure(figsize=(12,6))\n",
    "plt.scatter(x='user_score', y='critic_score', data=data_new_wii, edgecolors = 'blue')\n",
    "plt.title('Диаграмма рассеяности Wii. Оценка  критиков.')\n",
    "plt.scatter(x='user_score', y='critic_score', data=data_new_wii, edgecolors = 'blue')\n"
   ]
  },
  {
   "cell_type": "markdown",
   "metadata": {},
   "source": [
    "Посмотрим подборнее с чем это может быть связано"
   ]
  },
  {
   "cell_type": "code",
   "execution_count": 15,
   "metadata": {
    "scrolled": true
   },
   "outputs": [
    {
     "data": {
      "text/html": [
       "<div>\n",
       "<style scoped>\n",
       "    .dataframe tbody tr th:only-of-type {\n",
       "        vertical-align: middle;\n",
       "    }\n",
       "\n",
       "    .dataframe tbody tr th {\n",
       "        vertical-align: top;\n",
       "    }\n",
       "\n",
       "    .dataframe thead th {\n",
       "        text-align: right;\n",
       "    }\n",
       "</style>\n",
       "<table border=\"1\" class=\"dataframe\">\n",
       "  <thead>\n",
       "    <tr style=\"text-align: right;\">\n",
       "      <th></th>\n",
       "      <th>name</th>\n",
       "      <th>platform</th>\n",
       "      <th>year_of_release</th>\n",
       "      <th>genre</th>\n",
       "      <th>na_sales</th>\n",
       "      <th>eu_sales</th>\n",
       "      <th>jp_sales</th>\n",
       "      <th>other_sales</th>\n",
       "      <th>critic_score</th>\n",
       "      <th>user_score</th>\n",
       "      <th>rating</th>\n",
       "      <th>total_sales</th>\n",
       "    </tr>\n",
       "  </thead>\n",
       "  <tbody>\n",
       "    <tr>\n",
       "      <th>850</th>\n",
       "      <td>Just Dance 2015</td>\n",
       "      <td>Wii</td>\n",
       "      <td>2014</td>\n",
       "      <td>Misc</td>\n",
       "      <td>0.99</td>\n",
       "      <td>0.85</td>\n",
       "      <td>0.0</td>\n",
       "      <td>0.17</td>\n",
       "      <td>NaN</td>\n",
       "      <td>8.4</td>\n",
       "      <td>E10+</td>\n",
       "      <td>2.01</td>\n",
       "    </tr>\n",
       "    <tr>\n",
       "      <th>2179</th>\n",
       "      <td>Just Dance 2016</td>\n",
       "      <td>Wii</td>\n",
       "      <td>2015</td>\n",
       "      <td>Misc</td>\n",
       "      <td>0.41</td>\n",
       "      <td>0.46</td>\n",
       "      <td>0.0</td>\n",
       "      <td>0.08</td>\n",
       "      <td>NaN</td>\n",
       "      <td>NaN</td>\n",
       "      <td>E10+</td>\n",
       "      <td>0.95</td>\n",
       "    </tr>\n",
       "    <tr>\n",
       "      <th>2180</th>\n",
       "      <td>Skylanders: Trap Team</td>\n",
       "      <td>Wii</td>\n",
       "      <td>2014</td>\n",
       "      <td>Action</td>\n",
       "      <td>0.41</td>\n",
       "      <td>0.46</td>\n",
       "      <td>0.0</td>\n",
       "      <td>0.08</td>\n",
       "      <td>NaN</td>\n",
       "      <td>NaN</td>\n",
       "      <td>E10+</td>\n",
       "      <td>0.95</td>\n",
       "    </tr>\n",
       "    <tr>\n",
       "      <th>3611</th>\n",
       "      <td>FIFA 15</td>\n",
       "      <td>Wii</td>\n",
       "      <td>2014</td>\n",
       "      <td>Sports</td>\n",
       "      <td>0.15</td>\n",
       "      <td>0.37</td>\n",
       "      <td>0.0</td>\n",
       "      <td>0.04</td>\n",
       "      <td>NaN</td>\n",
       "      <td>4.3</td>\n",
       "      <td>E</td>\n",
       "      <td>0.56</td>\n",
       "    </tr>\n",
       "    <tr>\n",
       "      <th>7991</th>\n",
       "      <td>How to Train Your Dragon 2</td>\n",
       "      <td>Wii</td>\n",
       "      <td>2014</td>\n",
       "      <td>Adventure</td>\n",
       "      <td>0.04</td>\n",
       "      <td>0.13</td>\n",
       "      <td>0.0</td>\n",
       "      <td>0.01</td>\n",
       "      <td>NaN</td>\n",
       "      <td>NaN</td>\n",
       "      <td>E10+</td>\n",
       "      <td>0.18</td>\n",
       "    </tr>\n",
       "    <tr>\n",
       "      <th>8009</th>\n",
       "      <td>Just Dance 2017</td>\n",
       "      <td>Wii</td>\n",
       "      <td>2016</td>\n",
       "      <td>Misc</td>\n",
       "      <td>0.06</td>\n",
       "      <td>0.11</td>\n",
       "      <td>0.0</td>\n",
       "      <td>0.01</td>\n",
       "      <td>NaN</td>\n",
       "      <td>NaN</td>\n",
       "      <td>E10+</td>\n",
       "      <td>0.18</td>\n",
       "    </tr>\n",
       "    <tr>\n",
       "      <th>8941</th>\n",
       "      <td>Skylanders: SuperChargers</td>\n",
       "      <td>Wii</td>\n",
       "      <td>2015</td>\n",
       "      <td>Action</td>\n",
       "      <td>0.02</td>\n",
       "      <td>0.12</td>\n",
       "      <td>0.0</td>\n",
       "      <td>0.01</td>\n",
       "      <td>NaN</td>\n",
       "      <td>NaN</td>\n",
       "      <td>unknown</td>\n",
       "      <td>0.15</td>\n",
       "    </tr>\n",
       "    <tr>\n",
       "      <th>13570</th>\n",
       "      <td>Disney Planes Fire &amp; Rescue</td>\n",
       "      <td>Wii</td>\n",
       "      <td>2014</td>\n",
       "      <td>Action</td>\n",
       "      <td>0.00</td>\n",
       "      <td>0.04</td>\n",
       "      <td>0.0</td>\n",
       "      <td>0.00</td>\n",
       "      <td>NaN</td>\n",
       "      <td>NaN</td>\n",
       "      <td>unknown</td>\n",
       "      <td>0.04</td>\n",
       "    </tr>\n",
       "    <tr>\n",
       "      <th>14682</th>\n",
       "      <td>Barbie and Her Sisters Puppy Rescue</td>\n",
       "      <td>Wii</td>\n",
       "      <td>2015</td>\n",
       "      <td>Action</td>\n",
       "      <td>0.00</td>\n",
       "      <td>0.03</td>\n",
       "      <td>0.0</td>\n",
       "      <td>0.00</td>\n",
       "      <td>NaN</td>\n",
       "      <td>NaN</td>\n",
       "      <td>E</td>\n",
       "      <td>0.03</td>\n",
       "    </tr>\n",
       "    <tr>\n",
       "      <th>16144</th>\n",
       "      <td>Penguins of Madagascar</td>\n",
       "      <td>Wii</td>\n",
       "      <td>2014</td>\n",
       "      <td>Action</td>\n",
       "      <td>0.00</td>\n",
       "      <td>0.01</td>\n",
       "      <td>0.0</td>\n",
       "      <td>0.00</td>\n",
       "      <td>NaN</td>\n",
       "      <td>NaN</td>\n",
       "      <td>E</td>\n",
       "      <td>0.01</td>\n",
       "    </tr>\n",
       "    <tr>\n",
       "      <th>16312</th>\n",
       "      <td>Monster High: New Ghoul in School</td>\n",
       "      <td>Wii</td>\n",
       "      <td>2015</td>\n",
       "      <td>Action</td>\n",
       "      <td>0.00</td>\n",
       "      <td>0.01</td>\n",
       "      <td>0.0</td>\n",
       "      <td>0.00</td>\n",
       "      <td>NaN</td>\n",
       "      <td>NaN</td>\n",
       "      <td>E</td>\n",
       "      <td>0.01</td>\n",
       "    </tr>\n",
       "  </tbody>\n",
       "</table>\n",
       "</div>"
      ],
      "text/plain": [
       "                                      name platform  year_of_release  \\\n",
       "850                        Just Dance 2015      Wii             2014   \n",
       "2179                       Just Dance 2016      Wii             2015   \n",
       "2180                 Skylanders: Trap Team      Wii             2014   \n",
       "3611                               FIFA 15      Wii             2014   \n",
       "7991            How to Train Your Dragon 2      Wii             2014   \n",
       "8009                       Just Dance 2017      Wii             2016   \n",
       "8941             Skylanders: SuperChargers      Wii             2015   \n",
       "13570          Disney Planes Fire & Rescue      Wii             2014   \n",
       "14682  Barbie and Her Sisters Puppy Rescue      Wii             2015   \n",
       "16144               Penguins of Madagascar      Wii             2014   \n",
       "16312    Monster High: New Ghoul in School      Wii             2015   \n",
       "\n",
       "           genre  na_sales  eu_sales  jp_sales  other_sales  critic_score  \\\n",
       "850         Misc      0.99      0.85       0.0         0.17           NaN   \n",
       "2179        Misc      0.41      0.46       0.0         0.08           NaN   \n",
       "2180      Action      0.41      0.46       0.0         0.08           NaN   \n",
       "3611      Sports      0.15      0.37       0.0         0.04           NaN   \n",
       "7991   Adventure      0.04      0.13       0.0         0.01           NaN   \n",
       "8009        Misc      0.06      0.11       0.0         0.01           NaN   \n",
       "8941      Action      0.02      0.12       0.0         0.01           NaN   \n",
       "13570     Action      0.00      0.04       0.0         0.00           NaN   \n",
       "14682     Action      0.00      0.03       0.0         0.00           NaN   \n",
       "16144     Action      0.00      0.01       0.0         0.00           NaN   \n",
       "16312     Action      0.00      0.01       0.0         0.00           NaN   \n",
       "\n",
       "       user_score   rating  total_sales  \n",
       "850           8.4     E10+         2.01  \n",
       "2179          NaN     E10+         0.95  \n",
       "2180          NaN     E10+         0.95  \n",
       "3611          4.3        E         0.56  \n",
       "7991          NaN     E10+         0.18  \n",
       "8009          NaN     E10+         0.18  \n",
       "8941          NaN  unknown         0.15  \n",
       "13570         NaN  unknown         0.04  \n",
       "14682         NaN        E         0.03  \n",
       "16144         NaN        E         0.01  \n",
       "16312         NaN        E         0.01  "
      ]
     },
     "execution_count": 15,
     "metadata": {},
     "output_type": "execute_result"
    }
   ],
   "source": [
    " data_new[data_new['platform']=='Wii']"
   ]
  },
  {
   "cell_type": "markdown",
   "metadata": {},
   "source": [
    "Оценки пользователей и критиков в большей части игр для данной платформы в большей мере отсутвуют, поэтому не целесообразно проводить анализ данной платформы на актульный период"
   ]
  },
  {
   "cell_type": "markdown",
   "metadata": {},
   "source": [
    "Зависимость между отзывами клиентов и продажами очень мала, так как коррелция равна всего 0,15"
   ]
  },
  {
   "cell_type": "code",
   "execution_count": 16,
   "metadata": {},
   "outputs": [
    {
     "name": "stdout",
     "output_type": "stream",
     "text": [
      "Корреляция между отзывами и продажами: -0.16676141347662118\n",
      "Корреляция между оценкой критиков и продажами: 0.44657460493190704\n"
     ]
    },
    {
     "data": {
      "text/plain": [
       "Text(0, 0.5, 'Сумма продаж')"
      ]
     },
     "execution_count": 16,
     "metadata": {},
     "output_type": "execute_result"
    },
    {
     "data": {
      "image/png": "[encoded data removed]",
      "text/plain": [
       "<Figure size 864x432 with 1 Axes>"
      ]
     },
     "metadata": {
      "needs_background": "light"
     },
     "output_type": "display_data"
    },
    {
     "data": {
      "image/png": "[encoded data removed]",
      "text/plain": [
       "<Figure size 864x432 with 1 Axes>"
      ]
     },
     "metadata": {
      "needs_background": "light"
     },
     "output_type": "display_data"
    }
   ],
   "source": [
    "#Посмотрим данные показтели и для других платформ\n",
    "data_new_ps3 = data_new[data_new['platform']=='PS3']\n",
    "print(\"Корреляция между отзывами и продажами:\",data_new_ps3['user_score'].corr(data_new_ps3['total_sales']))\n",
    "print(\"Корреляция между оценкой критиков и продажами:\",data_new_ps3['critic_score'].corr(data_new_ps3['total_sales']))\n",
    "\n",
    "#построим диаграмму рассеяности \n",
    "plt.figure(figsize=(12,6))\n",
    "plt.scatter(x='user_score', y='total_sales', data=data_new_ps3, edgecolors = 'blue')\n",
    "plt.title('Диаграмма рассеяности PS3')\n",
    "plt.xlabel('Оценка пользователями', fontsize=12)\n",
    "plt.ylabel('Сумма продаж',fontsize=12)\n",
    "\n",
    "plt.figure(figsize=(12,6))\n",
    "plt.title('Диаграмма рассеяности PS3(Оценка критиков)')\n",
    "plt.scatter(x='critic_score', y='total_sales', data=data_new_ps3, edgecolors = 'red')\n",
    "plt.xlabel('Оценка критиков', fontsize=12)\n",
    "plt.ylabel('Сумма продаж',fontsize=12)\n"
   ]
  },
  {
   "cell_type": "markdown",
   "metadata": {},
   "source": [
    "Корреляция между отзывами и продажами является очень слабоотрицательной, поэтому можно сделать вывод, что оценка пользователей не влияет на продажи. А корреляция между оценкой критиков и продажам положительно отрицательная, но также слаба, следовательо и оценка критиков не влияет на продажи."
   ]
  },
  {
   "cell_type": "code",
   "execution_count": 17,
   "metadata": {},
   "outputs": [
    {
     "name": "stdout",
     "output_type": "stream",
     "text": [
      "Корреляция между отзывами и продажами: -0.138444570945665\n",
      "Корреляция между отзывами и продажами: 0.5257228356581523\n"
     ]
    },
    {
     "data": {
      "text/plain": [
       "Text(0, 0.5, 'Сумма продаж')"
      ]
     },
     "execution_count": 17,
     "metadata": {},
     "output_type": "execute_result"
    },
    {
     "data": {
      "image/png": "[encoded data removed]",
      "text/plain": [
       "<Figure size 864x432 with 1 Axes>"
      ]
     },
     "metadata": {
      "needs_background": "light"
     },
     "output_type": "display_data"
    },
    {
     "data": {
      "image/png": "[encoded data removed]",
      "text/plain": [
       "<Figure size 864x432 with 1 Axes>"
      ]
     },
     "metadata": {
      "needs_background": "light"
     },
     "output_type": "display_data"
    }
   ],
   "source": [
    "#Посмотрим данные показтели и для других платформ\n",
    "data_new_x360 = data_new[data_new['platform']=='X360']\n",
    "print(\"Корреляция между отзывами и продажами:\",data_new_x360['user_score'].corr(data_new_x360['total_sales']))\n",
    "print(\"Корреляция между отзывами и продажами:\",data_new_x360['critic_score'].corr(data_new_x360['total_sales']))\n",
    "\n",
    "\n",
    "#построим диаграмму рассеяности \n",
    "plt.figure(figsize=(12,6))\n",
    "plt.scatter(x='user_score', y='total_sales', data=data_new_x360, edgecolors = 'blue')\n",
    "plt.title('Диаграмма рассеяности X360. Оценка пользователей.')\n",
    "plt.xlabel('Оценка', fontsize=12)\n",
    "plt.ylabel('Сумма продаж',fontsize=12)\n",
    "\n",
    "plt.figure(figsize=(12,6))\n",
    "plt.scatter(x='critic_score', y='total_sales', data=data_new_x360, edgecolors = 'red')\n",
    "plt.title('Диаграмма рассеяности X360. Оценка критиков.')\n",
    "plt.xlabel('Оценка', fontsize=12)\n",
    "plt.ylabel('Сумма продаж',fontsize=12)"
   ]
  },
  {
   "cell_type": "markdown",
   "metadata": {},
   "source": [
    "Корреляция между отзывами и продажами является очень слабоотрицательной, поэтому можно сделать вывод, что оценка пользователей не влияет на продажи. А корреляция между оценкой критиков и продажам положительно отрицательная, но также слаба, следовательо и оценка критиков не влияет на продажи."
   ]
  },
  {
   "cell_type": "markdown",
   "metadata": {},
   "source": [
    "Анализ влияния оценки пользователей и оценки критиков на продажи для платформы DS мы исключаем, так как данная платформа перестала выпускать игры с 2013 года. "
   ]
  },
  {
   "cell_type": "code",
   "execution_count": 18,
   "metadata": {},
   "outputs": [
    {
     "name": "stdout",
     "output_type": "stream",
     "text": [
      "Корреляция между отзывами и продажами: -0.040131589472697356\n",
      "Корреляция между оценкой критиков и продажами: 0.40266141068104083\n"
     ]
    },
    {
     "data": {
      "text/plain": [
       "Text(0, 0.5, 'Сумма продаж')"
      ]
     },
     "execution_count": 18,
     "metadata": {},
     "output_type": "execute_result"
    },
    {
     "data": {
      "image/png": "[encoded data removed]",
      "text/plain": [
       "<Figure size 864x432 with 1 Axes>"
      ]
     },
     "metadata": {
      "needs_background": "light"
     },
     "output_type": "display_data"
    },
    {
     "data": {
      "image/png": "[encoded data removed]",
      "text/plain": [
       "<Figure size 864x432 with 1 Axes>"
      ]
     },
     "metadata": {
      "needs_background": "light"
     },
     "output_type": "display_data"
    }
   ],
   "source": [
    "#Посмотрим данные показтели и для других платформ\n",
    "data_new_ps4 = data_new[data_new['platform']=='PS4']\n",
    "print(\"Корреляция между отзывами и продажами:\",data_new_ps4['user_score'].corr(data_new_ps4['total_sales']))\n",
    "print(\"Корреляция между оценкой критиков и продажами:\",data_new_ps4['critic_score'].corr(data_new_ps4['total_sales']))\n",
    "\n",
    "#построим диаграмму рассеяности \n",
    "plt.figure(figsize=(12,6))\n",
    "plt.scatter(x='user_score', y='total_sales', data=data_new_ps4 , edgecolors = 'blue')\n",
    "plt.title('Диаграмма рассеяности PS4. Оценка пользователей')\n",
    "plt.xlabel('Оценка', fontsize=12)\n",
    "plt.ylabel('Сумма продаж',fontsize=12)\n",
    "\n",
    "\n",
    "plt.figure(figsize=(12,6))\n",
    "plt.scatter(x='critic_score', y='total_sales', data=data_new_ps4 , edgecolors = 'red')\n",
    "plt.title('Диаграмма рассеяности PS4. Оценка критиков')\n",
    "plt.legend('Оценка критиков')\n",
    "plt.xlabel('Оценка', fontsize=12)\n",
    "plt.ylabel('Сумма продаж',fontsize=12)\n"
   ]
  },
  {
   "cell_type": "markdown",
   "metadata": {},
   "source": [
    "Корреляция между отзывами и продажами является слабоотрицательной, поэтому можно сделать вывод, что оценка пользователей не влияет на продажи. А корреляция между оценкой критиков и продажам положительно отрицательная, но также слаба, следовательо и оценка критиков не влияет на продажи. Я думаю, что популярность отдельных игр могла быть связана с рекламными компаниями платформы. "
   ]
  },
  {
   "cell_type": "markdown",
   "metadata": {},
   "source": [
    "На всех платформа замечается низкая корреляция, можно сделать вывод, что продажи не зависят от отзывов. "
   ]
  },
  {
   "cell_type": "code",
   "execution_count": 19,
   "metadata": {},
   "outputs": [
    {
     "name": "stdout",
     "output_type": "stream",
     "text": [
      "genre\n",
      "Action          199.36\n",
      "Shooter         170.94\n",
      "Sports          109.48\n",
      "Role-Playing    101.44\n",
      "Misc             37.55\n",
      "Fighting         28.22\n",
      "Racing           27.52\n",
      "Platform         18.09\n",
      "Adventure        17.55\n",
      "Simulation       13.13\n",
      "Strategy          3.96\n",
      "Puzzle            2.21\n",
      "Name: total_sales, dtype: float64\n"
     ]
    },
    {
     "data": {
      "text/plain": [
       "Text(0, 0.5, 'Сумма продаж')"
      ]
     },
     "execution_count": 19,
     "metadata": {},
     "output_type": "execute_result"
    },
    {
     "data": {
      "image/png": "[encoded data removed]",
      "text/plain": [
       "<Figure size 936x288 with 1 Axes>"
      ]
     },
     "metadata": {
      "needs_background": "light"
     },
     "output_type": "display_data"
    }
   ],
   "source": [
    "data_genre = data_new.groupby(by='genre')['total_sales'].sum().sort_values(ascending=False)\n",
    "print(data_genre)\n",
    "data_genre.plot(kind='bar', figsize=(13,4))\n",
    "plt.xlabel('Жанры', fontsize=12)\n",
    "plt.ylabel('Сумма продаж',fontsize=12)"
   ]
  },
  {
   "cell_type": "markdown",
   "metadata": {},
   "source": [
    "Можно выделить самые распространные жанры по продажам: Action, Shooter. Реже всего покупают: Puzzle,Strategy. Это можно объяснить тем, что в данный период жанры экшен и шутер только набирали свою популярность. Пользователей больше привликали игры с хорошей графикой и интерсейсом, которые приближены к реальной жизни, нежели устаревшие жанры пазлов и стратегии. С улучшением возможностей ПК возрос спрос на новые жанры. "
   ]
  },
  {
   "cell_type": "markdown",
   "metadata": {},
   "source": [
    "Сравним медианны продаж для разных жанров. "
   ]
  },
  {
   "cell_type": "code",
   "execution_count": 20,
   "metadata": {},
   "outputs": [
    {
     "data": {
      "text/plain": [
       "Text(0, 0.5, 'Сумма продаж')"
      ]
     },
     "execution_count": 20,
     "metadata": {},
     "output_type": "execute_result"
    },
    {
     "data": {
      "image/png": "[encoded data removed]",
      "text/plain": [
       "<Figure size 864x720 with 1 Axes>"
      ]
     },
     "metadata": {
      "needs_background": "light"
     },
     "output_type": "display_data"
    }
   ],
   "source": [
    "import seaborn as sns\n",
    "\n",
    "plt.figure(figsize=(12,10))\n",
    "sns.boxplot(data=data_new, x='genre', y='total_sales')\n",
    "plt.title('Диаграмма размаха', fontsize=15)\n",
    "plt.xlabel('Жанры', fontsize=12)\n",
    "plt.ylabel('Сумма продаж',fontsize=12)"
   ]
  },
  {
   "cell_type": "markdown",
   "metadata": {},
   "source": [
    "По диаграмме размаха видно, что больше всего продаются жанры schooter, sports, platform. \n",
    "Такое отличие связано с тем, что у различных жанров есть отдельные продажы по играм, которыестали очень популярными. "
   ]
  },
  {
   "cell_type": "markdown",
   "metadata": {},
   "source": [
    "## Составление портрета пользователя каждого региона"
   ]
  },
  {
   "cell_type": "code",
   "execution_count": 21,
   "metadata": {},
   "outputs": [
    {
     "data": {
      "image/png": "[encoded data removed]",
      "text/plain": [
       "<Figure size 1152x360 with 3 Axes>"
      ]
     },
     "metadata": {
      "needs_background": "light"
     },
     "output_type": "display_data"
    }
   ],
   "source": [
    "#топ-5 платформ для Европы\n",
    "data_platform_eu = pd.pivot_table(data_new, index='platform', values='eu_sales', aggfunc='sum')\\\n",
    "              .sort_values('eu_sales',ascending=False).reset_index()\n",
    "top_eu = data_platform_eu.head(5)\n",
    "data_platform_eu['platform']=data_platform_eu['platform'].where(data_platform_eu['platform']\\\n",
    "                                                           .isin(top_eu['platform']),'Другие')\n",
    "\n",
    "#топ-5 платформ для Японии\n",
    "data_platform_jp = pd.pivot_table(data_new, index='platform', values='jp_sales', aggfunc='sum')\\\n",
    "              .sort_values('jp_sales',ascending=False).reset_index()\n",
    "top_jp = data_platform_jp.head(5)\n",
    "data_platform_jp['platform']=data_platform_jp['platform'].where(data_platform_jp['platform']\\\n",
    "                                                           .isin(top_jp['platform']),'Другие')\n",
    "#топ-5 платформ для Северной Америки\n",
    "data_platform_na = pd.pivot_table(data_new, index='platform', values='na_sales', aggfunc='sum')\\\n",
    "              .sort_values('na_sales',ascending=False).reset_index()\n",
    "top_na = data_platform_na.head(5)\n",
    "data_platform_na['platform']=data_platform_na['platform'].where(data_platform_na ['platform']\\\n",
    "                                                           .isin(top_na['platform']),'Другие')\n",
    "\n",
    "\n",
    "fig, (ax,ax1,ax2) = plt.subplots(1,3, figsize=(16,5))\n",
    "fig.suptitle('Топ-5 платформ в разных регионах')\n",
    "\n",
    "ax.bar(data_platform_eu['platform'],data_platform_eu['eu_sales'])\n",
    "ax.set_title('Европа')\n",
    "ax1.bar(data_platform_jp['platform'],data_platform_jp['jp_sales'])\n",
    "ax1.set_title('Япония')\n",
    "ax2.bar(data_platform_na['platform'],data_platform_na['na_sales'])\n",
    "ax2.set_title('Северная Америка')\n",
    "plt.show()"
   ]
  },
  {
   "cell_type": "markdown",
   "metadata": {},
   "source": [
    "- В Европе самым популярной платформой является PS4, которая сильно отличается от показателей остальных платформ \n",
    "- В Японии попурной платформой является 3DS\n",
    "- в Северной Америки есть 2 популярные платформы PS4 и XOne"
   ]
  },
  {
   "cell_type": "code",
   "execution_count": 22,
   "metadata": {},
   "outputs": [
    {
     "name": "stderr",
     "output_type": "stream",
     "text": [
      "/tmp/ipykernel_813/3288621585.py:9: UserWarning: Pandas doesn't allow columns to be created via a new attribute name - see https://pandas.pydata.org/pandas-docs/stable/indexing.html#attribute-access\n",
      "  data_genre_eu.colums=['eu_sales']\n",
      "/tmp/ipykernel_813/3288621585.py:23: UserWarning: Pandas doesn't allow columns to be created via a new attribute name - see https://pandas.pydata.org/pandas-docs/stable/indexing.html#attribute-access\n",
      "  data_genre_jp.colums=['jp_sales']\n",
      "/tmp/ipykernel_813/3288621585.py:36: UserWarning: Pandas doesn't allow columns to be created via a new attribute name - see https://pandas.pydata.org/pandas-docs/stable/indexing.html#attribute-access\n",
      "  data_genre_na.colums=['na_sales']\n"
     ]
    },
    {
     "data": {
      "text/plain": [
       "Text(0.5, 1.0, 'Северная Америка')"
      ]
     },
     "execution_count": 22,
     "metadata": {},
     "output_type": "execute_result"
    },
    {
     "data": {
      "image/png": "[encoded data removed]",
      "text/plain": [
       "<Figure size 360x360 with 1 Axes>"
      ]
     },
     "metadata": {},
     "output_type": "display_data"
    },
    {
     "data": {
      "image/png": "[encoded data removed]",
      "text/plain": [
       "<Figure size 360x360 with 1 Axes>"
      ]
     },
     "metadata": {},
     "output_type": "display_data"
    },
    {
     "data": {
      "image/png": "[encoded data removed]",
      "text/plain": [
       "<Figure size 360x360 with 1 Axes>"
      ]
     },
     "metadata": {},
     "output_type": "display_data"
    }
   ],
   "source": [
    "#топ-5 жанров для Европы\n",
    "data_genre_eu = pd.pivot_table(data_new, index='genre', values='eu_sales', aggfunc='sum')\\\n",
    "              .sort_values('eu_sales',ascending=False).reset_index()\n",
    "top_eu_genre = data_genre_eu.head(5)\n",
    "data_genre_eu['genre']=data_genre_eu['genre'].where(data_genre_eu['genre']\\\n",
    "                                                           .isin(top_eu_genre['genre']),'Другие')\n",
    "\n",
    "data_genre_eu=data_genre_eu.groupby(by='genre').agg([\"sum\"])\n",
    "data_genre_eu.colums=['eu_sales']\n",
    "\n",
    "\n",
    "data_genre_eu['eu_sales'].plot(kind='pie', figsize=(5,5), subplots=True)\n",
    "plt.title('Европа', fontsize=15)\n",
    "\n",
    "#топ-5 жанров для Японии\n",
    "data_genre_jp = pd.pivot_table(data_new, index='genre', values='jp_sales', aggfunc='sum')\\\n",
    "              .sort_values('jp_sales',ascending=False).reset_index()\n",
    "top_jp_genre = data_genre_jp.head(5)\n",
    "data_genre_jp['genre']= data_genre_jp['genre'].where(data_genre_jp['genre']\\\n",
    "                                                           .isin(top_jp_genre['genre']),'Другие')\n",
    "\n",
    "data_genre_jp=data_genre_jp.groupby(by='genre').agg([\"sum\"])\n",
    "data_genre_jp.colums=['jp_sales']\n",
    "\n",
    "data_genre_jp['jp_sales'].plot(kind='pie', figsize=(5,5), subplots=True)\n",
    "plt.title('Япония', fontsize=15)\n",
    "\n",
    "#топ-5 жанров для Северной Америки\n",
    "data_genre_na = pd.pivot_table(data_new, index='genre', values='na_sales', aggfunc='sum')\\\n",
    "              .sort_values('na_sales',ascending=False).reset_index()\n",
    "top_na_genre = data_genre_na.head(5)\n",
    "data_genre_na['genre']= data_genre_na['genre'].where(data_genre_na ['genre']\\\n",
    "                                        .isin(top_na_genre['genre']),'Другие')\n",
    "\n",
    "data_genre_na = data_genre_na.groupby(by='genre').agg([\"sum\"])\n",
    "data_genre_na.colums=['na_sales']\n",
    "\n",
    "\n",
    "data_genre_na['na_sales'].plot(kind='pie', figsize=(5,5), subplots=True)\n",
    "plt.title('Северная Америка', fontsize=15)\n",
    "\n",
    "\n"
   ]
  },
  {
   "cell_type": "markdown",
   "metadata": {},
   "source": [
    "Самые популярные жанры во всех регионах Action, Schooter и Role-Playing"
   ]
  },
  {
   "cell_type": "code",
   "execution_count": 23,
   "metadata": {},
   "outputs": [
    {
     "name": "stderr",
     "output_type": "stream",
     "text": [
      "/tmp/ipykernel_813/1748283296.py:9: UserWarning: Pandas doesn't allow columns to be created via a new attribute name - see https://pandas.pydata.org/pandas-docs/stable/indexing.html#attribute-access\n",
      "  data_rating_eu.colums=['eu_sales']\n",
      "/tmp/ipykernel_813/1748283296.py:23: UserWarning: Pandas doesn't allow columns to be created via a new attribute name - see https://pandas.pydata.org/pandas-docs/stable/indexing.html#attribute-access\n",
      "  data_rating_jp.colums=['jp_sales']\n",
      "/tmp/ipykernel_813/1748283296.py:36: UserWarning: Pandas doesn't allow columns to be created via a new attribute name - see https://pandas.pydata.org/pandas-docs/stable/indexing.html#attribute-access\n",
      "  data_rating_na.colums=['na_sales']\n"
     ]
    },
    {
     "data": {
      "text/plain": [
       "Text(0.5, 1.0, 'Северная Америка')"
      ]
     },
     "execution_count": 23,
     "metadata": {},
     "output_type": "execute_result"
    },
    {
     "data": {
      "image/png": "[encoded data removed]",
      "text/plain": [
       "<Figure size 360x360 with 1 Axes>"
      ]
     },
     "metadata": {},
     "output_type": "display_data"
    },
    {
     "data": {
      "image/png": "[encoded data removed]",
      "text/plain": [
       "<Figure size 360x360 with 1 Axes>"
      ]
     },
     "metadata": {},
     "output_type": "display_data"
    },
    {
     "data": {
      "image/png": "[encoded data removed]",
      "text/plain": [
       "<Figure size 360x360 with 1 Axes>"
      ]
     },
     "metadata": {},
     "output_type": "display_data"
    }
   ],
   "source": [
    "#влияние рейтинга ERSB для Европы\n",
    "data_rating_eu = pd.pivot_table(data_new, index='rating', values='eu_sales', aggfunc='sum')\\\n",
    "              .sort_values('eu_sales',ascending=False).reset_index()\n",
    "top_eu_rating = data_rating_eu.head(5)\n",
    "data_rating_eu['rating']=data_rating_eu['rating'].where(data_rating_eu['rating']\\\n",
    "                                                           .isin(top_eu_rating['rating']),'Другие')\n",
    "\n",
    "data_rating_eu=data_rating_eu.groupby(by='rating').agg([\"sum\"])\n",
    "data_rating_eu.colums=['eu_sales']\n",
    "\n",
    "\n",
    "data_rating_eu['eu_sales'].plot(kind='pie', figsize=(5,5), subplots=True)\n",
    "plt.title('Европа', fontsize=15)\n",
    "\n",
    "#влияние рейтинга ERSB для Японии\n",
    "data_rating_jp = pd.pivot_table(data_new, index='rating', values='jp_sales', aggfunc='sum')\\\n",
    "              .sort_values('jp_sales',ascending=False).reset_index()\n",
    "top_jp_rating = data_rating_jp.head(5)\n",
    "data_rating_jp['rating']= data_rating_jp['rating'].where(data_rating_jp['rating']\\\n",
    "                                                           .isin(top_jp_rating['rating']),'Другие')\n",
    "\n",
    "data_rating_jp=data_rating_jp.groupby(by='rating').agg([\"sum\"])\n",
    "data_rating_jp.colums=['jp_sales']\n",
    "\n",
    "data_rating_jp['jp_sales'].plot(kind='pie', figsize=(5,5), subplots=True)\n",
    "plt.title('Япония', fontsize=15)\n",
    "\n",
    "#влияние рейтинга ERSB для Северной Америки\n",
    "data_rating_na = pd.pivot_table(data_new, index='rating', values='na_sales', aggfunc='sum')\\\n",
    "              .sort_values('na_sales',ascending=False).reset_index()\n",
    "top_na_rating = data_rating_na.head(5)\n",
    "data_rating_na['rating']= data_rating_na['rating'].where(data_rating_na ['rating']\\\n",
    "                                        .isin(top_na_rating['rating']),'Другие')\n",
    "\n",
    "data_rating_na = data_rating_na.groupby(by='rating').agg([\"sum\"])\n",
    "data_rating_na.colums=['na_sales']\n",
    "\n",
    "\n",
    "data_rating_na['na_sales'].plot(kind='pie', figsize=(5,5), subplots=True)\n",
    "plt.title('Северная Америка', fontsize=15)"
   ]
  },
  {
   "cell_type": "markdown",
   "metadata": {},
   "source": [
    "- В Северной Америке самым популярным жанром является Schooter и Action, а самой популярной плаформой PS4. Большее количество продаж приходится на игры с рейтингом 'M'\n",
    "- В Европе самым популярным жанром является Action, а самой популярной платоформой PS4. Чаще всего в этом регионе выбирают игры с рейтингом \"М\", вторыми по продажами являются игры без оценки. Из этого можно сделать вывод, что оценка не влиет на продажи. \n",
    "- В Японии самым полярным жанром является Role-Playing, а самой популярной платформой 3DS. В это регионе чаще всего выбирают игры без рейтинга, поэтому совершенно точно можно сказать, что оценка никак не влияет на продажи.  \n",
    "- В других странах приобладает жанр Action, а платформа PS4. Для остальных регионов рейтинг также влияет, такак как в основом пользователи выбирают игры с оценкой \"М\", а второе место занимают игры без оценки, следовательно оценка также не влиет на продажи. \n",
    "\n",
    "Для большенства регионов беспорным лидером среди жанров является Action, с которым конкурирует Shooter,  исключением Японии. Также можно сказать и о платформах. Во всех регионах, кроме Северной Америки лидирует PS3, а второе место занимает X360. За исключениме Японии, где беспорным лидером является 3DS. Очень часто пользователи выбирают игры без рейтинга, поэтому можно сказать, что он не влияет на продажи. \n"
   ]
  },
  {
   "cell_type": "code",
   "execution_count": 24,
   "metadata": {},
   "outputs": [
    {
     "name": "stdout",
     "output_type": "stream",
     "text": [
      "0 0.0\n"
     ]
    },
    {
     "data": {
      "text/plain": [
       "unknown    749\n",
       "T          271\n",
       "M          265\n",
       "E          219\n",
       "E10+       185\n",
       "Name: rating, dtype: int64"
      ]
     },
     "execution_count": 24,
     "metadata": {},
     "output_type": "execute_result"
    }
   ],
   "source": [
    "# Комментарий ревьюера\n",
    "temp = data_new.copy()\n",
    "print(temp.rating.isna().sum(), temp.rating.isna().sum()/len(temp))\n",
    "temp.rating.value_counts()"
   ]
  },
  {
   "cell_type": "markdown",
   "metadata": {},
   "source": [
    "## Проверка гипотез\n",
    "### Выдвинем нулевую гипотезу: Средние пользовательские рейтинги платформ Xbox One и PC одинаковые \n",
    "**Альтернативная гипотеза: Средне пользовательский рейтинг платформ Xbox One и PC разный***"
   ]
  },
  {
   "cell_type": "code",
   "execution_count": 25,
   "metadata": {},
   "outputs": [
    {
     "name": "stdout",
     "output_type": "stream",
     "text": [
      "165\n",
      "165\n"
     ]
    }
   ],
   "source": [
    "xone = data_new[(data_new['platform'] == 'XOne') & (data_new['user_score'] > 0)]['user_score']\n",
    "pc = data_new[(data_new['platform'] == 'PC') & (data_new['user_score'] > 0)]['user_score']\n",
    "\n",
    "print(xone.count())\n",
    "print(xone.count())"
   ]
  },
  {
   "cell_type": "markdown",
   "metadata": {},
   "source": [
    "Так как отобранные нами срез имеет достаточно малый объем, то можем взять значение alpha = 0.05. И провести t-распределения Стьюдетна, так как выборки независят друг от друга."
   ]
  },
  {
   "cell_type": "code",
   "execution_count": 26,
   "metadata": {},
   "outputs": [
    {
     "name": "stdout",
     "output_type": "stream",
     "text": [
      "0.11601398086668832\n",
      "Не получилось отвергнуть нулевую гипотезу\n"
     ]
    }
   ],
   "source": [
    "from scipy import stats as st\n",
    "\n",
    "xone = data_new[(data_new['platform'] == 'XOne') & (data_new['user_score'] > 0)]['user_score']\n",
    "pc = data_new[(data_new['platform'] == 'PC') & (data_new['user_score'] > 0)]['user_score']\n",
    "results = st.ttest_ind(xone, pc, equal_var=False)\n",
    "\n",
    "alpha = 0.05\n",
    "\n",
    "print(results.pvalue)\n",
    " \n",
    "if (results.pvalue<alpha):\n",
    "    print(\"Отвергаем нулевую гипотезу\")\n",
    "else:\n",
    "    print(\"Не получилось отвергнуть нулевую гипотезу\")\n",
    "\n"
   ]
  },
  {
   "cell_type": "markdown",
   "metadata": {},
   "source": [
    "\n",
    "\n",
    "На имеющихся данных, на уровне значимости 5% нет оснований отвергнуть нулевую гипотезу о равенстве средних значений **cредне пользовательский рейтинг платформ Xbox One и PC**.\n",
    "\n",
    "### Выдвинем нулевую гипотезу: Средне пользовательская оценка жанров Action и Sport одинаковые.\n",
    "**Альтернативная гипотеза: Средне пользовательская оценка жарнов Action и Sport разная.** "
   ]
  },
  {
   "cell_type": "code",
   "execution_count": 27,
   "metadata": {},
   "outputs": [
    {
     "name": "stdout",
     "output_type": "stream",
     "text": [
      "297\n",
      "127\n"
     ]
    }
   ],
   "source": [
    "action = data_new[(data_new['genre'] == 'Action') & (data_new['user_score'] > 0)]['user_score']\n",
    "sports = data_new[(data_new['genre'] == 'Sports') & (data_new['user_score'] > 0)]['user_score']\n",
    "\n",
    "print(action.count())\n",
    "print(sports.count())"
   ]
  },
  {
   "cell_type": "markdown",
   "metadata": {},
   "source": [
    "Аналогчно с предыдущей проверкой гипотезы проведем t-тест. "
   ]
  },
  {
   "cell_type": "code",
   "execution_count": 28,
   "metadata": {},
   "outputs": [
    {
     "name": "stdout",
     "output_type": "stream",
     "text": [
      "1.1825550382644557e-14\n",
      "Отвергаем нулевую гипотезу\n"
     ]
    }
   ],
   "source": [
    "action = data_new[(data_new['genre'] == 'Action') & (data_new['user_score'] > 0)]['user_score']\n",
    "sports = data_new[(data_new['genre'] == 'Sports') & (data_new['user_score'] > 0)]['user_score']\n",
    "results = st.ttest_ind(action, sports, equal_var=False)\n",
    "\n",
    "\n",
    "alpha = 0.05\n",
    "\n",
    "print(results.pvalue)\n",
    "\n",
    "if (results.pvalue<alpha):\n",
    "    print(\"Отвергаем нулевую гипотезу\")\n",
    "else:\n",
    "    print(\"Не получилось отвергнуть нулевую гипотезу\")\n"
   ]
  },
  {
   "cell_type": "markdown",
   "metadata": {},
   "source": [
    "На имеющихся данных, на уровне значимости 5% есть основания отвергнуть нулевую гипотезу о равенстве средних значений пользовательских рейтингов (отзывов) **жанров Action и Sports в пользу альтернативной гипотезы**."
   ]
  },
  {
   "cell_type": "markdown",
   "metadata": {},
   "source": [
    "Для проведение анализа мы использовали критерий P-value. Благодаря этому показателю мы получаем вероятность получить значение стистики критерия равное наблюдаемому.  \n",
    "И мы сравниваем его с уровенем значимости (𝛼) равное 0,05. Это означает, что при исследовании мы отвергним нулевую гипотезу в 5% случаев, даже при условии ее правдивости. \n",
    "При сравнии этих друг показателей мы можем определить правильность выдвинутой гипотезы. \n",
    "\n"
   ]
  },
  {
   "cell_type": "markdown",
   "metadata": {},
   "source": [
    "## Общий вывод\n",
    "\n",
    "В процессе анализа мы сделали: \n",
    "- Проанализировали полученный набор данных. \n",
    "- Заменили пропущенные значения, дубликаты и исключили данные, которые не носили в себе цельной информации для анализа. Для столбца 'user_score' мы проверили подробный анализ с уточнениями аббревиатуры \"tbd\", в ходе которого выявили, что оно обозначает \"не определено\". Для столбца даты мы также провели исследование и узнали, что часть названий содержит в себе год создания и использовали этот показатель для столбца \"year_of_release\".  \n",
    "- Провели анализ данных после обработки для понимания результатов для разных платформ в разрезах всего промежутка их существования. \n",
    "- Выделили акуальные на данный момент набор данных для дальнейшего анализа. \n",
    "- Составили портрет по регионам. \n",
    "- Проверили гипотезы, которые были выдвинуты. \n",
    "\n",
    "В ходе исследования нам получилось выяснить, что самым популярным жанром с 2014 по 2016 год является Action и Schooter. Для каждого региона за исключением Японии. \n",
    " \n",
    "Исследуя различные платформы нам удалось выяснить, что средний срок \"жизни\" платформы 8-10 лет. Чаще всего они продают самое большое количество игр спустя 4-5 лет после основания, за исключением отдельных платформ. \n",
    "Мы выснили, что игровая индустрия начала свое развитие с 1980 года и развивалась с каждым годом, до мирового кризиса в 2009 году, который снизил появляение новых игр. \n",
    "\n",
    "В следующем году я бы акцентировала внимание на такие жанры игр как Schooter и Role-Playing. Так как в Северной Америке жанр Schooter занимает первое место в рейтинге, а Европе и других регионах, которые мы не рассматривали более детально они занимаю второе место. Следовательно, при большей рекламной компании в данном регионе игры этого жанра могли занять первую позицию. Также стоит обратить внимание на жанр Role-Playing, так как он уже приобрел популярность в Японии и есть вероятность, что полюбится пользователям и из других регионах. И конечно можно выделить небольшую часть на развитие жанра Sport, так как почти во всех регионах он занимает 3 место.\n",
    "\n",
    "Самым популярной платформой является PS4, одна при сравнении продаж с прошлым годом ее популярность снизилась и может набирать такие же обороты, возможно стоит вкладывать в рекламы даной платформы. То же самое можно сказать и про XOne - относительно новая платформа, но занимает 2 место и имеет тенденцию снижения продаж, в сравнении 2015 и 2016 года. Также есть смысл вкладываться в платформу 3DS, так как она существует с 2010 годаи и еще будет актуальна от 2 до 3 лет, одна имеет тенденцию спада продаж. Останые платформы нет смысла развивать, так как они имеют достаточно большой срок \"жизни\" и скорее всего потеряют свою актуальность окончательно с 2017 году. \n",
    "\n",
    "Я счиатаю, что обращаться внимание на отзывы, так как чаще всего люди не производят данную оценку или же она вообще не влиет на продажи. "
   ]
  }
 ],
 "metadata": {
  "ExecuteTimeLog": [
   {
    "duration": 372,
    "start_time": "2023-01-30T17:06:04.194Z"
   },
   {
    "duration": 105,
    "start_time": "2023-01-30T17:06:27.769Z"
   },
   {
    "duration": 124,
    "start_time": "2023-01-30T17:35:03.632Z"
   },
   {
    "duration": 67,
    "start_time": "2023-01-30T17:38:03.932Z"
   },
   {
    "duration": 9,
    "start_time": "2023-01-30T17:38:09.587Z"
   },
   {
    "duration": 4,
    "start_time": "2023-01-30T17:38:16.713Z"
   },
   {
    "duration": 18,
    "start_time": "2023-01-30T17:39:32.160Z"
   },
   {
    "duration": 27,
    "start_time": "2023-01-30T17:40:29.144Z"
   },
   {
    "duration": 43,
    "start_time": "2023-01-30T17:41:37.407Z"
   },
   {
    "duration": 32,
    "start_time": "2023-01-30T17:42:25.187Z"
   },
   {
    "duration": 16,
    "start_time": "2023-01-30T17:42:33.771Z"
   },
   {
    "duration": 12,
    "start_time": "2023-01-30T17:43:51.307Z"
   },
   {
    "duration": 33,
    "start_time": "2023-01-30T17:44:04.251Z"
   },
   {
    "duration": 14,
    "start_time": "2023-01-30T17:45:04.332Z"
   },
   {
    "duration": 10,
    "start_time": "2023-01-30T17:45:15.428Z"
   },
   {
    "duration": 404,
    "start_time": "2023-02-01T16:03:31.141Z"
   },
   {
    "duration": 108,
    "start_time": "2023-02-01T16:03:31.644Z"
   },
   {
    "duration": 78,
    "start_time": "2023-02-01T16:06:08.819Z"
   },
   {
    "duration": 9,
    "start_time": "2023-02-01T16:06:23.618Z"
   },
   {
    "duration": 9,
    "start_time": "2023-02-01T16:10:52.168Z"
   },
   {
    "duration": 25,
    "start_time": "2023-02-01T16:14:05.164Z"
   },
   {
    "duration": 26,
    "start_time": "2023-02-01T16:14:25.852Z"
   },
   {
    "duration": 17,
    "start_time": "2023-02-01T16:14:41.671Z"
   },
   {
    "duration": 24,
    "start_time": "2023-02-01T16:14:54.531Z"
   },
   {
    "duration": 19,
    "start_time": "2023-02-01T16:16:01.242Z"
   },
   {
    "duration": 23,
    "start_time": "2023-02-01T16:16:15.910Z"
   },
   {
    "duration": 42,
    "start_time": "2023-02-01T16:21:26.699Z"
   },
   {
    "duration": 3,
    "start_time": "2023-02-01T16:21:45.801Z"
   },
   {
    "duration": 53,
    "start_time": "2023-02-01T16:21:46.217Z"
   },
   {
    "duration": 40,
    "start_time": "2023-02-01T16:21:46.717Z"
   },
   {
    "duration": 52,
    "start_time": "2023-02-01T16:22:46.533Z"
   },
   {
    "duration": 50,
    "start_time": "2023-02-01T16:22:47.370Z"
   },
   {
    "duration": 35,
    "start_time": "2023-02-01T16:23:16.923Z"
   },
   {
    "duration": 2,
    "start_time": "2023-02-01T16:23:23.652Z"
   },
   {
    "duration": 56,
    "start_time": "2023-02-01T16:23:24.037Z"
   },
   {
    "duration": 34,
    "start_time": "2023-02-01T16:23:24.532Z"
   },
   {
    "duration": 19,
    "start_time": "2023-02-01T16:24:39.447Z"
   },
   {
    "duration": 16,
    "start_time": "2023-02-01T16:25:05.220Z"
   },
   {
    "duration": 35,
    "start_time": "2023-02-01T16:27:14.635Z"
   },
   {
    "duration": 145,
    "start_time": "2023-02-01T16:28:15.997Z"
   },
   {
    "duration": 404,
    "start_time": "2023-02-01T16:28:23.191Z"
   },
   {
    "duration": 45,
    "start_time": "2023-02-01T16:29:02.447Z"
   },
   {
    "duration": 389,
    "start_time": "2023-02-02T16:34:28.310Z"
   },
   {
    "duration": 218,
    "start_time": "2023-02-02T16:34:28.703Z"
   },
   {
    "duration": 112,
    "start_time": "2023-02-02T16:35:38.182Z"
   },
   {
    "duration": 42,
    "start_time": "2023-02-02T16:35:51.746Z"
   },
   {
    "duration": 48,
    "start_time": "2023-02-02T16:36:33.521Z"
   },
   {
    "duration": 36,
    "start_time": "2023-02-02T16:36:51.766Z"
   },
   {
    "duration": 155,
    "start_time": "2023-02-02T16:42:22.514Z"
   },
   {
    "duration": 57,
    "start_time": "2023-02-02T16:43:39.286Z"
   },
   {
    "duration": 47,
    "start_time": "2023-02-02T16:43:54.214Z"
   },
   {
    "duration": 49,
    "start_time": "2023-02-02T16:49:18.737Z"
   },
   {
    "duration": 12,
    "start_time": "2023-02-02T16:50:26.530Z"
   },
   {
    "duration": 12,
    "start_time": "2023-02-02T16:50:29.853Z"
   },
   {
    "duration": 11,
    "start_time": "2023-02-02T17:50:31.897Z"
   },
   {
    "duration": 3,
    "start_time": "2023-02-02T17:51:06.646Z"
   },
   {
    "duration": 60,
    "start_time": "2023-02-02T17:51:06.972Z"
   },
   {
    "duration": 67,
    "start_time": "2023-02-02T17:51:07.537Z"
   },
   {
    "duration": 1229,
    "start_time": "2023-02-02T17:51:22.425Z"
   },
   {
    "duration": 1272,
    "start_time": "2023-02-02T17:53:41.513Z"
   },
   {
    "duration": 98,
    "start_time": "2023-02-02T18:04:07.392Z"
   },
   {
    "duration": 68,
    "start_time": "2023-02-02T18:05:18.467Z"
   },
   {
    "duration": 68,
    "start_time": "2023-02-02T18:05:34.809Z"
   },
   {
    "duration": 46,
    "start_time": "2023-02-02T18:05:51.726Z"
   },
   {
    "duration": 5,
    "start_time": "2023-02-02T18:15:28.623Z"
   },
   {
    "duration": 63,
    "start_time": "2023-02-02T18:15:39.880Z"
   },
   {
    "duration": 3,
    "start_time": "2023-02-02T18:16:19.703Z"
   },
   {
    "duration": 54,
    "start_time": "2023-02-02T18:16:20.199Z"
   },
   {
    "duration": 5,
    "start_time": "2023-02-02T18:16:20.779Z"
   },
   {
    "duration": 79,
    "start_time": "2023-02-02T18:16:21.360Z"
   },
   {
    "duration": 48,
    "start_time": "2023-02-04T11:02:24.470Z"
   },
   {
    "duration": 405,
    "start_time": "2023-02-04T11:02:30.011Z"
   },
   {
    "duration": 201,
    "start_time": "2023-02-04T11:02:30.418Z"
   },
   {
    "duration": 75,
    "start_time": "2023-02-04T11:02:30.706Z"
   },
   {
    "duration": 40,
    "start_time": "2023-02-04T11:02:31.772Z"
   },
   {
    "duration": 47,
    "start_time": "2023-02-04T11:03:58.922Z"
   },
   {
    "duration": 47,
    "start_time": "2023-02-04T11:05:08.874Z"
   },
   {
    "duration": 77,
    "start_time": "2023-02-04T11:06:09.018Z"
   },
   {
    "duration": 41,
    "start_time": "2023-02-04T11:06:24.126Z"
   },
   {
    "duration": 40,
    "start_time": "2023-02-04T11:06:44.322Z"
   },
   {
    "duration": 55,
    "start_time": "2023-02-04T11:08:40.174Z"
   },
   {
    "duration": 100,
    "start_time": "2023-02-04T11:11:24.567Z"
   },
   {
    "duration": 55,
    "start_time": "2023-02-04T11:11:34.673Z"
   },
   {
    "duration": 55,
    "start_time": "2023-02-04T11:11:42.723Z"
   },
   {
    "duration": 75,
    "start_time": "2023-02-04T11:15:39.789Z"
   },
   {
    "duration": 62,
    "start_time": "2023-02-04T11:15:46.081Z"
   },
   {
    "duration": 394,
    "start_time": "2023-02-04T11:15:55.226Z"
   },
   {
    "duration": 255,
    "start_time": "2023-02-04T11:25:10.677Z"
   },
   {
    "duration": 278,
    "start_time": "2023-02-04T11:29:01.477Z"
   },
   {
    "duration": 258,
    "start_time": "2023-02-04T11:31:53.497Z"
   },
   {
    "duration": 12,
    "start_time": "2023-02-04T11:33:41.014Z"
   },
   {
    "duration": 9,
    "start_time": "2023-02-04T11:37:22.624Z"
   },
   {
    "duration": 5,
    "start_time": "2023-02-04T11:37:36.065Z"
   },
   {
    "duration": 11,
    "start_time": "2023-02-04T11:37:50.593Z"
   },
   {
    "duration": 55,
    "start_time": "2023-02-04T11:38:35.154Z"
   },
   {
    "duration": 4,
    "start_time": "2023-02-04T11:38:35.445Z"
   },
   {
    "duration": 497,
    "start_time": "2023-02-04T11:38:35.799Z"
   },
   {
    "duration": 529,
    "start_time": "2023-02-04T11:42:30.317Z"
   },
   {
    "duration": 187,
    "start_time": "2023-02-04T11:45:14.316Z"
   },
   {
    "duration": 174,
    "start_time": "2023-02-04T11:45:30.097Z"
   },
   {
    "duration": 34,
    "start_time": "2023-02-04T12:01:45.958Z"
   },
   {
    "duration": 206,
    "start_time": "2023-02-04T12:02:20.813Z"
   },
   {
    "duration": 12,
    "start_time": "2023-02-04T12:03:55.074Z"
   },
   {
    "duration": 11,
    "start_time": "2023-02-04T12:04:01.748Z"
   },
   {
    "duration": 8,
    "start_time": "2023-02-04T12:04:26.473Z"
   },
   {
    "duration": 7,
    "start_time": "2023-02-04T12:05:05.077Z"
   },
   {
    "duration": 7,
    "start_time": "2023-02-04T12:06:36.492Z"
   },
   {
    "duration": 8,
    "start_time": "2023-02-04T12:07:18.590Z"
   },
   {
    "duration": 90,
    "start_time": "2023-02-04T12:09:59.317Z"
   },
   {
    "duration": 9,
    "start_time": "2023-02-04T12:10:18.462Z"
   },
   {
    "duration": 8,
    "start_time": "2023-02-04T12:10:29.277Z"
   },
   {
    "duration": 68,
    "start_time": "2023-02-04T12:10:53.110Z"
   },
   {
    "duration": 70,
    "start_time": "2023-02-04T12:11:06.173Z"
   },
   {
    "duration": 10,
    "start_time": "2023-02-04T12:11:13.570Z"
   },
   {
    "duration": 190,
    "start_time": "2023-02-04T12:11:24.578Z"
   },
   {
    "duration": 1275,
    "start_time": "2023-02-04T12:13:25.582Z"
   },
   {
    "duration": 1105,
    "start_time": "2023-02-04T12:13:48.829Z"
   },
   {
    "duration": 12,
    "start_time": "2023-02-04T13:38:48.222Z"
   },
   {
    "duration": 12,
    "start_time": "2023-02-04T13:42:16.394Z"
   },
   {
    "duration": 12,
    "start_time": "2023-02-04T13:42:19.570Z"
   },
   {
    "duration": 2,
    "start_time": "2023-02-04T13:43:54.218Z"
   },
   {
    "duration": 53,
    "start_time": "2023-02-04T13:43:54.554Z"
   },
   {
    "duration": 4,
    "start_time": "2023-02-04T13:43:54.966Z"
   },
   {
    "duration": 424,
    "start_time": "2023-02-04T13:43:55.522Z"
   },
   {
    "duration": 177,
    "start_time": "2023-02-04T13:44:04.538Z"
   },
   {
    "duration": 7,
    "start_time": "2023-02-04T13:44:08.946Z"
   },
   {
    "duration": 1200,
    "start_time": "2023-02-04T13:44:13.781Z"
   },
   {
    "duration": 11,
    "start_time": "2023-02-04T13:44:17.043Z"
   },
   {
    "duration": 14,
    "start_time": "2023-02-04T13:46:21.123Z"
   },
   {
    "duration": 4,
    "start_time": "2023-02-04T13:47:02.846Z"
   },
   {
    "duration": 15,
    "start_time": "2023-02-04T13:47:06.846Z"
   },
   {
    "duration": 142,
    "start_time": "2023-02-04T13:47:45.571Z"
   },
   {
    "duration": 6,
    "start_time": "2023-02-04T13:48:20.155Z"
   },
   {
    "duration": 87,
    "start_time": "2023-02-04T13:48:49.659Z"
   },
   {
    "duration": 9,
    "start_time": "2023-02-04T13:48:57.689Z"
   },
   {
    "duration": 8,
    "start_time": "2023-02-04T13:49:38.783Z"
   },
   {
    "duration": 12,
    "start_time": "2023-02-04T13:49:59.293Z"
   },
   {
    "duration": 6,
    "start_time": "2023-02-04T13:50:07.871Z"
   },
   {
    "duration": 139,
    "start_time": "2023-02-04T13:53:59.207Z"
   },
   {
    "duration": 5,
    "start_time": "2023-02-04T13:54:36.931Z"
   },
   {
    "duration": 96,
    "start_time": "2023-02-04T13:54:42.215Z"
   },
   {
    "duration": 98,
    "start_time": "2023-02-04T13:55:30.764Z"
   },
   {
    "duration": 1271,
    "start_time": "2023-02-04T13:57:46.235Z"
   },
   {
    "duration": 183,
    "start_time": "2023-02-04T13:58:34.375Z"
   },
   {
    "duration": 113,
    "start_time": "2023-02-04T14:00:10.325Z"
   },
   {
    "duration": 112,
    "start_time": "2023-02-04T14:00:13.734Z"
   },
   {
    "duration": 103,
    "start_time": "2023-02-04T14:00:16.924Z"
   },
   {
    "duration": 125,
    "start_time": "2023-02-04T14:00:20.483Z"
   },
   {
    "duration": 107,
    "start_time": "2023-02-04T14:01:03.356Z"
   },
   {
    "duration": 120,
    "start_time": "2023-02-04T14:01:15.130Z"
   },
   {
    "duration": 179,
    "start_time": "2023-02-04T14:01:35.991Z"
   },
   {
    "duration": 209,
    "start_time": "2023-02-04T14:05:28.123Z"
   },
   {
    "duration": 421,
    "start_time": "2023-02-04T14:06:08.322Z"
   },
   {
    "duration": 767,
    "start_time": "2023-02-04T14:06:48.835Z"
   },
   {
    "duration": 112,
    "start_time": "2023-02-04T14:07:22.330Z"
   },
   {
    "duration": 92,
    "start_time": "2023-02-04T14:08:17.932Z"
   },
   {
    "duration": 91,
    "start_time": "2023-02-04T14:08:26.271Z"
   },
   {
    "duration": 109,
    "start_time": "2023-02-04T14:08:34.195Z"
   },
   {
    "duration": 100,
    "start_time": "2023-02-04T14:08:41.333Z"
   },
   {
    "duration": 114,
    "start_time": "2023-02-04T14:09:28.837Z"
   },
   {
    "duration": 100,
    "start_time": "2023-02-04T14:09:48.484Z"
   },
   {
    "duration": 96,
    "start_time": "2023-02-04T14:09:48.937Z"
   },
   {
    "duration": 107,
    "start_time": "2023-02-04T14:09:49.539Z"
   },
   {
    "duration": 109,
    "start_time": "2023-02-04T14:09:51.395Z"
   },
   {
    "duration": 118,
    "start_time": "2023-02-04T14:09:51.891Z"
   },
   {
    "duration": 108,
    "start_time": "2023-02-04T14:11:50.191Z"
   },
   {
    "duration": 103,
    "start_time": "2023-02-04T14:11:52.710Z"
   },
   {
    "duration": 120,
    "start_time": "2023-02-04T14:11:55.437Z"
   },
   {
    "duration": 110,
    "start_time": "2023-02-04T14:11:58.030Z"
   },
   {
    "duration": 126,
    "start_time": "2023-02-04T14:12:00.035Z"
   },
   {
    "duration": 235,
    "start_time": "2023-02-04T14:19:20.154Z"
   },
   {
    "duration": 363,
    "start_time": "2023-02-04T14:20:21.729Z"
   },
   {
    "duration": 56,
    "start_time": "2023-02-04T14:20:22.094Z"
   },
   {
    "duration": 66,
    "start_time": "2023-02-04T14:20:22.151Z"
   },
   {
    "duration": 520,
    "start_time": "2023-02-04T14:20:22.219Z"
   },
   {
    "duration": 0,
    "start_time": "2023-02-04T14:20:22.741Z"
   },
   {
    "duration": 0,
    "start_time": "2023-02-04T14:20:22.743Z"
   },
   {
    "duration": 0,
    "start_time": "2023-02-04T14:20:22.744Z"
   },
   {
    "duration": 0,
    "start_time": "2023-02-04T14:20:22.746Z"
   },
   {
    "duration": 0,
    "start_time": "2023-02-04T14:20:22.748Z"
   },
   {
    "duration": 0,
    "start_time": "2023-02-04T14:20:22.749Z"
   },
   {
    "duration": 0,
    "start_time": "2023-02-04T14:20:22.750Z"
   },
   {
    "duration": 0,
    "start_time": "2023-02-04T14:20:22.752Z"
   },
   {
    "duration": 0,
    "start_time": "2023-02-04T14:20:22.753Z"
   },
   {
    "duration": 0,
    "start_time": "2023-02-04T14:20:22.755Z"
   },
   {
    "duration": 0,
    "start_time": "2023-02-04T14:20:22.756Z"
   },
   {
    "duration": 9,
    "start_time": "2023-02-04T14:20:32.503Z"
   },
   {
    "duration": 2,
    "start_time": "2023-02-04T14:20:37.407Z"
   },
   {
    "duration": 58,
    "start_time": "2023-02-04T14:20:37.566Z"
   },
   {
    "duration": 4,
    "start_time": "2023-02-04T14:20:37.742Z"
   },
   {
    "duration": 441,
    "start_time": "2023-02-04T14:20:37.982Z"
   },
   {
    "duration": 0,
    "start_time": "2023-02-04T14:20:38.425Z"
   },
   {
    "duration": 11,
    "start_time": "2023-02-04T14:20:38.570Z"
   },
   {
    "duration": 19,
    "start_time": "2023-02-04T14:20:38.850Z"
   },
   {
    "duration": 15,
    "start_time": "2023-02-04T14:20:39.111Z"
   },
   {
    "duration": 13,
    "start_time": "2023-02-04T14:20:39.451Z"
   },
   {
    "duration": 266,
    "start_time": "2023-02-04T14:20:53.200Z"
   },
   {
    "duration": 354,
    "start_time": "2023-02-04T14:20:54.774Z"
   },
   {
    "duration": 21,
    "start_time": "2023-02-04T14:20:56.145Z"
   },
   {
    "duration": 2,
    "start_time": "2023-02-04T14:21:15.003Z"
   },
   {
    "duration": 68,
    "start_time": "2023-02-04T14:21:15.462Z"
   },
   {
    "duration": 5,
    "start_time": "2023-02-04T14:21:16.339Z"
   },
   {
    "duration": 445,
    "start_time": "2023-02-04T14:21:17.228Z"
   },
   {
    "duration": 278,
    "start_time": "2023-02-04T14:21:32.558Z"
   },
   {
    "duration": 321,
    "start_time": "2023-02-04T14:21:44.746Z"
   },
   {
    "duration": 182,
    "start_time": "2023-02-04T14:21:48.689Z"
   },
   {
    "duration": 9,
    "start_time": "2023-02-04T14:21:51.615Z"
   },
   {
    "duration": 1345,
    "start_time": "2023-02-04T14:21:54.894Z"
   },
   {
    "duration": 13,
    "start_time": "2023-02-04T14:21:58.577Z"
   },
   {
    "duration": 8,
    "start_time": "2023-02-04T14:21:59.633Z"
   },
   {
    "duration": 122,
    "start_time": "2023-02-04T14:22:00.186Z"
   },
   {
    "duration": 102,
    "start_time": "2023-02-04T14:22:00.746Z"
   },
   {
    "duration": 118,
    "start_time": "2023-02-04T14:22:01.435Z"
   },
   {
    "duration": 115,
    "start_time": "2023-02-04T14:22:01.903Z"
   },
   {
    "duration": 119,
    "start_time": "2023-02-04T14:22:02.450Z"
   },
   {
    "duration": 7,
    "start_time": "2023-02-04T14:22:03.486Z"
   },
   {
    "duration": 9,
    "start_time": "2023-02-04T14:22:37.434Z"
   },
   {
    "duration": 17,
    "start_time": "2023-02-04T14:26:02.826Z"
   },
   {
    "duration": 155,
    "start_time": "2023-02-04T14:26:16.242Z"
   },
   {
    "duration": 150,
    "start_time": "2023-02-04T14:28:29.126Z"
   },
   {
    "duration": 144,
    "start_time": "2023-02-04T14:28:47.536Z"
   },
   {
    "duration": 213,
    "start_time": "2023-02-04T14:29:18.434Z"
   },
   {
    "duration": 137,
    "start_time": "2023-02-04T14:29:28.331Z"
   },
   {
    "duration": 139,
    "start_time": "2023-02-04T14:34:21.367Z"
   },
   {
    "duration": 151,
    "start_time": "2023-02-04T14:36:15.186Z"
   },
   {
    "duration": 144,
    "start_time": "2023-02-04T14:36:18.584Z"
   },
   {
    "duration": 154,
    "start_time": "2023-02-04T14:36:21.482Z"
   },
   {
    "duration": 2,
    "start_time": "2023-02-04T14:37:31.740Z"
   },
   {
    "duration": 56,
    "start_time": "2023-02-04T14:37:32.043Z"
   },
   {
    "duration": 4,
    "start_time": "2023-02-04T14:37:32.401Z"
   },
   {
    "duration": 425,
    "start_time": "2023-02-04T14:37:32.750Z"
   },
   {
    "duration": 183,
    "start_time": "2023-02-04T14:37:33.537Z"
   },
   {
    "duration": 8,
    "start_time": "2023-02-04T14:37:34.481Z"
   },
   {
    "duration": 1228,
    "start_time": "2023-02-04T14:37:35.019Z"
   },
   {
    "duration": 12,
    "start_time": "2023-02-04T14:37:36.362Z"
   },
   {
    "duration": 7,
    "start_time": "2023-02-04T14:37:37.662Z"
   },
   {
    "duration": 188,
    "start_time": "2023-02-04T14:37:38.333Z"
   },
   {
    "duration": 123,
    "start_time": "2023-02-04T14:37:39.132Z"
   },
   {
    "duration": 106,
    "start_time": "2023-02-04T14:37:39.801Z"
   },
   {
    "duration": 124,
    "start_time": "2023-02-04T14:37:40.405Z"
   },
   {
    "duration": 113,
    "start_time": "2023-02-04T14:37:41.070Z"
   },
   {
    "duration": 140,
    "start_time": "2023-02-04T14:37:42.409Z"
   },
   {
    "duration": 132,
    "start_time": "2023-02-04T14:37:45.280Z"
   },
   {
    "duration": 140,
    "start_time": "2023-02-04T14:37:46.386Z"
   },
   {
    "duration": 150,
    "start_time": "2023-02-04T14:37:47.005Z"
   },
   {
    "duration": 146,
    "start_time": "2023-02-04T14:37:48.952Z"
   },
   {
    "duration": 286,
    "start_time": "2023-02-04T14:39:59.706Z"
   },
   {
    "duration": 3,
    "start_time": "2023-02-04T14:40:15.951Z"
   },
   {
    "duration": 53,
    "start_time": "2023-02-04T14:40:16.221Z"
   },
   {
    "duration": 4,
    "start_time": "2023-02-04T14:40:16.635Z"
   },
   {
    "duration": 443,
    "start_time": "2023-02-04T14:40:17.136Z"
   },
   {
    "duration": 191,
    "start_time": "2023-02-04T14:43:42.339Z"
   },
   {
    "duration": 15,
    "start_time": "2023-02-04T14:44:25.186Z"
   },
   {
    "duration": 15,
    "start_time": "2023-02-04T14:44:30.865Z"
   },
   {
    "duration": 15,
    "start_time": "2023-02-04T14:44:58.546Z"
   },
   {
    "duration": 8,
    "start_time": "2023-02-04T14:45:45.965Z"
   },
   {
    "duration": 170,
    "start_time": "2023-02-04T14:46:22.860Z"
   },
   {
    "duration": 168,
    "start_time": "2023-02-04T14:46:41.751Z"
   },
   {
    "duration": 4,
    "start_time": "2023-02-04T14:47:10.231Z"
   },
   {
    "duration": 255,
    "start_time": "2023-02-04T14:47:14.551Z"
   },
   {
    "duration": 167,
    "start_time": "2023-02-04T14:47:25.443Z"
   },
   {
    "duration": 12,
    "start_time": "2023-02-04T15:52:55.605Z"
   },
   {
    "duration": 14,
    "start_time": "2023-02-04T15:53:11.345Z"
   },
   {
    "duration": 15,
    "start_time": "2023-02-04T15:54:04.001Z"
   },
   {
    "duration": 16,
    "start_time": "2023-02-04T15:54:59.849Z"
   },
   {
    "duration": 16,
    "start_time": "2023-02-04T15:55:05.663Z"
   },
   {
    "duration": 16,
    "start_time": "2023-02-04T15:55:39.605Z"
   },
   {
    "duration": 10,
    "start_time": "2023-02-04T15:56:33.731Z"
   },
   {
    "duration": 12,
    "start_time": "2023-02-04T15:56:39.073Z"
   },
   {
    "duration": 12,
    "start_time": "2023-02-04T15:57:33.827Z"
   },
   {
    "duration": 17,
    "start_time": "2023-02-04T15:58:21.074Z"
   },
   {
    "duration": 9,
    "start_time": "2023-02-04T16:00:03.883Z"
   },
   {
    "duration": 9,
    "start_time": "2023-02-04T16:00:12.338Z"
   },
   {
    "duration": 4,
    "start_time": "2023-02-04T16:03:19.833Z"
   },
   {
    "duration": 4,
    "start_time": "2023-02-04T16:03:23.566Z"
   },
   {
    "duration": 3,
    "start_time": "2023-02-04T16:03:34.370Z"
   },
   {
    "duration": 7,
    "start_time": "2023-02-04T16:03:40.970Z"
   },
   {
    "duration": 8,
    "start_time": "2023-02-04T16:05:01.763Z"
   },
   {
    "duration": 16,
    "start_time": "2023-02-04T16:06:30.059Z"
   },
   {
    "duration": 24,
    "start_time": "2023-02-04T16:09:09.066Z"
   },
   {
    "duration": 26,
    "start_time": "2023-02-04T16:09:59.355Z"
   },
   {
    "duration": 31,
    "start_time": "2023-02-04T16:10:28.439Z"
   },
   {
    "duration": 31,
    "start_time": "2023-02-04T16:17:15.353Z"
   },
   {
    "duration": 31,
    "start_time": "2023-02-04T16:22:53.425Z"
   },
   {
    "duration": 32,
    "start_time": "2023-02-04T16:23:13.616Z"
   },
   {
    "duration": 39,
    "start_time": "2023-02-04T16:25:32.347Z"
   },
   {
    "duration": 42,
    "start_time": "2023-02-04T16:27:58.162Z"
   },
   {
    "duration": 50,
    "start_time": "2023-02-04T16:29:11.623Z"
   },
   {
    "duration": 43,
    "start_time": "2023-02-04T16:30:44.155Z"
   },
   {
    "duration": 22,
    "start_time": "2023-02-04T16:46:16.350Z"
   },
   {
    "duration": 447,
    "start_time": "2023-02-04T16:51:47.262Z"
   },
   {
    "duration": 13,
    "start_time": "2023-02-04T16:51:55.766Z"
   },
   {
    "duration": 11,
    "start_time": "2023-02-04T16:52:04.313Z"
   },
   {
    "duration": 11,
    "start_time": "2023-02-04T16:54:48.037Z"
   },
   {
    "duration": 10,
    "start_time": "2023-02-04T16:55:11.529Z"
   },
   {
    "duration": 383,
    "start_time": "2023-02-04T21:50:52.538Z"
   },
   {
    "duration": 56,
    "start_time": "2023-02-04T21:50:52.923Z"
   },
   {
    "duration": 67,
    "start_time": "2023-02-04T21:50:52.981Z"
   },
   {
    "duration": 467,
    "start_time": "2023-02-04T21:50:53.051Z"
   },
   {
    "duration": 301,
    "start_time": "2023-02-04T21:50:53.528Z"
   },
   {
    "duration": 8,
    "start_time": "2023-02-04T21:50:53.830Z"
   },
   {
    "duration": 1186,
    "start_time": "2023-02-04T21:50:53.839Z"
   },
   {
    "duration": 13,
    "start_time": "2023-02-04T21:50:55.027Z"
   },
   {
    "duration": 7,
    "start_time": "2023-02-04T21:50:55.042Z"
   },
   {
    "duration": 134,
    "start_time": "2023-02-04T21:50:55.052Z"
   },
   {
    "duration": 156,
    "start_time": "2023-02-04T21:50:55.187Z"
   },
   {
    "duration": 144,
    "start_time": "2023-02-04T21:50:55.345Z"
   },
   {
    "duration": 140,
    "start_time": "2023-02-04T21:50:55.491Z"
   },
   {
    "duration": 177,
    "start_time": "2023-02-04T21:50:55.633Z"
   },
   {
    "duration": 161,
    "start_time": "2023-02-04T21:50:55.812Z"
   },
   {
    "duration": 149,
    "start_time": "2023-02-04T21:50:55.975Z"
   },
   {
    "duration": 145,
    "start_time": "2023-02-04T21:50:56.128Z"
   },
   {
    "duration": 180,
    "start_time": "2023-02-04T21:50:56.275Z"
   },
   {
    "duration": 180,
    "start_time": "2023-02-04T21:50:56.457Z"
   },
   {
    "duration": 289,
    "start_time": "2023-02-04T21:50:56.639Z"
   },
   {
    "duration": 39,
    "start_time": "2023-02-04T21:50:56.930Z"
   },
   {
    "duration": 494,
    "start_time": "2023-02-04T21:50:56.971Z"
   },
   {
    "duration": 12,
    "start_time": "2023-02-04T21:50:57.467Z"
   },
   {
    "duration": 65,
    "start_time": "2023-02-04T23:00:29.063Z"
   },
   {
    "duration": 19,
    "start_time": "2023-02-04T23:07:08.905Z"
   },
   {
    "duration": 11,
    "start_time": "2023-02-04T23:22:11.828Z"
   },
   {
    "duration": 400,
    "start_time": "2023-02-06T14:25:03.744Z"
   },
   {
    "duration": 101,
    "start_time": "2023-02-06T14:25:04.146Z"
   },
   {
    "duration": 88,
    "start_time": "2023-02-06T14:25:06.452Z"
   },
   {
    "duration": 172,
    "start_time": "2023-02-06T14:25:07.508Z"
   },
   {
    "duration": 129,
    "start_time": "2023-02-06T14:25:29.010Z"
   },
   {
    "duration": 72,
    "start_time": "2023-02-06T14:29:44.656Z"
   },
   {
    "duration": 85,
    "start_time": "2023-02-06T14:29:52.480Z"
   },
   {
    "duration": 86,
    "start_time": "2023-02-06T14:30:07.100Z"
   },
   {
    "duration": 3,
    "start_time": "2023-02-06T14:30:22.755Z"
   },
   {
    "duration": 53,
    "start_time": "2023-02-06T14:30:23.071Z"
   },
   {
    "duration": 5,
    "start_time": "2023-02-06T14:30:23.948Z"
   },
   {
    "duration": 410,
    "start_time": "2023-02-06T14:44:29.632Z"
   },
   {
    "duration": 205,
    "start_time": "2023-02-06T14:44:30.044Z"
   },
   {
    "duration": 80,
    "start_time": "2023-02-06T14:44:41.912Z"
   },
   {
    "duration": 146,
    "start_time": "2023-02-06T14:44:42.688Z"
   },
   {
    "duration": 72,
    "start_time": "2023-02-06T14:44:46.028Z"
   },
   {
    "duration": 502,
    "start_time": "2023-02-06T14:44:54.596Z"
   },
   {
    "duration": 9,
    "start_time": "2023-02-06T14:44:56.396Z"
   },
   {
    "duration": 1219,
    "start_time": "2023-02-06T14:44:57.488Z"
   },
   {
    "duration": 67,
    "start_time": "2023-02-06T14:45:24.474Z"
   },
   {
    "duration": 96,
    "start_time": "2023-02-06T14:45:37.936Z"
   },
   {
    "duration": 8,
    "start_time": "2023-02-06T14:45:50.363Z"
   },
   {
    "duration": 30,
    "start_time": "2023-02-06T14:52:47.271Z"
   },
   {
    "duration": 74,
    "start_time": "2023-02-06T14:53:25.751Z"
   },
   {
    "duration": 8,
    "start_time": "2023-02-06T14:56:54.985Z"
   },
   {
    "duration": 3,
    "start_time": "2023-02-06T14:57:11.346Z"
   },
   {
    "duration": 83,
    "start_time": "2023-02-06T14:57:17.734Z"
   },
   {
    "duration": 80,
    "start_time": "2023-02-06T14:57:50.795Z"
   },
   {
    "duration": 11,
    "start_time": "2023-02-06T14:57:57.525Z"
   },
   {
    "duration": 1303,
    "start_time": "2023-02-06T14:58:49.930Z"
   },
   {
    "duration": 1328,
    "start_time": "2023-02-06T14:59:29.566Z"
   },
   {
    "duration": 5,
    "start_time": "2023-02-06T15:00:02.554Z"
   },
   {
    "duration": 12,
    "start_time": "2023-02-06T15:00:12.269Z"
   },
   {
    "duration": 25,
    "start_time": "2023-02-06T15:00:34.549Z"
   },
   {
    "duration": 23,
    "start_time": "2023-02-06T15:01:09.173Z"
   },
   {
    "duration": 9,
    "start_time": "2023-02-06T15:01:44.161Z"
   },
   {
    "duration": 328,
    "start_time": "2023-02-06T15:01:54.317Z"
   },
   {
    "duration": 18,
    "start_time": "2023-02-06T15:02:17.021Z"
   },
   {
    "duration": 8,
    "start_time": "2023-02-06T15:05:35.593Z"
   },
   {
    "duration": 3,
    "start_time": "2023-02-06T15:08:01.139Z"
   },
   {
    "duration": 59,
    "start_time": "2023-02-06T15:08:01.284Z"
   },
   {
    "duration": 4,
    "start_time": "2023-02-06T15:08:01.656Z"
   },
   {
    "duration": 104,
    "start_time": "2023-02-06T15:08:02.032Z"
   },
   {
    "duration": 72,
    "start_time": "2023-02-06T15:08:02.757Z"
   },
   {
    "duration": 198,
    "start_time": "2023-02-06T15:08:03.460Z"
   },
   {
    "duration": 9,
    "start_time": "2023-02-06T15:08:04.544Z"
   },
   {
    "duration": 1254,
    "start_time": "2023-02-06T15:08:04.897Z"
   },
   {
    "duration": 8,
    "start_time": "2023-02-06T15:08:06.153Z"
   },
   {
    "duration": 13,
    "start_time": "2023-02-06T15:08:07.376Z"
   },
   {
    "duration": 16,
    "start_time": "2023-02-06T15:08:08.660Z"
   },
   {
    "duration": 7,
    "start_time": "2023-02-06T15:08:09.700Z"
   },
   {
    "duration": 16,
    "start_time": "2023-02-06T15:19:24.126Z"
   },
   {
    "duration": 7,
    "start_time": "2023-02-06T15:23:08.309Z"
   },
   {
    "duration": 67,
    "start_time": "2023-02-06T15:24:58.773Z"
   },
   {
    "duration": 6,
    "start_time": "2023-02-06T15:27:04.606Z"
   },
   {
    "duration": 104,
    "start_time": "2023-02-06T15:27:34.525Z"
   },
   {
    "duration": 122,
    "start_time": "2023-02-06T15:28:30.790Z"
   },
   {
    "duration": 110,
    "start_time": "2023-02-06T15:29:03.297Z"
   },
   {
    "duration": 123,
    "start_time": "2023-02-06T15:29:38.945Z"
   },
   {
    "duration": 214,
    "start_time": "2023-02-06T15:30:21.757Z"
   },
   {
    "duration": 161,
    "start_time": "2023-02-06T15:37:13.374Z"
   },
   {
    "duration": 162,
    "start_time": "2023-02-06T15:37:18.001Z"
   },
   {
    "duration": 139,
    "start_time": "2023-02-06T15:37:22.766Z"
   },
   {
    "duration": 159,
    "start_time": "2023-02-06T15:38:01.065Z"
   },
   {
    "duration": 181,
    "start_time": "2023-02-06T15:38:57.982Z"
   },
   {
    "duration": 359,
    "start_time": "2023-02-06T15:45:36.293Z"
   },
   {
    "duration": 297,
    "start_time": "2023-02-06T15:46:01.802Z"
   },
   {
    "duration": 283,
    "start_time": "2023-02-06T15:46:17.150Z"
   },
   {
    "duration": 72,
    "start_time": "2023-02-06T15:47:28.452Z"
   },
   {
    "duration": 74,
    "start_time": "2023-02-06T15:47:38.649Z"
   },
   {
    "duration": 2,
    "start_time": "2023-02-06T15:47:52.456Z"
   },
   {
    "duration": 55,
    "start_time": "2023-02-06T15:47:52.808Z"
   },
   {
    "duration": 5,
    "start_time": "2023-02-06T15:47:53.545Z"
   },
   {
    "duration": 87,
    "start_time": "2023-02-06T15:47:54.395Z"
   },
   {
    "duration": 69,
    "start_time": "2023-02-06T15:47:55.789Z"
   },
   {
    "duration": 182,
    "start_time": "2023-02-06T15:47:56.860Z"
   },
   {
    "duration": 8,
    "start_time": "2023-02-06T15:47:57.844Z"
   },
   {
    "duration": 1263,
    "start_time": "2023-02-06T15:47:58.210Z"
   },
   {
    "duration": 12,
    "start_time": "2023-02-06T15:47:59.475Z"
   },
   {
    "duration": 21,
    "start_time": "2023-02-06T15:48:00.717Z"
   },
   {
    "duration": 17,
    "start_time": "2023-02-06T15:48:01.444Z"
   },
   {
    "duration": 6,
    "start_time": "2023-02-06T15:48:02.693Z"
   },
   {
    "duration": 109,
    "start_time": "2023-02-06T15:48:04.215Z"
   },
   {
    "duration": 117,
    "start_time": "2023-02-06T15:48:04.532Z"
   },
   {
    "duration": 128,
    "start_time": "2023-02-06T15:48:04.853Z"
   },
   {
    "duration": 111,
    "start_time": "2023-02-06T15:48:05.220Z"
   },
   {
    "duration": 118,
    "start_time": "2023-02-06T15:48:05.575Z"
   },
   {
    "duration": 114,
    "start_time": "2023-02-06T15:48:06.244Z"
   },
   {
    "duration": 122,
    "start_time": "2023-02-06T15:48:06.636Z"
   },
   {
    "duration": 140,
    "start_time": "2023-02-06T15:48:06.944Z"
   },
   {
    "duration": 203,
    "start_time": "2023-02-06T15:48:07.312Z"
   },
   {
    "duration": 124,
    "start_time": "2023-02-06T15:48:07.732Z"
   },
   {
    "duration": 313,
    "start_time": "2023-02-06T15:48:08.484Z"
   },
   {
    "duration": 311,
    "start_time": "2023-02-06T15:48:10.712Z"
   },
   {
    "duration": 332,
    "start_time": "2023-02-06T15:48:11.561Z"
   },
   {
    "duration": 287,
    "start_time": "2023-02-06T15:48:12.145Z"
   },
   {
    "duration": 77,
    "start_time": "2023-02-06T15:48:16.546Z"
   },
   {
    "duration": 82,
    "start_time": "2023-02-06T15:48:35.232Z"
   },
   {
    "duration": 177,
    "start_time": "2023-02-06T15:49:18.149Z"
   },
   {
    "duration": 172,
    "start_time": "2023-02-06T15:49:40.119Z"
   },
   {
    "duration": 163,
    "start_time": "2023-02-06T15:50:27.359Z"
   },
   {
    "duration": 321,
    "start_time": "2023-02-06T15:51:04.790Z"
   },
   {
    "duration": 162,
    "start_time": "2023-02-06T15:51:11.990Z"
   },
   {
    "duration": 191,
    "start_time": "2023-02-06T15:55:50.915Z"
   },
   {
    "duration": 163,
    "start_time": "2023-02-06T15:56:02.728Z"
   },
   {
    "duration": 176,
    "start_time": "2023-02-06T15:59:25.519Z"
   },
   {
    "duration": 208,
    "start_time": "2023-02-06T15:59:45.808Z"
   },
   {
    "duration": 165,
    "start_time": "2023-02-06T15:59:57.235Z"
   },
   {
    "duration": 343,
    "start_time": "2023-02-06T16:00:48.675Z"
   },
   {
    "duration": 193,
    "start_time": "2023-02-06T16:00:53.759Z"
   },
   {
    "duration": 191,
    "start_time": "2023-02-06T16:00:57.819Z"
   },
   {
    "duration": 202,
    "start_time": "2023-02-06T16:01:02.464Z"
   },
   {
    "duration": 312,
    "start_time": "2023-02-06T16:01:07.287Z"
   },
   {
    "duration": 200,
    "start_time": "2023-02-06T16:01:44.800Z"
   },
   {
    "duration": 463,
    "start_time": "2023-02-06T16:03:09.640Z"
   },
   {
    "duration": 10,
    "start_time": "2023-02-06T16:07:57.552Z"
   },
   {
    "duration": 9,
    "start_time": "2023-02-06T16:08:39.075Z"
   },
   {
    "duration": 431,
    "start_time": "2023-02-07T16:11:29.675Z"
   },
   {
    "duration": 195,
    "start_time": "2023-02-07T16:11:30.108Z"
   },
   {
    "duration": 68,
    "start_time": "2023-02-07T16:11:30.563Z"
   },
   {
    "duration": 131,
    "start_time": "2023-02-07T16:11:31.306Z"
   },
   {
    "duration": 73,
    "start_time": "2023-02-07T16:11:32.455Z"
   },
   {
    "duration": 499,
    "start_time": "2023-02-07T16:11:33.351Z"
   },
   {
    "duration": 8,
    "start_time": "2023-02-07T16:11:34.307Z"
   },
   {
    "duration": 1251,
    "start_time": "2023-02-07T16:11:34.691Z"
   },
   {
    "duration": 8,
    "start_time": "2023-02-07T16:11:35.944Z"
   },
   {
    "duration": 26,
    "start_time": "2023-02-07T16:11:37.536Z"
   },
   {
    "duration": 14,
    "start_time": "2023-02-07T16:11:38.455Z"
   },
   {
    "duration": 6,
    "start_time": "2023-02-07T16:11:39.607Z"
   },
   {
    "duration": 122,
    "start_time": "2023-02-07T16:11:41.636Z"
   },
   {
    "duration": 137,
    "start_time": "2023-02-07T16:11:56.172Z"
   },
   {
    "duration": 118,
    "start_time": "2023-02-07T16:11:59.856Z"
   },
   {
    "duration": 124,
    "start_time": "2023-02-07T16:12:03.631Z"
   },
   {
    "duration": 126,
    "start_time": "2023-02-07T16:12:11.379Z"
   },
   {
    "duration": 131,
    "start_time": "2023-02-07T16:12:19.156Z"
   },
   {
    "duration": 115,
    "start_time": "2023-02-07T16:12:22.683Z"
   },
   {
    "duration": 2,
    "start_time": "2023-02-07T16:12:35.147Z"
   },
   {
    "duration": 57,
    "start_time": "2023-02-07T16:12:35.443Z"
   },
   {
    "duration": 5,
    "start_time": "2023-02-07T16:12:35.791Z"
   },
   {
    "duration": 99,
    "start_time": "2023-02-07T16:12:36.175Z"
   },
   {
    "duration": 80,
    "start_time": "2023-02-07T16:12:36.896Z"
   },
   {
    "duration": 181,
    "start_time": "2023-02-07T16:12:37.560Z"
   },
   {
    "duration": 7,
    "start_time": "2023-02-07T16:12:38.139Z"
   },
   {
    "duration": 1231,
    "start_time": "2023-02-07T16:12:38.572Z"
   },
   {
    "duration": 10,
    "start_time": "2023-02-07T16:12:39.806Z"
   },
   {
    "duration": 19,
    "start_time": "2023-02-07T16:12:39.827Z"
   },
   {
    "duration": 15,
    "start_time": "2023-02-07T16:12:40.795Z"
   },
   {
    "duration": 7,
    "start_time": "2023-02-07T16:12:41.615Z"
   },
   {
    "duration": 125,
    "start_time": "2023-02-07T16:12:42.352Z"
   },
   {
    "duration": 122,
    "start_time": "2023-02-07T16:12:42.764Z"
   },
   {
    "duration": 136,
    "start_time": "2023-02-07T16:12:43.680Z"
   },
   {
    "duration": 126,
    "start_time": "2023-02-07T16:12:44.167Z"
   },
   {
    "duration": 119,
    "start_time": "2023-02-07T16:12:44.860Z"
   },
   {
    "duration": 105,
    "start_time": "2023-02-07T16:12:47.439Z"
   },
   {
    "duration": 121,
    "start_time": "2023-02-07T16:12:47.836Z"
   },
   {
    "duration": 134,
    "start_time": "2023-02-07T16:12:49.978Z"
   },
   {
    "duration": 201,
    "start_time": "2023-02-07T16:12:50.516Z"
   },
   {
    "duration": 111,
    "start_time": "2023-02-07T16:12:57.663Z"
   },
   {
    "duration": 117,
    "start_time": "2023-02-07T16:14:18.675Z"
   },
   {
    "duration": 126,
    "start_time": "2023-02-07T16:14:19.199Z"
   },
   {
    "duration": 113,
    "start_time": "2023-02-07T16:14:24.707Z"
   },
   {
    "duration": 114,
    "start_time": "2023-02-07T16:14:28.444Z"
   },
   {
    "duration": 118,
    "start_time": "2023-02-07T16:14:50.806Z"
   },
   {
    "duration": 9,
    "start_time": "2023-02-07T16:19:28.176Z"
   },
   {
    "duration": 9,
    "start_time": "2023-02-07T16:19:49.911Z"
   },
   {
    "duration": 26,
    "start_time": "2023-02-07T16:20:08.395Z"
   },
   {
    "duration": 14,
    "start_time": "2023-02-07T16:21:11.172Z"
   },
   {
    "duration": 18,
    "start_time": "2023-02-07T16:25:23.495Z"
   },
   {
    "duration": 943,
    "start_time": "2023-02-07T16:34:42.798Z"
   },
   {
    "duration": 205,
    "start_time": "2023-02-07T16:36:08.002Z"
   },
   {
    "duration": 337,
    "start_time": "2023-02-07T16:36:24.154Z"
   },
   {
    "duration": 36,
    "start_time": "2023-02-07T16:44:12.017Z"
   },
   {
    "duration": 1484,
    "start_time": "2023-02-07T16:54:54.334Z"
   },
   {
    "duration": 1381,
    "start_time": "2023-02-07T16:55:03.724Z"
   },
   {
    "duration": 1722,
    "start_time": "2023-02-07T16:56:08.236Z"
   },
   {
    "duration": 1764,
    "start_time": "2023-02-07T17:00:40.912Z"
   },
   {
    "duration": 382,
    "start_time": "2023-02-08T13:16:39.227Z"
   },
   {
    "duration": 61,
    "start_time": "2023-02-08T13:16:39.611Z"
   },
   {
    "duration": 74,
    "start_time": "2023-02-08T13:16:39.674Z"
   },
   {
    "duration": 128,
    "start_time": "2023-02-08T13:16:39.750Z"
   },
   {
    "duration": 76,
    "start_time": "2023-02-08T13:16:39.880Z"
   },
   {
    "duration": 376,
    "start_time": "2023-02-08T13:16:39.957Z"
   },
   {
    "duration": 8,
    "start_time": "2023-02-08T13:16:40.335Z"
   },
   {
    "duration": 1740,
    "start_time": "2023-02-08T13:16:40.345Z"
   },
   {
    "duration": 20,
    "start_time": "2023-02-08T13:16:42.086Z"
   },
   {
    "duration": 19,
    "start_time": "2023-02-08T13:16:42.108Z"
   },
   {
    "duration": 13,
    "start_time": "2023-02-08T13:16:42.129Z"
   },
   {
    "duration": 9,
    "start_time": "2023-02-08T13:16:42.143Z"
   },
   {
    "duration": 135,
    "start_time": "2023-02-08T13:16:42.153Z"
   },
   {
    "duration": 126,
    "start_time": "2023-02-08T13:16:42.300Z"
   },
   {
    "duration": 126,
    "start_time": "2023-02-08T13:16:42.427Z"
   },
   {
    "duration": 128,
    "start_time": "2023-02-08T13:16:42.555Z"
   },
   {
    "duration": 141,
    "start_time": "2023-02-08T13:16:42.691Z"
   },
   {
    "duration": 134,
    "start_time": "2023-02-08T13:16:42.834Z"
   },
   {
    "duration": 139,
    "start_time": "2023-02-08T13:16:42.969Z"
   },
   {
    "duration": 117,
    "start_time": "2023-02-08T13:16:43.110Z"
   },
   {
    "duration": 207,
    "start_time": "2023-02-08T13:16:43.229Z"
   },
   {
    "duration": 128,
    "start_time": "2023-02-08T13:16:43.437Z"
   },
   {
    "duration": 243,
    "start_time": "2023-02-08T13:16:43.567Z"
   },
   {
    "duration": 18,
    "start_time": "2023-02-08T13:16:43.811Z"
   },
   {
    "duration": 222,
    "start_time": "2023-02-08T13:16:43.831Z"
   },
   {
    "duration": 209,
    "start_time": "2023-02-08T13:16:44.055Z"
   },
   {
    "duration": 238,
    "start_time": "2023-02-08T13:16:44.265Z"
   },
   {
    "duration": 193,
    "start_time": "2023-02-08T13:16:44.504Z"
   },
   {
    "duration": 843,
    "start_time": "2023-02-08T13:16:44.699Z"
   },
   {
    "duration": 54,
    "start_time": "2023-02-08T13:16:45.543Z"
   },
   {
    "duration": 13,
    "start_time": "2023-02-08T13:16:45.603Z"
   },
   {
    "duration": 21,
    "start_time": "2023-02-08T13:16:45.618Z"
   },
   {
    "duration": 18,
    "start_time": "2023-02-08T13:16:45.641Z"
   },
   {
    "duration": 423,
    "start_time": "2023-02-08T16:19:01.120Z"
   },
   {
    "duration": 104,
    "start_time": "2023-02-08T16:19:01.545Z"
   },
   {
    "duration": 59,
    "start_time": "2023-02-08T16:19:02.160Z"
   },
   {
    "duration": 131,
    "start_time": "2023-02-08T16:19:02.848Z"
   },
   {
    "duration": 69,
    "start_time": "2023-02-08T16:19:17.392Z"
   },
   {
    "duration": 517,
    "start_time": "2023-02-08T16:19:19.856Z"
   },
   {
    "duration": 7,
    "start_time": "2023-02-08T16:19:22.300Z"
   },
   {
    "duration": 1670,
    "start_time": "2023-02-08T16:19:23.096Z"
   },
   {
    "duration": 8,
    "start_time": "2023-02-08T16:19:28.277Z"
   },
   {
    "duration": 18,
    "start_time": "2023-02-08T16:19:49.033Z"
   },
   {
    "duration": 15,
    "start_time": "2023-02-08T16:19:51.944Z"
   },
   {
    "duration": 8,
    "start_time": "2023-02-08T16:19:54.396Z"
   },
   {
    "duration": 785,
    "start_time": "2023-02-08T16:19:57.058Z"
   },
   {
    "duration": 139,
    "start_time": "2023-02-08T16:19:57.845Z"
   },
   {
    "duration": 118,
    "start_time": "2023-02-08T16:19:58.212Z"
   },
   {
    "duration": 291,
    "start_time": "2023-02-08T16:21:20.188Z"
   },
   {
    "duration": 285,
    "start_time": "2023-02-08T16:22:24.264Z"
   },
   {
    "duration": 334,
    "start_time": "2023-02-08T16:22:36.040Z"
   },
   {
    "duration": 398,
    "start_time": "2023-02-08T16:22:40.352Z"
   },
   {
    "duration": 9,
    "start_time": "2023-02-08T16:34:05.788Z"
   },
   {
    "duration": 6,
    "start_time": "2023-02-08T16:38:39.455Z"
   },
   {
    "duration": 14,
    "start_time": "2023-02-08T16:38:56.423Z"
   },
   {
    "duration": 11,
    "start_time": "2023-02-08T16:39:19.582Z"
   },
   {
    "duration": 8,
    "start_time": "2023-02-08T16:40:56.667Z"
   },
   {
    "duration": 10,
    "start_time": "2023-02-08T16:41:18.366Z"
   },
   {
    "duration": 9,
    "start_time": "2023-02-08T16:47:42.847Z"
   },
   {
    "duration": 9,
    "start_time": "2023-02-08T16:47:55.970Z"
   },
   {
    "duration": 8,
    "start_time": "2023-02-08T16:49:34.766Z"
   },
   {
    "duration": 388,
    "start_time": "2023-02-09T15:08:58.702Z"
   },
   {
    "duration": 60,
    "start_time": "2023-02-09T15:08:59.095Z"
   },
   {
    "duration": 75,
    "start_time": "2023-02-09T15:08:59.157Z"
   },
   {
    "duration": 116,
    "start_time": "2023-02-09T15:08:59.234Z"
   },
   {
    "duration": 89,
    "start_time": "2023-02-09T15:08:59.352Z"
   },
   {
    "duration": 332,
    "start_time": "2023-02-09T15:08:59.443Z"
   },
   {
    "duration": 19,
    "start_time": "2023-02-09T15:08:59.776Z"
   },
   {
    "duration": 1722,
    "start_time": "2023-02-09T15:08:59.798Z"
   },
   {
    "duration": 9,
    "start_time": "2023-02-09T15:09:01.521Z"
   },
   {
    "duration": 39,
    "start_time": "2023-02-09T15:09:01.532Z"
   },
   {
    "duration": 61,
    "start_time": "2023-02-09T15:09:01.577Z"
   },
   {
    "duration": 34,
    "start_time": "2023-02-09T15:09:01.640Z"
   },
   {
    "duration": 873,
    "start_time": "2023-02-09T15:09:01.676Z"
   },
   {
    "duration": 329,
    "start_time": "2023-02-09T15:09:02.550Z"
   },
   {
    "duration": 24,
    "start_time": "2023-02-09T15:09:02.880Z"
   },
   {
    "duration": 330,
    "start_time": "2023-02-09T15:09:02.905Z"
   },
   {
    "duration": 314,
    "start_time": "2023-02-09T15:09:03.237Z"
   },
   {
    "duration": 374,
    "start_time": "2023-02-09T15:09:03.553Z"
   },
   {
    "duration": 214,
    "start_time": "2023-02-09T15:09:03.928Z"
   },
   {
    "duration": 358,
    "start_time": "2023-02-09T15:09:04.143Z"
   },
   {
    "duration": 38,
    "start_time": "2023-02-09T15:09:04.503Z"
   },
   {
    "duration": 62,
    "start_time": "2023-02-09T15:09:04.543Z"
   },
   {
    "duration": 53,
    "start_time": "2023-02-09T15:09:04.607Z"
   },
   {
    "duration": 74,
    "start_time": "2023-02-09T15:09:04.663Z"
   },
   {
    "duration": 66,
    "start_time": "2023-02-09T15:09:04.739Z"
   },
   {
    "duration": 53,
    "start_time": "2023-02-09T15:09:04.807Z"
   },
   {
    "duration": 393,
    "start_time": "2023-02-09T19:18:14.750Z"
   },
   {
    "duration": 215,
    "start_time": "2023-02-09T19:18:15.148Z"
   },
   {
    "duration": 65,
    "start_time": "2023-02-09T19:18:15.917Z"
   },
   {
    "duration": 73,
    "start_time": "2023-02-09T19:18:16.895Z"
   },
   {
    "duration": 137,
    "start_time": "2023-02-09T19:18:22.021Z"
   },
   {
    "duration": 121,
    "start_time": "2023-02-09T19:18:32.909Z"
   },
   {
    "duration": 3,
    "start_time": "2023-02-09T19:18:49.670Z"
   },
   {
    "duration": 78,
    "start_time": "2023-02-09T19:18:50.066Z"
   },
   {
    "duration": 5,
    "start_time": "2023-02-09T19:18:52.559Z"
   },
   {
    "duration": 127,
    "start_time": "2023-02-09T19:18:53.767Z"
   },
   {
    "duration": 62,
    "start_time": "2023-02-09T19:19:42.457Z"
   },
   {
    "duration": 3,
    "start_time": "2023-02-09T19:19:49.070Z"
   },
   {
    "duration": 59,
    "start_time": "2023-02-09T19:19:49.493Z"
   },
   {
    "duration": 5,
    "start_time": "2023-02-09T19:19:50.517Z"
   },
   {
    "duration": 97,
    "start_time": "2023-02-09T19:19:53.893Z"
   },
   {
    "duration": 2,
    "start_time": "2023-02-09T19:20:12.930Z"
   },
   {
    "duration": 65,
    "start_time": "2023-02-09T19:20:13.348Z"
   },
   {
    "duration": 4,
    "start_time": "2023-02-09T19:20:14.326Z"
   },
   {
    "duration": 118,
    "start_time": "2023-02-09T19:20:17.037Z"
   },
   {
    "duration": 87,
    "start_time": "2023-02-09T19:20:21.147Z"
   },
   {
    "duration": 503,
    "start_time": "2023-02-09T19:20:21.665Z"
   },
   {
    "duration": 7,
    "start_time": "2023-02-09T19:20:22.172Z"
   },
   {
    "duration": 1774,
    "start_time": "2023-02-09T19:20:22.515Z"
   },
   {
    "duration": 8,
    "start_time": "2023-02-09T19:20:24.291Z"
   },
   {
    "duration": 64,
    "start_time": "2023-02-09T19:20:24.302Z"
   },
   {
    "duration": 17,
    "start_time": "2023-02-09T19:20:25.381Z"
   },
   {
    "duration": 6,
    "start_time": "2023-02-09T19:20:26.365Z"
   },
   {
    "duration": 805,
    "start_time": "2023-02-09T19:20:26.829Z"
   },
   {
    "duration": 291,
    "start_time": "2023-02-09T19:20:27.637Z"
   },
   {
    "duration": 23,
    "start_time": "2023-02-09T19:20:27.943Z"
   },
   {
    "duration": 318,
    "start_time": "2023-02-09T19:20:28.960Z"
   },
   {
    "duration": 317,
    "start_time": "2023-02-09T19:20:29.280Z"
   },
   {
    "duration": 341,
    "start_time": "2023-02-09T19:20:29.994Z"
   },
   {
    "duration": 181,
    "start_time": "2023-02-09T19:20:32.395Z"
   },
   {
    "duration": 298,
    "start_time": "2023-02-09T19:20:34.085Z"
   },
   {
    "duration": 41,
    "start_time": "2023-02-09T19:20:48.922Z"
   },
   {
    "duration": 44,
    "start_time": "2023-02-09T19:24:44.165Z"
   },
   {
    "duration": 12,
    "start_time": "2023-02-09T19:26:41.133Z"
   },
   {
    "duration": 12,
    "start_time": "2023-02-09T19:27:26.831Z"
   },
   {
    "duration": 17,
    "start_time": "2023-02-09T19:27:33.399Z"
   },
   {
    "duration": 13,
    "start_time": "2023-02-09T19:28:04.513Z"
   },
   {
    "duration": 15,
    "start_time": "2023-02-09T19:28:16.213Z"
   },
   {
    "duration": 16,
    "start_time": "2023-02-09T19:28:30.261Z"
   },
   {
    "duration": 24,
    "start_time": "2023-02-09T19:28:36.065Z"
   },
   {
    "duration": 111,
    "start_time": "2023-02-09T19:31:19.785Z"
   },
   {
    "duration": 192,
    "start_time": "2023-02-09T19:32:30.380Z"
   },
   {
    "duration": 13152,
    "start_time": "2023-02-09T19:34:56.247Z"
   },
   {
    "duration": 81,
    "start_time": "2023-02-09T19:36:18.620Z"
   },
   {
    "duration": 10,
    "start_time": "2023-02-09T19:36:26.138Z"
   },
   {
    "duration": 13,
    "start_time": "2023-02-09T19:36:38.965Z"
   },
   {
    "duration": 118,
    "start_time": "2023-02-09T19:36:49.104Z"
   },
   {
    "duration": 10,
    "start_time": "2023-02-09T19:37:53.027Z"
   },
   {
    "duration": 11,
    "start_time": "2023-02-09T19:38:00.124Z"
   },
   {
    "duration": 1197,
    "start_time": "2023-02-09T19:40:27.832Z"
   },
   {
    "duration": 1214,
    "start_time": "2023-02-09T19:41:04.061Z"
   },
   {
    "duration": 1152,
    "start_time": "2023-02-09T19:41:16.376Z"
   },
   {
    "duration": 8,
    "start_time": "2023-02-09T19:41:30.068Z"
   },
   {
    "duration": 7,
    "start_time": "2023-02-09T19:41:39.383Z"
   },
   {
    "duration": 158,
    "start_time": "2023-02-09T19:41:53.336Z"
   },
   {
    "duration": 1256,
    "start_time": "2023-02-09T19:42:34.704Z"
   },
   {
    "duration": 136,
    "start_time": "2023-02-09T19:42:46.830Z"
   },
   {
    "duration": 129,
    "start_time": "2023-02-09T19:43:14.096Z"
   },
   {
    "duration": 3,
    "start_time": "2023-02-09T19:43:31.665Z"
   },
   {
    "duration": 66,
    "start_time": "2023-02-09T19:43:31.819Z"
   },
   {
    "duration": 4,
    "start_time": "2023-02-09T19:43:32.164Z"
   },
   {
    "duration": 97,
    "start_time": "2023-02-09T19:43:32.566Z"
   },
   {
    "duration": 80,
    "start_time": "2023-02-09T19:43:33.304Z"
   },
   {
    "duration": 177,
    "start_time": "2023-02-09T19:43:33.853Z"
   },
   {
    "duration": 7,
    "start_time": "2023-02-09T19:43:34.408Z"
   },
   {
    "duration": 1576,
    "start_time": "2023-02-09T19:43:34.707Z"
   },
   {
    "duration": 7,
    "start_time": "2023-02-09T19:43:36.285Z"
   },
   {
    "duration": 18,
    "start_time": "2023-02-09T19:43:36.294Z"
   },
   {
    "duration": 14,
    "start_time": "2023-02-09T19:43:36.919Z"
   },
   {
    "duration": 7,
    "start_time": "2023-02-09T19:43:37.679Z"
   },
   {
    "duration": 283,
    "start_time": "2023-02-09T19:43:38.200Z"
   },
   {
    "duration": 266,
    "start_time": "2023-02-09T19:43:38.976Z"
   },
   {
    "duration": 18,
    "start_time": "2023-02-09T19:43:39.383Z"
   },
   {
    "duration": 285,
    "start_time": "2023-02-09T19:43:40.540Z"
   },
   {
    "duration": 308,
    "start_time": "2023-02-09T19:43:41.024Z"
   },
   {
    "duration": 342,
    "start_time": "2023-02-09T19:43:41.561Z"
   },
   {
    "duration": 190,
    "start_time": "2023-02-09T19:43:42.544Z"
   },
   {
    "duration": 765,
    "start_time": "2023-02-09T19:43:43.316Z"
   },
   {
    "duration": 39,
    "start_time": "2023-02-09T19:43:44.157Z"
   },
   {
    "duration": 121,
    "start_time": "2023-02-09T19:43:44.356Z"
   },
   {
    "duration": 55,
    "start_time": "2023-02-09T20:57:46.351Z"
   },
   {
    "duration": 4,
    "start_time": "2023-02-09T20:57:46.408Z"
   },
   {
    "duration": 106,
    "start_time": "2023-02-09T20:57:46.414Z"
   },
   {
    "duration": 72,
    "start_time": "2023-02-09T20:57:46.712Z"
   },
   {
    "duration": 165,
    "start_time": "2023-02-09T20:57:47.128Z"
   },
   {
    "duration": 8,
    "start_time": "2023-02-09T20:57:47.713Z"
   },
   {
    "duration": 1605,
    "start_time": "2023-02-09T20:57:48.004Z"
   },
   {
    "duration": 8,
    "start_time": "2023-02-09T20:57:49.612Z"
   },
   {
    "duration": 22,
    "start_time": "2023-02-09T20:57:49.920Z"
   },
   {
    "duration": 14,
    "start_time": "2023-02-09T20:57:50.984Z"
   },
   {
    "duration": 7,
    "start_time": "2023-02-09T20:57:51.831Z"
   },
   {
    "duration": 310,
    "start_time": "2023-02-09T20:57:52.425Z"
   },
   {
    "duration": 383,
    "start_time": "2023-02-09T20:57:53.392Z"
   },
   {
    "duration": 18,
    "start_time": "2023-02-09T20:57:54.153Z"
   },
   {
    "duration": 255,
    "start_time": "2023-02-09T20:57:55.501Z"
   },
   {
    "duration": 337,
    "start_time": "2023-02-09T20:57:56.168Z"
   },
   {
    "duration": 333,
    "start_time": "2023-02-09T20:57:57.528Z"
   },
   {
    "duration": 176,
    "start_time": "2023-02-09T20:58:00.816Z"
   },
   {
    "duration": 280,
    "start_time": "2023-02-09T20:58:02.853Z"
   },
   {
    "duration": 34,
    "start_time": "2023-02-09T20:58:04.908Z"
   },
   {
    "duration": 69,
    "start_time": "2023-02-09T20:58:09.420Z"
   },
   {
    "duration": 15,
    "start_time": "2023-02-09T20:58:16.856Z"
   },
   {
    "duration": 20,
    "start_time": "2023-02-09T20:58:31.464Z"
   },
   {
    "duration": 115,
    "start_time": "2023-02-09T20:58:36.908Z"
   },
   {
    "duration": 1291,
    "start_time": "2023-02-09T20:58:54.184Z"
   },
   {
    "duration": 104,
    "start_time": "2023-02-09T20:59:05.865Z"
   },
   {
    "duration": 136,
    "start_time": "2023-02-09T20:59:28.364Z"
   },
   {
    "duration": 129,
    "start_time": "2023-02-09T21:01:35.677Z"
   },
   {
    "duration": 10,
    "start_time": "2023-02-09T21:04:57.155Z"
   },
   {
    "duration": 10,
    "start_time": "2023-02-09T21:05:45.309Z"
   },
   {
    "duration": 17,
    "start_time": "2023-02-09T21:06:05.172Z"
   },
   {
    "duration": 1181,
    "start_time": "2023-02-09T21:06:14.826Z"
   },
   {
    "duration": 134,
    "start_time": "2023-02-09T21:07:02.681Z"
   },
   {
    "duration": 1293,
    "start_time": "2023-02-09T21:07:09.169Z"
   },
   {
    "duration": 405,
    "start_time": "2023-02-10T04:28:38.864Z"
   },
   {
    "duration": 98,
    "start_time": "2023-02-10T04:28:39.271Z"
   },
   {
    "duration": 57,
    "start_time": "2023-02-10T04:28:39.371Z"
   },
   {
    "duration": 128,
    "start_time": "2023-02-10T04:28:39.430Z"
   },
   {
    "duration": 112,
    "start_time": "2023-02-10T04:28:39.559Z"
   },
   {
    "duration": 507,
    "start_time": "2023-02-10T04:28:39.673Z"
   },
   {
    "duration": 7,
    "start_time": "2023-02-10T04:28:40.182Z"
   },
   {
    "duration": 1597,
    "start_time": "2023-02-10T04:28:40.191Z"
   },
   {
    "duration": 8,
    "start_time": "2023-02-10T04:28:41.790Z"
   },
   {
    "duration": 17,
    "start_time": "2023-02-10T04:28:41.800Z"
   },
   {
    "duration": 14,
    "start_time": "2023-02-10T04:28:41.837Z"
   },
   {
    "duration": 9,
    "start_time": "2023-02-10T04:28:41.852Z"
   },
   {
    "duration": 923,
    "start_time": "2023-02-10T04:28:41.862Z"
   },
   {
    "duration": 298,
    "start_time": "2023-02-10T04:28:42.787Z"
   },
   {
    "duration": 17,
    "start_time": "2023-02-10T04:28:43.087Z"
   },
   {
    "duration": 294,
    "start_time": "2023-02-10T04:28:43.105Z"
   },
   {
    "duration": 346,
    "start_time": "2023-02-10T04:28:43.400Z"
   },
   {
    "duration": 354,
    "start_time": "2023-02-10T04:28:43.748Z"
   },
   {
    "duration": 200,
    "start_time": "2023-02-10T04:28:44.104Z"
   },
   {
    "duration": 286,
    "start_time": "2023-02-10T04:28:44.305Z"
   },
   {
    "duration": 54,
    "start_time": "2023-02-10T04:28:44.593Z"
   },
   {
    "duration": 127,
    "start_time": "2023-02-10T04:28:44.649Z"
   },
   {
    "duration": 0,
    "start_time": "2023-02-10T04:28:44.777Z"
   },
   {
    "duration": 0,
    "start_time": "2023-02-10T04:28:44.778Z"
   },
   {
    "duration": 0,
    "start_time": "2023-02-10T04:28:44.780Z"
   },
   {
    "duration": 0,
    "start_time": "2023-02-10T04:28:44.781Z"
   },
   {
    "duration": 0,
    "start_time": "2023-02-10T04:28:44.783Z"
   },
   {
    "duration": 141,
    "start_time": "2023-02-10T04:29:23.664Z"
   },
   {
    "duration": 287,
    "start_time": "2023-02-10T04:30:11.920Z"
   },
   {
    "duration": 395,
    "start_time": "2023-02-10T04:30:21.908Z"
   },
   {
    "duration": 305,
    "start_time": "2023-02-10T04:30:51.077Z"
   },
   {
    "duration": 312,
    "start_time": "2023-02-10T04:31:00.845Z"
   },
   {
    "duration": 292,
    "start_time": "2023-02-10T04:31:23.753Z"
   },
   {
    "duration": 369,
    "start_time": "2023-02-10T04:32:09.955Z"
   },
   {
    "duration": 436,
    "start_time": "2023-02-10T04:33:17.422Z"
   },
   {
    "duration": 10904,
    "start_time": "2023-02-10T04:36:42.307Z"
   },
   {
    "duration": 11544,
    "start_time": "2023-02-10T04:37:31.829Z"
   },
   {
    "duration": 11,
    "start_time": "2023-02-10T04:38:39.229Z"
   },
   {
    "duration": 118,
    "start_time": "2023-02-10T04:38:53.997Z"
   },
   {
    "duration": 18,
    "start_time": "2023-02-10T04:44:43.637Z"
   },
   {
    "duration": 277,
    "start_time": "2023-02-10T04:44:59.529Z"
   },
   {
    "duration": 251,
    "start_time": "2023-02-10T04:45:55.077Z"
   },
   {
    "duration": 268,
    "start_time": "2023-02-10T04:47:43.969Z"
   },
   {
    "duration": 395,
    "start_time": "2023-02-10T04:49:11.463Z"
   },
   {
    "duration": 368,
    "start_time": "2023-02-10T04:49:34.754Z"
   },
   {
    "duration": 418,
    "start_time": "2023-02-10T05:41:40.014Z"
   },
   {
    "duration": 51,
    "start_time": "2023-02-10T05:41:40.434Z"
   },
   {
    "duration": 52,
    "start_time": "2023-02-10T05:41:40.487Z"
   },
   {
    "duration": 130,
    "start_time": "2023-02-10T05:41:40.542Z"
   },
   {
    "duration": 81,
    "start_time": "2023-02-10T05:41:40.673Z"
   },
   {
    "duration": 310,
    "start_time": "2023-02-10T05:41:40.756Z"
   },
   {
    "duration": 8,
    "start_time": "2023-02-10T05:41:41.068Z"
   },
   {
    "duration": 1660,
    "start_time": "2023-02-10T05:41:41.077Z"
   },
   {
    "duration": 8,
    "start_time": "2023-02-10T05:41:42.739Z"
   },
   {
    "duration": 27,
    "start_time": "2023-02-10T05:41:42.750Z"
   },
   {
    "duration": 17,
    "start_time": "2023-02-10T05:41:42.779Z"
   },
   {
    "duration": 7,
    "start_time": "2023-02-10T05:41:42.798Z"
   },
   {
    "duration": 794,
    "start_time": "2023-02-10T05:41:42.807Z"
   },
   {
    "duration": 273,
    "start_time": "2023-02-10T05:41:43.602Z"
   },
   {
    "duration": 24,
    "start_time": "2023-02-10T05:41:43.877Z"
   },
   {
    "duration": 289,
    "start_time": "2023-02-10T05:41:43.903Z"
   },
   {
    "duration": 298,
    "start_time": "2023-02-10T05:41:44.193Z"
   },
   {
    "duration": 332,
    "start_time": "2023-02-10T05:41:44.493Z"
   },
   {
    "duration": 184,
    "start_time": "2023-02-10T05:41:44.827Z"
   },
   {
    "duration": 280,
    "start_time": "2023-02-10T05:41:45.012Z"
   },
   {
    "duration": 45,
    "start_time": "2023-02-10T05:41:45.294Z"
   },
   {
    "duration": 354,
    "start_time": "2023-02-10T05:41:45.340Z"
   },
   {
    "duration": 0,
    "start_time": "2023-02-10T05:41:45.696Z"
   },
   {
    "duration": 0,
    "start_time": "2023-02-10T05:41:45.697Z"
   },
   {
    "duration": 0,
    "start_time": "2023-02-10T05:41:45.698Z"
   },
   {
    "duration": 0,
    "start_time": "2023-02-10T05:41:45.699Z"
   },
   {
    "duration": 0,
    "start_time": "2023-02-10T05:41:45.700Z"
   },
   {
    "duration": 0,
    "start_time": "2023-02-10T05:41:45.700Z"
   },
   {
    "duration": 36,
    "start_time": "2023-02-10T05:41:55.406Z"
   },
   {
    "duration": 47,
    "start_time": "2023-02-10T05:42:20.129Z"
   },
   {
    "duration": 493,
    "start_time": "2023-02-10T05:42:59.466Z"
   },
   {
    "duration": 39,
    "start_time": "2023-02-10T05:52:58.712Z"
   },
   {
    "duration": 392,
    "start_time": "2023-02-10T05:53:05.714Z"
   },
   {
    "duration": 6,
    "start_time": "2023-02-10T05:56:44.622Z"
   },
   {
    "duration": 1038,
    "start_time": "2023-02-10T05:56:50.094Z"
   },
   {
    "duration": 962,
    "start_time": "2023-02-10T05:56:52.639Z"
   },
   {
    "duration": 1345,
    "start_time": "2023-02-10T05:57:20.073Z"
   },
   {
    "duration": 1015,
    "start_time": "2023-02-10T05:57:38.170Z"
   },
   {
    "duration": 441,
    "start_time": "2023-02-10T05:57:49.190Z"
   },
   {
    "duration": 423,
    "start_time": "2023-02-10T05:58:09.605Z"
   },
   {
    "duration": 51,
    "start_time": "2023-02-10T05:59:06.107Z"
   },
   {
    "duration": 366,
    "start_time": "2023-02-10T05:59:13.642Z"
   },
   {
    "duration": 423,
    "start_time": "2023-02-10T05:59:42.400Z"
   },
   {
    "duration": 1057,
    "start_time": "2023-02-10T06:00:12.106Z"
   },
   {
    "duration": 1277,
    "start_time": "2023-02-10T06:54:20.651Z"
   },
   {
    "duration": 1016,
    "start_time": "2023-02-10T06:54:46.455Z"
   },
   {
    "duration": 233,
    "start_time": "2023-02-10T06:55:13.575Z"
   },
   {
    "duration": 1149,
    "start_time": "2023-02-10T06:55:24.051Z"
   },
   {
    "duration": 218,
    "start_time": "2023-02-10T06:55:50.391Z"
   },
   {
    "duration": 390,
    "start_time": "2023-02-10T06:57:49.999Z"
   },
   {
    "duration": 402,
    "start_time": "2023-02-10T06:58:13.653Z"
   },
   {
    "duration": 416,
    "start_time": "2023-02-10T07:01:01.802Z"
   },
   {
    "duration": 430,
    "start_time": "2023-02-10T07:03:29.230Z"
   },
   {
    "duration": 399,
    "start_time": "2023-02-10T07:03:49.814Z"
   },
   {
    "duration": 412,
    "start_time": "2023-02-10T07:04:07.762Z"
   },
   {
    "duration": 348,
    "start_time": "2023-02-10T07:04:19.722Z"
   },
   {
    "duration": 752,
    "start_time": "2023-02-10T07:09:12.710Z"
   },
   {
    "duration": 272,
    "start_time": "2023-02-10T07:09:27.049Z"
   },
   {
    "duration": 241,
    "start_time": "2023-02-10T07:09:54.206Z"
   },
   {
    "duration": 38,
    "start_time": "2023-02-10T07:10:07.590Z"
   },
   {
    "duration": 212,
    "start_time": "2023-02-10T07:10:23.578Z"
   },
   {
    "duration": 516,
    "start_time": "2023-02-10T07:10:39.821Z"
   },
   {
    "duration": 316,
    "start_time": "2023-02-10T07:11:43.377Z"
   },
   {
    "duration": 59,
    "start_time": "2023-02-10T07:13:33.453Z"
   },
   {
    "duration": 237,
    "start_time": "2023-02-10T07:13:53.397Z"
   },
   {
    "duration": 334,
    "start_time": "2023-02-10T07:14:46.017Z"
   },
   {
    "duration": 233,
    "start_time": "2023-02-10T07:15:33.485Z"
   },
   {
    "duration": 595,
    "start_time": "2023-02-10T07:15:45.126Z"
   },
   {
    "duration": 767,
    "start_time": "2023-02-10T07:18:44.750Z"
   },
   {
    "duration": 403,
    "start_time": "2023-02-10T07:53:32.726Z"
   },
   {
    "duration": 54,
    "start_time": "2023-02-10T07:53:33.131Z"
   },
   {
    "duration": 53,
    "start_time": "2023-02-10T07:53:33.187Z"
   },
   {
    "duration": 126,
    "start_time": "2023-02-10T07:53:33.241Z"
   },
   {
    "duration": 74,
    "start_time": "2023-02-10T07:53:33.369Z"
   },
   {
    "duration": 309,
    "start_time": "2023-02-10T07:53:33.445Z"
   },
   {
    "duration": 7,
    "start_time": "2023-02-10T07:53:33.755Z"
   },
   {
    "duration": 1547,
    "start_time": "2023-02-10T07:53:33.763Z"
   },
   {
    "duration": 9,
    "start_time": "2023-02-10T07:53:35.312Z"
   },
   {
    "duration": 29,
    "start_time": "2023-02-10T07:53:35.322Z"
   },
   {
    "duration": 14,
    "start_time": "2023-02-10T07:53:35.352Z"
   },
   {
    "duration": 27,
    "start_time": "2023-02-10T07:53:35.367Z"
   },
   {
    "duration": 824,
    "start_time": "2023-02-10T07:53:35.395Z"
   },
   {
    "duration": 283,
    "start_time": "2023-02-10T07:53:36.222Z"
   },
   {
    "duration": 17,
    "start_time": "2023-02-10T07:53:36.507Z"
   },
   {
    "duration": 283,
    "start_time": "2023-02-10T07:53:36.526Z"
   },
   {
    "duration": 316,
    "start_time": "2023-02-10T07:53:36.811Z"
   },
   {
    "duration": 342,
    "start_time": "2023-02-10T07:53:37.129Z"
   },
   {
    "duration": 181,
    "start_time": "2023-02-10T07:53:37.473Z"
   },
   {
    "duration": 283,
    "start_time": "2023-02-10T07:53:37.656Z"
   },
   {
    "duration": 36,
    "start_time": "2023-02-10T07:53:37.941Z"
   },
   {
    "duration": 323,
    "start_time": "2023-02-10T07:53:37.978Z"
   },
   {
    "duration": 115,
    "start_time": "2023-02-10T07:53:38.302Z"
   },
   {
    "duration": 0,
    "start_time": "2023-02-10T07:53:38.418Z"
   },
   {
    "duration": 0,
    "start_time": "2023-02-10T07:53:38.419Z"
   },
   {
    "duration": 0,
    "start_time": "2023-02-10T07:53:38.421Z"
   },
   {
    "duration": 0,
    "start_time": "2023-02-10T07:53:38.421Z"
   },
   {
    "duration": 0,
    "start_time": "2023-02-10T07:53:38.423Z"
   },
   {
    "duration": 494,
    "start_time": "2023-02-10T07:54:37.248Z"
   },
   {
    "duration": 590,
    "start_time": "2023-02-10T07:55:37.734Z"
   },
   {
    "duration": 608,
    "start_time": "2023-02-10T07:55:50.247Z"
   },
   {
    "duration": 721,
    "start_time": "2023-02-10T07:56:15.949Z"
   },
   {
    "duration": 242,
    "start_time": "2023-02-10T07:56:35.527Z"
   },
   {
    "duration": 50,
    "start_time": "2023-02-10T11:21:09.265Z"
   },
   {
    "duration": 408,
    "start_time": "2023-02-10T11:21:16.288Z"
   },
   {
    "duration": 97,
    "start_time": "2023-02-10T11:21:16.699Z"
   },
   {
    "duration": 53,
    "start_time": "2023-02-10T11:21:16.797Z"
   },
   {
    "duration": 131,
    "start_time": "2023-02-10T11:21:16.853Z"
   },
   {
    "duration": 77,
    "start_time": "2023-02-10T11:21:16.986Z"
   },
   {
    "duration": 521,
    "start_time": "2023-02-10T11:21:17.064Z"
   },
   {
    "duration": 15,
    "start_time": "2023-02-10T11:21:17.587Z"
   },
   {
    "duration": 1601,
    "start_time": "2023-02-10T11:21:17.603Z"
   },
   {
    "duration": 8,
    "start_time": "2023-02-10T11:21:19.205Z"
   },
   {
    "duration": 26,
    "start_time": "2023-02-10T11:21:19.216Z"
   },
   {
    "duration": 16,
    "start_time": "2023-02-10T11:21:19.244Z"
   },
   {
    "duration": 14,
    "start_time": "2023-02-10T11:21:19.262Z"
   },
   {
    "duration": 795,
    "start_time": "2023-02-10T11:21:19.278Z"
   },
   {
    "duration": 283,
    "start_time": "2023-02-10T11:21:20.075Z"
   },
   {
    "duration": 20,
    "start_time": "2023-02-10T11:21:20.360Z"
   },
   {
    "duration": 309,
    "start_time": "2023-02-10T11:21:20.381Z"
   },
   {
    "duration": 324,
    "start_time": "2023-02-10T11:21:20.692Z"
   },
   {
    "duration": 372,
    "start_time": "2023-02-10T11:21:21.018Z"
   },
   {
    "duration": 214,
    "start_time": "2023-02-10T11:21:21.392Z"
   },
   {
    "duration": 296,
    "start_time": "2023-02-10T11:21:21.607Z"
   },
   {
    "duration": 37,
    "start_time": "2023-02-10T11:21:21.905Z"
   },
   {
    "duration": 329,
    "start_time": "2023-02-10T11:21:21.944Z"
   },
   {
    "duration": 657,
    "start_time": "2023-02-10T11:21:22.275Z"
   },
   {
    "duration": 9,
    "start_time": "2023-02-10T11:21:22.933Z"
   },
   {
    "duration": 17,
    "start_time": "2023-02-10T11:21:22.944Z"
   },
   {
    "duration": 11,
    "start_time": "2023-02-10T11:21:22.963Z"
   },
   {
    "duration": 27,
    "start_time": "2023-02-10T11:21:22.976Z"
   },
   {
    "duration": 10,
    "start_time": "2023-02-10T11:21:23.005Z"
   },
   {
    "duration": 769,
    "start_time": "2023-02-10T11:23:47.564Z"
   },
   {
    "duration": 610,
    "start_time": "2023-02-10T11:24:11.989Z"
   },
   {
    "duration": 631,
    "start_time": "2023-02-10T11:24:29.339Z"
   },
   {
    "duration": 856,
    "start_time": "2023-02-10T11:27:40.078Z"
   },
   {
    "duration": 657,
    "start_time": "2023-02-10T11:27:53.745Z"
   },
   {
    "duration": 48,
    "start_time": "2023-02-10T11:59:05.579Z"
   },
   {
    "duration": 441,
    "start_time": "2023-02-10T23:51:25.031Z"
   },
   {
    "duration": 59,
    "start_time": "2023-02-10T23:51:25.474Z"
   },
   {
    "duration": 88,
    "start_time": "2023-02-10T23:51:25.535Z"
   },
   {
    "duration": 135,
    "start_time": "2023-02-10T23:51:25.625Z"
   },
   {
    "duration": 93,
    "start_time": "2023-02-10T23:51:25.763Z"
   },
   {
    "duration": 341,
    "start_time": "2023-02-10T23:51:25.858Z"
   },
   {
    "duration": 7,
    "start_time": "2023-02-10T23:51:26.200Z"
   },
   {
    "duration": 1655,
    "start_time": "2023-02-10T23:51:26.208Z"
   },
   {
    "duration": 9,
    "start_time": "2023-02-10T23:51:27.864Z"
   },
   {
    "duration": 20,
    "start_time": "2023-02-10T23:51:27.874Z"
   },
   {
    "duration": 14,
    "start_time": "2023-02-10T23:51:27.895Z"
   },
   {
    "duration": 14,
    "start_time": "2023-02-10T23:51:27.910Z"
   },
   {
    "duration": 829,
    "start_time": "2023-02-10T23:51:27.926Z"
   },
   {
    "duration": 302,
    "start_time": "2023-02-10T23:51:28.757Z"
   },
   {
    "duration": 17,
    "start_time": "2023-02-10T23:51:29.061Z"
   },
   {
    "duration": 303,
    "start_time": "2023-02-10T23:51:29.079Z"
   },
   {
    "duration": 352,
    "start_time": "2023-02-10T23:51:29.384Z"
   },
   {
    "duration": 399,
    "start_time": "2023-02-10T23:51:29.738Z"
   },
   {
    "duration": 223,
    "start_time": "2023-02-10T23:51:30.138Z"
   },
   {
    "duration": 331,
    "start_time": "2023-02-10T23:51:30.363Z"
   },
   {
    "duration": 343,
    "start_time": "2023-02-10T23:51:30.695Z"
   },
   {
    "duration": 699,
    "start_time": "2023-02-10T23:51:31.040Z"
   },
   {
    "duration": 501,
    "start_time": "2023-02-10T23:51:31.741Z"
   },
   {
    "duration": 15,
    "start_time": "2023-02-10T23:51:32.244Z"
   },
   {
    "duration": 8,
    "start_time": "2023-02-10T23:51:32.261Z"
   },
   {
    "duration": 14,
    "start_time": "2023-02-10T23:51:32.271Z"
   },
   {
    "duration": 11,
    "start_time": "2023-02-10T23:51:32.287Z"
   },
   {
    "duration": 18,
    "start_time": "2023-02-10T23:51:32.300Z"
   }
  ],
  "kernelspec": {
   "display_name": "Python 3 (ipykernel)",
   "language": "python",
   "name": "python3"
  },
  "language_info": {
   "codemirror_mode": {
    "name": "ipython",
    "version": 3
   },
   "file_extension": ".py",
   "mimetype": "text/x-python",
   "name": "python",
   "nbconvert_exporter": "python",
   "pygments_lexer": "ipython3",
   "version": "3.9.5"
  },
  "toc": {
   "base_numbering": 1,
   "nav_menu": {},
   "number_sections": true,
   "sideBar": true,
   "skip_h1_title": true,
   "title_cell": "Table of Contents",
   "title_sidebar": "Contents",
   "toc_cell": false,
   "toc_position": {
    "height": "calc(100% - 180px)",
    "left": "10px",
    "top": "150px",
    "width": "173.398px"
   },
   "toc_section_display": true,
   "toc_window_display": true
  }
 },
 "nbformat": 4,
 "nbformat_minor": 2
}
