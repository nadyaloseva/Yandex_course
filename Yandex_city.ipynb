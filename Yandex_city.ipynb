{
 "cells": [
  {
   "cell_type": "markdown",
   "metadata": {},
   "source": [
    "# Исследование объявлений о продаже квартир\n",
    "\n",
    "В вашем распоряжении данные сервиса Яндекс.Недвижимость — архив объявлений о продаже квартир в Санкт-Петербурге и соседних населённых пунктов за несколько лет. Нужно научиться определять рыночную стоимость объектов недвижимости. Ваша задача — установить параметры. Это позволит построить автоматизированную систему: она отследит аномалии и мошенническую деятельность. \n",
    "\n",
    "По каждой квартире на продажу доступны два вида данных. Первые вписаны пользователем, вторые — получены автоматически на основе картографических данных. Например, расстояние до центра, аэропорта, ближайшего парка и водоёма. "
   ]
  },
  {
   "cell_type": "markdown",
   "metadata": {},
   "source": [
    "### Откройте файл с данными и изучите общую информацию. "
   ]
  },
  {
   "cell_type": "code",
   "execution_count": null,
   "metadata": {},
   "outputs": [],
   "source": [
    "import pandas as pd\n",
    "import matplotlib as plt\n",
    "\n",
    "#импорт данных\n",
    "data=pd.read_csv('/datasets/real_estate_data.csv', sep='\\t')\n",
    "print  (data.head(5)) \n",
    "print(data.info())\n",
    "print(data.hist(figsize=(15, 20)))"
   ]
  },
  {
   "cell_type": "markdown",
   "metadata": {},
   "source": [
    "### Предобработка данных"
   ]
  },
  {
   "cell_type": "code",
   "execution_count": 35,
   "metadata": {},
   "outputs": [
    {
     "data": {
      "text/plain": [
       "total_images                0\n",
       "last_price                  0\n",
       "total_area                  0\n",
       "first_day_exposition        0\n",
       "rooms                       0\n",
       "ceiling_height           9195\n",
       "floors_total                0\n",
       "living_area              1903\n",
       "floor                       0\n",
       "is_apartment                0\n",
       "studio                      0\n",
       "open_plan                   0\n",
       "kitchen_area             2278\n",
       "balcony                     0\n",
       "locality_name              49\n",
       "airports_nearest         5542\n",
       "cityCenters_nearest      5519\n",
       "parks_around3000            0\n",
       "parks_nearest           15620\n",
       "ponds_around3000            0\n",
       "ponds_nearest           14589\n",
       "days_exposition             0\n",
       "price_one_areal             0\n",
       "dtype: int64"
      ]
     },
     "execution_count": 35,
     "metadata": {},
     "output_type": "execute_result"
    }
   ],
   "source": [
    "#подсчет нулевых значений и удаление или замены пустых значений \n",
    "data['parks_around3000']=data['parks_around3000'].fillna(0)\n",
    "data['ponds_around3000']=data['ponds_around3000'].fillna(0)\n",
    "data['balcony']=data['balcony'].fillna(0)\n",
    "data['is_apartment']=data['is_apartment'].fillna(0)\n",
    "data['days_exposition']=data['days_exposition'].fillna(0)\n",
    "data['floors_total']=data['floors_total'].fillna(data['floors_total'].median())\n",
    "data.isna().sum()"
   ]
  },
  {
   "cell_type": "markdown",
   "metadata": {},
   "source": [
    "Наличие балкона, аэропорта, парка и пруда в ближайшей окрастности может не быть, поэтому нулевые значения мы заполняем нулем. Можно пердположить, что это связанно с тем, что они правда отсутствуют в квартире, как балконы, или по близости есть объекты с расстоянием в 0 в случае с прудом, аэропортом и парком. Остальные значения осталяем пустыми, так что они могут значительно повлиять на анализ. Их отсутсвия могут быть связаны с невнимательностью продавцов, неуверенности в том, что нужно указать или багов сервиса. "
   ]
  },
  {
   "cell_type": "code",
   "execution_count": 36,
   "metadata": {},
   "outputs": [
    {
     "data": {
      "text/plain": [
       "total_images                     int64\n",
       "last_price                     float64\n",
       "total_area                     float64\n",
       "first_day_exposition    datetime64[ns]\n",
       "rooms                            int64\n",
       "ceiling_height                 float64\n",
       "floors_total                     int64\n",
       "living_area                    float64\n",
       "floor                            int64\n",
       "is_apartment                      bool\n",
       "studio                            bool\n",
       "open_plan                         bool\n",
       "kitchen_area                   float64\n",
       "balcony                          int64\n",
       "locality_name                   object\n",
       "airports_nearest               float64\n",
       "cityCenters_nearest            float64\n",
       "parks_around3000                 int64\n",
       "parks_nearest                  float64\n",
       "ponds_around3000                 int64\n",
       "ponds_nearest                  float64\n",
       "days_exposition                  int64\n",
       "price_one_areal                float64\n",
       "dtype: object"
      ]
     },
     "execution_count": 36,
     "metadata": {},
     "output_type": "execute_result"
    }
   ],
   "source": [
    "#изменение типов данных\n",
    "\n",
    "data=data.astype({'balcony':'int','is_apartment':'bool','parks_around3000':'int',\\\n",
    "                 'ponds_around3000':'int','days_exposition':'int','floors_total':'int'})\n",
    "data['first_day_exposition']=pd.to_datetime(data['first_day_exposition'], format='%Y%m%dT%H:%M:%S')\n",
    "\n",
    "data.dtypes"
   ]
  },
  {
   "cell_type": "markdown",
   "metadata": {},
   "source": [
    "В столбце first_day_exposition меняем тип данных на дату, так как это так как является количеством.\n",
    "is_apartment меняем на bool, так как являет присваеванием статсута(то есть является или не является апартаментами). \n",
    "parks_around3000, ponds_around3000 меняется на int, так ка описывает количество парков или прудов на расстоянии 3000 м. \n",
    "days_exposition является количеством, поэтому также присваиваем тип int"
   ]
  },
  {
   "cell_type": "markdown",
   "metadata": {},
   "source": [
    "**Устраним дубликаты в столбце 'locality_name'**"
   ]
  },
  {
   "cell_type": "code",
   "execution_count": 37,
   "metadata": {
    "scrolled": true
   },
   "outputs": [
    {
     "data": {
      "text/plain": [
       "array(['санкт-петербург', 'поселок шушары', 'поселок янино-1',\n",
       "       'поселок парголово', 'поселок мурино', 'ломоносов', 'сертолово',\n",
       "       'петергоф', 'пушкин', 'деревня кудрово', 'коммунар', 'колпино',\n",
       "       'поселок красный бор', 'гатчина', 'деревня федоровское', 'выборг',\n",
       "       'кронштадт', 'кировск', 'деревня новое девяткино',\n",
       "       'поселок металлострой', 'поселок лебяжье', 'поселок сиверский',\n",
       "       'поселок молодцово', 'поселок кузьмоловский',\n",
       "       'садовое товарищество новая ропша', 'павловск',\n",
       "       'деревня пикколово', 'всеволожск', 'волхов', 'кингисепп',\n",
       "       'приозерск', 'сестрорецк', 'деревня куттузи', 'поселок аннино',\n",
       "       'поселок ефимовский', 'поселок плодовое', 'деревня заклинье',\n",
       "       'поселок торковичи', 'поселок первомайское', 'красное село',\n",
       "       'поселок понтонный', 'сясьстрой', 'деревня старая',\n",
       "       'деревня лесколово', 'поселок новый свет', 'сланцы',\n",
       "       'село путилово', 'ивангород', 'мурино', 'шлиссельбург',\n",
       "       'никольское', 'зеленогорск', 'сосновый бор', 'деревня оржицы',\n",
       "       'деревня кальтино', 'кудрово', 'поселок романовка',\n",
       "       'поселок бугры', 'поселок рощино', 'кириши', 'луга', 'волосово',\n",
       "       'отрадное', 'село павлово', 'поселок оредеж', 'село копорье',\n",
       "       'поселок молодежное', 'тихвин', 'поселок победа', 'деревня нурма',\n",
       "       'поселок синявино', 'тосно', 'поселок стрельна', 'бокситогорск',\n",
       "       'поселок александровская', 'деревня лопухинка', 'пикалево',\n",
       "       'поселок терволово', 'поселок советский', 'подпорожье',\n",
       "       'поселок петровское', 'поселок токсово', 'поселок сельцо',\n",
       "       'поселок вырица', 'деревня кипень', 'деревня келози',\n",
       "       'деревня вартемяги', 'поселок тельмана', 'поселок севастьяново',\n",
       "       'поселок большая ижора', nan, 'поселок павлово',\n",
       "       'деревня агалатово', 'поселок новогорелово', 'поселок лесогорский',\n",
       "       'деревня лаголово', 'поселок цвелодубово', 'поселок рахья',\n",
       "       'деревня белогорка', 'поселок заводской', 'поселок новоселье',\n",
       "       'деревня большие колпаны', 'деревня горбунки', 'деревня батово',\n",
       "       'деревня заневка', 'деревня иссад', 'приморск',\n",
       "       'поселок федоровское', 'деревня мистолово', 'новая ладога',\n",
       "       'поселок зимитицы', 'поселок барышево', 'деревня разметелево',\n",
       "       'поселок имени свердлова', 'деревня пеники', 'поселок рябово',\n",
       "       'деревня пудомяги', 'поселок станции корнево', 'деревня низино',\n",
       "       'деревня бегуницы', 'поселок поляны', 'поселок мга',\n",
       "       'поселок елизаветино', 'поселок кузнечное', 'деревня колтуши',\n",
       "       'поселок запорожское', 'деревня гостилицы',\n",
       "       'деревня малое карлино', 'поселок мичуринское',\n",
       "       'поселок имени морозова', 'поселок песочный', 'поселок сосново',\n",
       "       'деревня аро', 'поселок ильичево', 'поселок тайцы',\n",
       "       'деревня малое верево', 'деревня извара', 'поселок станции вещево',\n",
       "       'село паша', 'деревня калитино', 'поселок ульяновка',\n",
       "       'деревня чудской бор', 'поселок дубровка', 'деревня мины',\n",
       "       'поселок войсковицы', 'деревня коркино', 'поселок ропша',\n",
       "       'поселок приладожский', 'поселок щеглово', 'поселок гаврилово',\n",
       "       'лодейное поле', 'деревня рабитицы', 'поселок никольский',\n",
       "       'деревня кузьмолово', 'деревня малые колпаны',\n",
       "       'поселок петро-славянка', 'поселок назия', 'поселок репино',\n",
       "       'поселок углово', 'поселок старая малукса',\n",
       "       'садовое товарищество рахья', 'деревня меньково',\n",
       "       'деревня старые бегуницы', 'поселок саперный', 'поселок семрино',\n",
       "       'поселок глажево', 'поселок кобринское', 'деревня гарболово',\n",
       "       'деревня юкки', 'поселок станции приветнинское',\n",
       "       'деревня мануйлово', 'деревня пчева', 'поселок цвылево',\n",
       "       'поселок мельниково', 'поселок пудость', 'поселок усть-луга',\n",
       "       'светогорск', 'любань', 'поселок селезнево', 'каменногорск',\n",
       "       'деревня кривко', 'поселок глебычево', 'деревня парицы',\n",
       "       'поселок жилпоселок', 'поселок войскорово', 'село никольское',\n",
       "       'поселок стеклянный', 'поселок важины', 'поселок мыза-ивановка',\n",
       "       'село русско-высоцкое', 'поселок форносово', 'село старая ладога',\n",
       "       'поселок житково', 'поселок виллози', 'деревня лампово',\n",
       "       'деревня шпаньково', 'деревня лаврики', 'поселок сумино',\n",
       "       'поселок возрождение', 'деревня старосиверская',\n",
       "       'поселок кикерино', 'деревня старое хинколово',\n",
       "       'поселок пригородный', 'поселок торфяное', 'поселок будогощь',\n",
       "       'поселок суходолье', 'поселок красная долина', 'деревня хапо-ое',\n",
       "       'поселок дружная горка', 'поселок лисий нос', 'деревня яльгелево',\n",
       "       'село рождествено', 'деревня старополье', 'поселок левашово',\n",
       "       'деревня сяськелево', 'деревня камышовка',\n",
       "       'садоводческое некоммерческое товарищество лесная поляна',\n",
       "       'деревня хязельки', 'поселок жилгородок', 'деревня ялгино',\n",
       "       'поселок новый учхоз', 'поселок гончарово', 'поселок почап',\n",
       "       'поселок саперное', 'поселок платформа 69-й километр',\n",
       "       'поселок каложицы', 'деревня фалилеево', 'деревня пельгора',\n",
       "       'деревня торошковичи', 'поселок белоостров', 'поселок алексеевка',\n",
       "       'поселок серебрянский', 'поселок лукаши', 'деревня щеглово',\n",
       "       'деревня тарасово', 'поселок кингисеппский',\n",
       "       'поселок при железнодорожной станции вещево', 'поселок ушаки',\n",
       "       'деревня котлы', 'деревня сижно', 'деревня торосово',\n",
       "       'поселок форт красная горка', 'деревня новолисино',\n",
       "       'поселок станции громово', 'деревня глинка',\n",
       "       'деревня старая пустошь', 'поселок коммунары', 'поселок починок',\n",
       "       'поселок вознесенье', 'деревня разбегаево', 'поселок гладкое',\n",
       "       'поселок при железнодорожной станции приветнинское',\n",
       "       'поселок тесово-4', 'деревня бор', 'поселок коробицыно',\n",
       "       'деревня большая вруда', 'деревня курковицы', 'поселок кобралово',\n",
       "       'деревня суоранда', 'поселок кондратьево', 'поселок счастье',\n",
       "       'поселок любань', 'деревня реброво', 'деревня зимитицы',\n",
       "       'деревня тойворово', 'поселок семиозерье', 'поселок лесное',\n",
       "       'поселок совхозный', 'поселок ленинское', 'поселок суйда',\n",
       "       'деревня нижние осельки', 'поселок станции свирь',\n",
       "       'поселок перово', 'высоцк', 'поселок гарболово', 'село шум',\n",
       "       'поселок котельский', 'поселок станции лужайка',\n",
       "       'деревня большая пустомержа', 'поселок красносельское',\n",
       "       'деревня вахнова кара', 'деревня пижма', 'поселок кивеннапа север',\n",
       "       'поселок ромашки', 'деревня каськово', 'деревня куровицы',\n",
       "       'поселок плоское', 'поселок кирпичное', 'деревня ям-тесово',\n",
       "       'деревня раздолье', 'деревня терпилицы', 'поселок шугозеро',\n",
       "       'деревня ваганово', 'поселок пушное', 'садовое товарищество садко',\n",
       "       'поселок усть-ижора', 'деревня выскатка', 'поселок свирьстрой',\n",
       "       'поселок громово', 'деревня кисельня', 'деревня трубников бор',\n",
       "       'поселок калитино', 'поселок высокоключевой',\n",
       "       'садовое товарищество приладожский',\n",
       "       'поселок пансионат зеленый бор', 'деревня ненимяки',\n",
       "       'деревня снегиревка', 'деревня рапполово', 'деревня пустынка',\n",
       "       'поселок рабитицы', 'деревня большой сабск', 'деревня русско',\n",
       "       'деревня лупполово', 'деревня большое рейзино',\n",
       "       'деревня малая романовка', 'поселок дружноселье', 'поселок пчевжа',\n",
       "       'поселок володарское', 'деревня нижняя', 'деревня тихковицы',\n",
       "       'деревня борисова грива', 'поселок дзержинского'], dtype=object)"
      ]
     },
     "execution_count": 37,
     "metadata": {},
     "output_type": "execute_result"
    }
   ],
   "source": [
    "data = data.drop_duplicates()\n",
    "#проверка значений на уникальность\n",
    "data['locality_name'].unique()\n",
    "data['locality_name']=data['locality_name'].str.lower()\n",
    "data['locality_name']=data['locality_name'].str.replace('ё','е')\n",
    "data['locality_name']=data['locality_name'].str.replace('поселок городского типа','поселок')\n",
    "data['locality_name']=data['locality_name'].str.replace('городской поселок','поселок')\n",
    "data['locality_name']=data['locality_name'].str.replace('коттеджный поселок','поселок')\n",
    "data['locality_name'].unique()"
   ]
  },
  {
   "cell_type": "code",
   "execution_count": 38,
   "metadata": {},
   "outputs": [
    {
     "name": "stdout",
     "output_type": "stream",
     "text": [
      "       total_images    last_price    total_area         rooms  ceiling_height  \\\n",
      "count  23699.000000  23699.000000  23699.000000  23699.000000    14504.000000   \n",
      "mean       9.858475      6.541549     60.348651      2.070636        2.771499   \n",
      "std        5.682529     10.887013     35.654083      1.078405        1.261056   \n",
      "min        0.000000      0.012190     12.000000      0.000000        1.000000   \n",
      "25%        6.000000      3.400000     40.000000      1.000000        2.520000   \n",
      "50%        9.000000      4.650000     52.000000      2.000000        2.650000   \n",
      "75%       14.000000      6.800000     69.900000      3.000000        2.800000   \n",
      "max       50.000000    763.000000    900.000000     19.000000      100.000000   \n",
      "\n",
      "       floors_total   living_area         floor  kitchen_area       balcony  \\\n",
      "count  23699.000000  21796.000000  23699.000000  21421.000000  23699.000000   \n",
      "mean      10.667750     34.457852      5.892358     10.569807      0.591080   \n",
      "std        6.585961     22.030445      4.885249      5.905438      0.959298   \n",
      "min        1.000000      2.000000      1.000000      1.300000      0.000000   \n",
      "25%        5.000000     18.600000      2.000000      7.000000      0.000000   \n",
      "50%        9.000000     30.000000      4.000000      9.100000      0.000000   \n",
      "75%       16.000000     42.300000      8.000000     12.000000      1.000000   \n",
      "max       60.000000    409.700000     33.000000    112.000000      5.000000   \n",
      "\n",
      "       airports_nearest  cityCenters_nearest  parks_around3000  parks_nearest  \\\n",
      "count      18157.000000         18180.000000      23699.000000    8079.000000   \n",
      "mean       28793.672193         14191.277833          0.469049     490.804555   \n",
      "std        12630.880622          8608.386210          0.748534     342.317995   \n",
      "min            0.000000           181.000000          0.000000       1.000000   \n",
      "25%        18585.000000          9238.000000          0.000000     288.000000   \n",
      "50%        26726.000000         13098.500000          0.000000     455.000000   \n",
      "75%        37273.000000         16293.000000          1.000000     612.000000   \n",
      "max        84869.000000         65968.000000          3.000000    3190.000000   \n",
      "\n",
      "       ponds_around3000  ponds_nearest  days_exposition  price_one_areal  \n",
      "count      23699.000000    9110.000000     23699.000000     2.369900e+04  \n",
      "mean           0.590911     517.980900       156.608844     9.942166e+04  \n",
      "std            0.883999     277.720643       213.546873     5.030680e+04  \n",
      "min            0.000000      13.000000         0.000000     1.118349e+02  \n",
      "25%            0.000000     294.000000        22.000000     7.658547e+04  \n",
      "50%            0.000000     502.000000        74.000000     9.500000e+04  \n",
      "75%            1.000000     729.000000       199.000000     1.142563e+05  \n",
      "max            3.000000    1344.000000      1580.000000     1.907500e+06  \n"
     ]
    }
   ],
   "source": [
    "\n",
    "print(data.describe())\n",
    "\n",
    "#Максимальное значение площади квартиры\n",
    "#print(data.query('total_area == 900'))\n",
    "\n",
    "#Значение квартир с максимальным количеством комнат\n",
    "#print(data.query('rooms == 19'))\n",
    "#print(data.sort_values(by='rooms',ascending=False).head(5))\n",
    "\n",
    " \n"
   ]
  },
  {
   "cell_type": "markdown",
   "metadata": {},
   "source": [
    " Рассмотрим все данные в целом по столбцам:\n",
    "   - total_images. Минимальное значение 0, максимальное значение 50, среднее 9. Количество фотографий зависит от заинтересованности публикующего, поэтому не думаю можно не считать их аномальными </p> \n",
    "   - last_price. Минимальные, максимальные и средние значения не сильно отличаются, данные нормальные, аномалии отсутствуют \n",
    "   - total_area. Минимальное значение 12, максимальное 900. Максимальное значения сильно отличается от среднего и минимального значения, поэтому рассмотрим его подробнее. Количество комнат в квартире 12, площадь жилой площади 409.7, а площадь кухни 112.0. Думаю это значения является правдой и не стоит исключать его из исследования </p>\n",
    "   - rooms. Максимальное количество комант 19, это достаточно аномальное значение для квартиру, поэтому также рассмотрим его подробнее и поймем, что для площадь 374.6 кв. м. это досточно большое количество. Также посмотрим отсортируем список по возрастанию, чтобы сравнить с остальными примерами. На общем фоне данный показатель не кажется необычным, поэтому оставим его в наборе\n",
    "   - ceiling_height. Максимальная высота потолков 100 м, что является странным показателем. В среднем высота потолков меньше 3 кв. м. Однако, среднее и мединные значения не сильно отличаются, поэтому показательно можно оставить, так как он не повлияет на исследование\n",
    "   - floors_total. Данные в норме.\n",
    "   - living_area. Значения в норме, можно также сравнить каждую жилую площадь с общей площадью квартиры, чтобы она не привышала значения. \n",
    "   - floor. Вплоне нормальные, особенно с учетом общего количества этажей в домах.\n",
    "   - kitchen_area. Аналогично жилой площади можно считать нормальными.\n",
    "   - balcony. Данные в норм.\n",
    "   - Значения в столбцах airports_nearest,cityCenters_nearest,parks_around3000,parks_nearest,ponds_nearest также имеют нормальное распределения, пока не вижу смысла их менять.\n"
   ]
  },
  {
   "cell_type": "markdown",
   "metadata": {},
   "source": [
    "### Посчитайте и добавьте в таблицу новые столбцы"
   ]
  },
  {
   "cell_type": "code",
   "execution_count": 39,
   "metadata": {},
   "outputs": [
    {
     "name": "stdout",
     "output_type": "stream",
     "text": [
      "   total_images  last_price  total_area first_day_exposition  rooms  \\\n",
      "0            20      13.000       108.0           2019-03-07      3   \n",
      "1             7       3.350        40.4           2018-12-04      1   \n",
      "2            10       5.196        56.0           2015-08-20      2   \n",
      "3             0      64.900       159.0           2015-07-24      3   \n",
      "4             2      10.000       100.0           2018-06-19      2   \n",
      "\n",
      "   ceiling_height  floors_total  living_area  floor  is_apartment  ...  \\\n",
      "0            2.70            16         51.0      8         False  ...   \n",
      "1             NaN            11         18.6      1         False  ...   \n",
      "2             NaN             5         34.3      4         False  ...   \n",
      "3             NaN            14          NaN      9         False  ...   \n",
      "4            3.03            14         32.0     13         False  ...   \n",
      "\n",
      "   parks_nearest  ponds_around3000  ponds_nearest  days_exposition  \\\n",
      "0          482.0                 2          755.0                0   \n",
      "1            NaN                 0            NaN               81   \n",
      "2           90.0                 2          574.0              558   \n",
      "3           84.0                 3          234.0              424   \n",
      "4          112.0                 1           48.0              121   \n",
      "\n",
      "  price_one_areal  first_month_exposition  first_year_exposition  \\\n",
      "0        0.120370                       3                   2019   \n",
      "1        0.082921                      12                   2018   \n",
      "2        0.092786                       8                   2015   \n",
      "3        0.408176                       7                   2015   \n",
      "4        0.100000                       6                   2018   \n",
      "\n",
      "   first_week_exposition  floor_name  Centers_nearest_km  \n",
      "0                      3      другой              16.028  \n",
      "1                      1      первый              18.603  \n",
      "2                      3      другой              13.933  \n",
      "3                      4      другой               6.800  \n",
      "4                      1      другой               8.098  \n",
      "\n",
      "[5 rows x 28 columns]\n"
     ]
    }
   ],
   "source": [
    "data_new=data\n",
    "#стоимость 1 кв м \n",
    "data_new['price_one_areal']=data['last_price']/data['total_area']\n",
    "#месяц публикации\n",
    "data_new['first_month_exposition']=data_new['first_day_exposition'].dt.month\n",
    "#год публикации\n",
    "data_new['first_year_exposition']=data_new['first_day_exposition'].dt.year\n",
    "#номер дня недели\n",
    "data_new['first_week_exposition']=data_new['first_day_exposition'].dt.weekday\n",
    "#функция название этажа \n",
    "def floor_name (data):\n",
    "    floors_last = data['floors_total']\n",
    "    floor = data['floor']\n",
    "    if floor == 1:\n",
    "        return 'первый'\n",
    "    elif floor == floors_last:\n",
    "        return 'последний'\n",
    "    elif 1 < floor < floors_last:\n",
    "        return 'другой'\n",
    "    \n",
    "data_new['floor_name']=data_new.apply(floor_name, axis = 1)\n",
    "#расстояние для центра города в км\n",
    "data_new['Centers_nearest_km']=data['cityCenters_nearest']/1000\n",
    "#просмотр нового набора данных\n",
    "print(data_new.head(5))"
   ]
  },
  {
   "cell_type": "code",
   "execution_count": 57,
   "metadata": {},
   "outputs": [
    {
     "data": {
      "text/plain": [
       "first_year_exposition\n",
       "2014     108407\n",
       "2015     726448\n",
       "2016     871152\n",
       "2017    1258772\n",
       "2018     713195\n",
       "2019      33499\n",
       "Name: days_exposition, dtype: int64"
      ]
     },
     "execution_count": 57,
     "metadata": {},
     "output_type": "execute_result"
    },
    {
     "data": {
      "image/png": "[encoded data removed]",
      "text/plain": [
       "<Figure size 432x288 with 1 Axes>"
      ]
     },
     "metadata": {
      "needs_background": "light"
     },
     "output_type": "display_data"
    }
   ],
   "source": [
    "data_new.pivot_table(index='first_year_exposition', values='days_exposition').plot( grid=True)\n",
    "data_new.groupby(by=['first_year_exposition'])['days_exposition'].sum()"
   ]
  },
  {
   "cell_type": "code",
   "execution_count": null,
   "metadata": {},
   "outputs": [],
   "source": [
    "По графику видно, что количество дней уменьшается с каждым годом."
   ]
  },
  {
   "cell_type": "markdown",
   "metadata": {},
   "source": [
    "### Проведите исследовательский анализ данных"
   ]
  },
  {
   "cell_type": "code",
   "execution_count": 41,
   "metadata": {
    "scrolled": true
   },
   "outputs": [
    {
     "name": "stdout",
     "output_type": "stream",
     "text": [
      "count    2.369900e+04\n",
      "mean     6.541549e-06\n",
      "std      1.088701e-05\n",
      "min      1.219000e-08\n",
      "25%      3.400000e-06\n",
      "50%      4.650000e-06\n",
      "75%      6.800000e-06\n",
      "max      7.630000e-04\n",
      "Name: last_price, dtype: float64\n"
     ]
    },
    {
     "data": {
      "text/plain": [
       "<AxesSubplot:ylabel='Frequency'>"
      ]
     },
     "execution_count": 41,
     "metadata": {},
     "output_type": "execute_result"
    },
    {
     "data": {
      "image/png": "[encoded data removed]",
      "text/plain": [
       "<Figure size 576x360 with 1 Axes>"
      ]
     },
     "metadata": {
      "needs_background": "light"
     },
     "output_type": "display_data"
    },
    {
     "data": {
      "image/png": "[encoded data removed]",
      "text/plain": [
       "<Figure size 576x360 with 1 Axes>"
      ]
     },
     "metadata": {
      "needs_background": "light"
     },
     "output_type": "display_data"
    },
    {
     "data": {
      "image/png": "[encoded data removed]",
      "text/plain": [
       "<Figure size 576x360 with 1 Axes>"
      ]
     },
     "metadata": {
      "needs_background": "light"
     },
     "output_type": "display_data"
    },
    {
     "data": {
      "image/png": "[encoded data removed]",
      "text/plain": [
       "<Figure size 576x360 with 1 Axes>"
      ]
     },
     "metadata": {
      "needs_background": "light"
     },
     "output_type": "display_data"
    },
    {
     "data": {
      "image/png": "[encoded data removed]",
      "text/plain": [
       "<Figure size 576x360 with 1 Axes>"
      ]
     },
     "metadata": {
      "needs_background": "light"
     },
     "output_type": "display_data"
    },
    {
     "data": {
      "image/png": "[encoded data removed]",
      "text/plain": [
       "<Figure size 576x360 with 1 Axes>"
      ]
     },
     "metadata": {
      "needs_background": "light"
     },
     "output_type": "display_data"
    },
    {
     "data": {
      "image/png": "[encoded data removed]",
      "text/plain": [
       "<Figure size 432x288 with 1 Axes>"
      ]
     },
     "metadata": {
      "needs_background": "light"
     },
     "output_type": "display_data"
    },
    {
     "data": {
      "image/png": "[encoded data removed]",
      "text/plain": [
       "<Figure size 432x288 with 1 Axes>"
      ]
     },
     "metadata": {
      "needs_background": "light"
     },
     "output_type": "display_data"
    },
    {
     "data": {
      "image/png": "[encoded data removed]",
      "text/plain": [
       "<Figure size 432x288 with 1 Axes>"
      ]
     },
     "metadata": {
      "needs_background": "light"
     },
     "output_type": "display_data"
    },
    {
     "data": {
      "image/png": "[encoded data removed]",
      "text/plain": [
       "<Figure size 432x288 with 1 Axes>"
      ]
     },
     "metadata": {
      "needs_background": "light"
     },
     "output_type": "display_data"
    },
    {
     "data": {
      "image/png": "[encoded data removed]",
      "text/plain": [
       "<Figure size 432x288 with 1 Axes>"
      ]
     },
     "metadata": {
      "needs_background": "light"
     },
     "output_type": "display_data"
    },
    {
     "data": {
      "image/png": "[encoded data removed]",
      "text/plain": [
       "<Figure size 432x288 with 1 Axes>"
      ]
     },
     "metadata": {
      "needs_background": "light"
     },
     "output_type": "display_data"
    }
   ],
   "source": [
    "#анализ общей площади \n",
    "data_new.plot(y = 'total_area', kind = 'hist', bins = 100, grid=True,figsize=(8,5))\n",
    "\n",
    "#анализ жилой площади\n",
    "data_new.plot(y = 'living_area', kind = 'hist', bins = 100, grid=True,figsize=(8,5))\n",
    "\n",
    "#анализ площади кухни\n",
    "data_new.plot(y = 'kitchen_area', kind = 'hist', bins = 100, grid=True,figsize=(8,5))\n",
    "\n",
    "#анализ цены объектов \n",
    "data_new['last_price']=data_new['last_price']/1000000\n",
    "data_new.plot(y = 'last_price', kind = 'hist', grid=True,figsize=(8,5))\n",
    "print(data['last_price'].describe())\n",
    "\n",
    "#анализ количеств комнат\n",
    "data_new.plot(y = 'rooms', kind = 'hist', bins = 100, grid=True,figsize=(8,5), range = (0,10))\n",
    "\n",
    "#анализ высоты потолков\n",
    "data_new.plot(y = 'ceiling_height', kind = 'hist', grid=True,figsize=(8,5))\n",
    "\n",
    "#анализ этажей квартир\n",
    "data_new['floor_name'].hist(range = (0,10))\n",
    "\n",
    "#анализ этажей квартиры \n",
    "data_new.plot(y = 'floors_total', kind = 'hist', bins = 100, grid=True)\n",
    "\n",
    "#анализ расстояние до центра города в метрах \n",
    "data_new.plot(y = 'cityCenters_nearest', kind = 'hist', bins = 100, grid=True)\n",
    "\n",
    "#анализ расстояние до ближайшего аэропорта \n",
    "data_new.plot(y = 'airports_nearest', kind = 'hist', bins = 100, grid=True)\n",
    "\n",
    "#анализ расстояние до ближайшего парка \n",
    "data_new.plot(y = 'parks_nearest', kind = 'hist', bins = 100, grid=True)\n",
    "\n",
    "#анализ дня публикации объявления\n",
    "data_new.plot(y = 'first_week_exposition', kind = 'hist', grid=True)\n",
    "\n",
    "#анализ месяца публикации объявления\n",
    "data_new.plot(y = 'first_month_exposition', kind = 'hist',  grid=True)"
   ]
  },
  {
   "cell_type": "markdown",
   "metadata": {},
   "source": [
    "Из полученных диаграмма можно сделать выводы: \n",
    "- Общая площадь. Данные имеют нормальное распределение, есть небольшие выбросы. Большая часть квартир имеет общую площадь меньше 200 м2\n",
    "- Жилая площадь. Данный парметр имеет такие же показатели, как и общая площадь. В основном квартиры имеет площадь до 50 м2\n",
    "- Площадь кухни. Площади квартир имеют большое разнообразие, но большая часть квартир имеет площадь от 0 до 20 м2\n",
    "- Цены объектов. Средняя стоимость квартир составляет 65 млн. рублей, самая дорогастоящая квартира стоит 76 млдр. рублей. Чаще всего люди покупают квартиры стоимостью меньше 100 млн. рублей. \n",
    "- Количество комнат. Самыми популярными квартирами являются однокомнатные и двух комнатные. \n",
    "- Тип этажа. Распределение нормальное.\n",
    "- Этаж. Распределение нормальное, есть незначительные выбросы. \n",
    "- Расстояние до центра города. Распределение нормальное и вполне правдоподобное \n",
    "- Расстояние для аэропорта. Распределение нормальное \n",
    "- Дни недели. Данные показывают, что чаще всего публикации происходят в понедельник и среду\n",
    "- Месяц. Чаще всегопродажа квартир произсходит в первый и последний месяц года"
   ]
  },
  {
   "cell_type": "markdown",
   "metadata": {},
   "source": [
    "***Изучения показателей скорости удаления объявлений***\n"
   ]
  },
  {
   "cell_type": "code",
   "execution_count": 42,
   "metadata": {},
   "outputs": [
    {
     "name": "stdout",
     "output_type": "stream",
     "text": [
      "count    20518.000000\n",
      "mean       180.888634\n",
      "std        219.727988\n",
      "min          1.000000\n",
      "25%         45.000000\n",
      "50%         95.000000\n",
      "75%        232.000000\n",
      "max       1580.000000\n",
      "Name: days_exposition, dtype: float64\n",
      "45    880\n",
      "60    538\n",
      "7     234\n",
      "30    208\n",
      "90    204\n",
      "Name: days_exposition, dtype: int64\n"
     ]
    },
    {
     "data": {
      "image/png": "[encoded data removed]",
      "text/plain": [
       "<Figure size 432x288 with 1 Axes>"
      ]
     },
     "metadata": {
      "needs_background": "light"
     },
     "output_type": "display_data"
    },
    {
     "data": {
      "image/png": "[encoded data removed]",
      "text/plain": [
       "<Figure size 432x288 with 1 Axes>"
      ]
     },
     "metadata": {
      "needs_background": "light"
     },
     "output_type": "display_data"
    }
   ],
   "source": [
    "\n",
    "print(data_new[data_new['days_exposition']!=0]['days_exposition'].describe())\n",
    "data_new.plot(y = 'days_exposition', kind = 'hist', grid=True,bins=100, range=(1,1600))\n",
    "data_new.plot(y = 'days_exposition', kind = 'hist', grid=True, range=(1,200), bins=100)\n",
    "print(data[data['days_exposition']!=0]['days_exposition'].value_counts().head(5))"
   ]
  },
  {
   "cell_type": "markdown",
   "metadata": {},
   "source": [
    "Анализ удаления объявлений. \n",
    "- Среднее значение 180 дней, медианное значение 95 дней. \n",
    "- По гистограмме видно, что распределение нормальное. Большое количество приходится на промежуток между 0 и 200 днями. Для более точного анализа мы увеличили этот промежуток, чтобы увидеть более популярными является 45,60,7,30 и 90 дней после публикации. \n",
    "- Исключая объявления, которые не продержали и дня, так как такой быстрый срок удаления скорее всего связан с ошибочными данными и удаления самим автором или удаления самой платформой в связи с нарушениями правил. \n",
    "\n",
    "Из этого можно сделать вывод, что обычно продажа занимает 95 дней. Самой быстрой продажей является 1 день, а самым долгим периодом продажи 1580 дней. \n"
   ]
  },
  {
   "cell_type": "markdown",
   "metadata": {},
   "source": [
    "***Какие факторы больше всего влияют на общую (полную) стоимость объекта?***"
   ]
  },
  {
   "cell_type": "code",
   "execution_count": 43,
   "metadata": {},
   "outputs": [
    {
     "name": "stdout",
     "output_type": "stream",
     "text": [
      "Корреляция: 0.6536750579657244\n"
     ]
    },
    {
     "data": {
      "image/png": "[encoded data removed]",
      "text/plain": [
       "<Figure size 432x288 with 1 Axes>"
      ]
     },
     "metadata": {
      "needs_background": "light"
     },
     "output_type": "display_data"
    }
   ],
   "source": [
    "#Зависимость общей стоимости квартиры от площади квартиры \n",
    "\n",
    "data_new.pivot_table(index='last_price', values='total_area').plot(style = 'o', grid=True)\n",
    "\n",
    "print('Корреляция:', data_new['total_area'].corr(data_new['last_price']) )"
   ]
  },
  {
   "cell_type": "markdown",
   "metadata": {},
   "source": [
    "Корреляция является среднее и стоимость квартиры зависит от общей площади. Если смотреть на диаграмму, \n",
    "то она возрастающая: с увеличением квадратных метров, стоимость возрастает. Также по диаграмме рассеяния зависимость слабая"
   ]
  },
  {
   "cell_type": "code",
   "execution_count": 44,
   "metadata": {},
   "outputs": [
    {
     "name": "stdout",
     "output_type": "stream",
     "text": [
      "Корреляция: 0.5664915336952651\n"
     ]
    },
    {
     "data": {
      "image/png": "[encoded data removed]",
      "text/plain": [
       "<Figure size 432x288 with 1 Axes>"
      ]
     },
     "metadata": {
      "needs_background": "light"
     },
     "output_type": "display_data"
    }
   ],
   "source": [
    "#Зависимость жилой площади от стоимости \n",
    "\n",
    "data_new.pivot_table(index='last_price', values='living_area').plot(grid=True)\n",
    "print('Корреляция:', data_new['living_area'].corr(data_new['last_price']) )"
   ]
  },
  {
   "cell_type": "markdown",
   "metadata": {},
   "source": [
    "Корреляция, как в случае с общей площадью 0,6 средняя, зависимость также возрастающая. "
   ]
  },
  {
   "cell_type": "code",
   "execution_count": 45,
   "metadata": {},
   "outputs": [
    {
     "name": "stdout",
     "output_type": "stream",
     "text": [
      "Корреляция: 0.5198690130216387\n"
     ]
    },
    {
     "data": {
      "image/png": "[encoded data removed]",
      "text/plain": [
       "<Figure size 432x288 with 1 Axes>"
      ]
     },
     "metadata": {
      "needs_background": "light"
     },
     "output_type": "display_data"
    }
   ],
   "source": [
    "#Зависимость площади кухни от стоимости \n",
    "\n",
    "data_new.pivot_table(index='last_price', values='kitchen_area').plot(grid=True)\n",
    "print('Корреляция:', data_new['kitchen_area'].corr(data_new['last_price']) )"
   ]
  },
  {
   "cell_type": "markdown",
   "metadata": {},
   "source": [
    "Корреляция при данном сравнении меньше, но не сильно слабее, следовательно и зависимость такая же. "
   ]
  },
  {
   "cell_type": "code",
   "execution_count": 46,
   "metadata": {},
   "outputs": [
    {
     "name": "stdout",
     "output_type": "stream",
     "text": [
      "       total_images  last_price  total_area first_day_exposition  rooms  \\\n",
      "0                20    0.000013      108.00           2019-03-07      3   \n",
      "1                 7    0.000003       40.40           2018-12-04      1   \n",
      "2                10    0.000005       56.00           2015-08-20      2   \n",
      "3                 0    0.000065      159.00           2015-07-24      3   \n",
      "4                 2    0.000010      100.00           2018-06-19      2   \n",
      "...             ...         ...         ...                  ...    ...   \n",
      "23694             9    0.000010      133.81           2017-03-21      3   \n",
      "23695            14    0.000003       59.00           2018-01-15      3   \n",
      "23696            18    0.000003       56.70           2018-02-11      2   \n",
      "23697            13    0.000011       76.75           2017-03-28      2   \n",
      "23698             4    0.000001       32.30           2017-07-21      1   \n",
      "\n",
      "       ceiling_height  floors_total  living_area  floor  is_apartment  ...  \\\n",
      "0                2.70            16         51.0      8         False  ...   \n",
      "1                 NaN            11         18.6      1         False  ...   \n",
      "2                 NaN             5         34.3      4         False  ...   \n",
      "3                 NaN            14          NaN      9         False  ...   \n",
      "4                3.03            14         32.0     13         False  ...   \n",
      "...               ...           ...          ...    ...           ...  ...   \n",
      "23694            3.70             5         73.3      3         False  ...   \n",
      "23695             NaN             5         38.0      4         False  ...   \n",
      "23696             NaN             3         29.7      1         False  ...   \n",
      "23697            3.00            17          NaN     12         False  ...   \n",
      "23698            2.50             5         12.3      1         False  ...   \n",
      "\n",
      "       parks_nearest  ponds_around3000  ponds_nearest  days_exposition  \\\n",
      "0              482.0                 2          755.0                0   \n",
      "1                NaN                 0            NaN               81   \n",
      "2               90.0                 2          574.0              558   \n",
      "3               84.0                 3          234.0              424   \n",
      "4              112.0                 1           48.0              121   \n",
      "...              ...               ...            ...              ...   \n",
      "23694          796.0                 3          381.0                0   \n",
      "23695            NaN                 0            NaN               45   \n",
      "23696            NaN                 0            NaN                0   \n",
      "23697          173.0                 3          196.0              602   \n",
      "23698            NaN                 0            NaN                0   \n",
      "\n",
      "      price_one_areal  first_month_exposition  first_year_exposition  \\\n",
      "0            0.120370                       3                   2019   \n",
      "1            0.082921                      12                   2018   \n",
      "2            0.092786                       8                   2015   \n",
      "3            0.408176                       7                   2015   \n",
      "4            0.100000                       6                   2018   \n",
      "...               ...                     ...                    ...   \n",
      "23694        0.072491                       3                   2017   \n",
      "23695        0.052542                       1                   2018   \n",
      "23696        0.044092                       2                   2018   \n",
      "23697        0.149511                       3                   2017   \n",
      "23698        0.041796                       7                   2017   \n",
      "\n",
      "       first_week_exposition  floor_name  Centers_nearest_km  \n",
      "0                          3      другой              16.028  \n",
      "1                          1      первый              18.603  \n",
      "2                          3      другой              13.933  \n",
      "3                          4      другой               6.800  \n",
      "4                          1      другой               8.098  \n",
      "...                      ...         ...                 ...  \n",
      "23694                      1      другой               4.232  \n",
      "23695                      0      другой                 NaN  \n",
      "23696                      6      первый                 NaN  \n",
      "23697                      1      другой              10.364  \n",
      "23698                      4      первый                 NaN  \n",
      "\n",
      "[23699 rows x 28 columns]\n",
      "Топ-5 самых дорогих квартир\n",
      "            mean room  count  median\n",
      "last_price                          \n",
      "0.000763          7.0      1     7.0\n",
      "0.000420         12.0      1    12.0\n",
      "0.000401          5.0      1     5.0\n",
      "0.000330          3.0      1     3.0\n",
      "0.000300          7.0      1     7.0\n",
      "Топ-5 популярных квартир по стоимости и количеству комнат\n",
      "            mean room  count  median\n",
      "last_price                          \n",
      "0.000005     1.883041    342     2.0\n",
      "0.000003     1.635739    291     1.0\n",
      "0.000004     1.761538    260     2.0\n",
      "0.000004     1.734615    260     2.0\n",
      "0.000004     1.826255    259     2.0\n",
      "Корреляция: 0.36334284996489485\n",
      "          median\n",
      "      last_price\n",
      "rooms           \n",
      "0       0.000003\n",
      "1       0.000004\n",
      "2       0.000005\n",
      "3       0.000006\n",
      "4       0.000009\n",
      "5       0.000014\n",
      "6       0.000019\n",
      "7       0.000025\n",
      "8       0.000023\n",
      "9       0.000024\n",
      "10      0.000023\n",
      "11      0.000025\n",
      "12      0.000420\n",
      "14      0.000027\n",
      "15      0.000065\n",
      "16      0.000029\n",
      "19      0.000032\n"
     ]
    },
    {
     "data": {
      "text/plain": [
       "<AxesSubplot:xlabel='rooms'>"
      ]
     },
     "execution_count": 46,
     "metadata": {},
     "output_type": "execute_result"
    },
    {
     "data": {
      "image/png": "[encoded data removed]",
      "text/plain": [
       "<Figure size 432x288 with 1 Axes>"
      ]
     },
     "metadata": {
      "needs_background": "light"
     },
     "output_type": "display_data"
    }
   ],
   "source": [
    "#Зависимость количества комнат от стоимости \n",
    "print(data_new)\n",
    "data_pivot_rooms=data_new.pivot_table(index='last_price', values='rooms',aggfunc=['mean','count', 'median'])\n",
    "data_pivot_rooms.columns=['mean room','count','median']\n",
    "\n",
    "print('Топ-5 самых дорогих квартир')\n",
    "print(data_pivot_rooms.sort_values(by='last_price',ascending=False).head(5))\n",
    "\n",
    "print('Топ-5 популярных квартир по стоимости и количеству комнат')\n",
    "print(data_pivot_rooms.sort_values(by='count',ascending=False).head(5))\n",
    "\n",
    "\n",
    "print('Корреляция:', data_new['rooms'].corr(data_new['last_price']))\n",
    "print(data_new.pivot_table(index='rooms', values='last_price',aggfunc=['median']))\n",
    "data_new.pivot_table(index='rooms', values='last_price',aggfunc=['median']).plot(grid=True)"
   ]
  },
  {
   "cell_type": "markdown",
   "metadata": {},
   "source": [
    "Корреляция 0,3 маленькая, следовательно, и зависимость слабая.По графику видно, что нет очевидно зависимости между стоимостью и количеством комнат. Также присутствует одно аномальное значение, как мы проверили ранее оно не является ошибочными. Возможно стоит его исключить из анализа, но тогда значения будут не точными.  "
   ]
  },
  {
   "cell_type": "code",
   "execution_count": 47,
   "metadata": {},
   "outputs": [
    {
     "name": "stdout",
     "output_type": "stream",
     "text": [
      "            count      mean\n",
      "floor_name                 \n",
      "другой      17404  0.000007\n",
      "первый       2917  0.000005\n",
      "последний    3341  0.000007\n"
     ]
    },
    {
     "data": {
      "image/png": "[encoded data removed]",
      "text/plain": [
       "<Figure size 432x288 with 1 Axes>"
      ]
     },
     "metadata": {
      "needs_background": "light"
     },
     "output_type": "display_data"
    }
   ],
   "source": [
    "#Зависимость по типу этажа\n",
    "\n",
    "data_pivot_floor_name=data_new.pivot_table(index='floor_name', values='last_price',aggfunc=['count','mean'])\n",
    "data_pivot_floor_name.columns=['count','mean']\n",
    "data_pivot_floor_name.plot(y='mean')\n",
    "print(data_pivot_floor_name)\n",
    "#print('Корреляция:', data_pivot_rooms['mean'].corr(data_pivot_rooms['count']))\n"
   ]
  },
  {
   "cell_type": "markdown",
   "metadata": {},
   "source": [
    "По графику нет зависимости, но можно заметить, что стоимость квартир на первом этаже является самой дешевой"
   ]
  },
  {
   "cell_type": "code",
   "execution_count": 48,
   "metadata": {},
   "outputs": [
    {
     "name": "stdout",
     "output_type": "stream",
     "text": [
      "                       count      mean\n",
      "first_week_exposition                 \n",
      "0                       3612  0.000007\n",
      "1                       4183  0.000006\n",
      "2                       3974  0.000007\n",
      "3                       4295  0.000007\n",
      "4                       4000  0.000006\n",
      "5                       1936  0.000007\n",
      "6                       1699  0.000006\n"
     ]
    },
    {
     "data": {
      "image/png": "[encoded data removed]",
      "text/plain": [
       "<Figure size 432x288 with 1 Axes>"
      ]
     },
     "metadata": {
      "needs_background": "light"
     },
     "output_type": "display_data"
    }
   ],
   "source": [
    "#Зависимость по дню\n",
    "\n",
    "data_pivot_week=data_new.pivot_table(index='first_week_exposition', values='last_price',aggfunc=['count','mean'])\n",
    "data_pivot_week.columns=['count','mean']\n",
    "data_pivot_week.plot(y='mean')\n",
    "print(data_pivot_week)\n"
   ]
  },
  {
   "cell_type": "markdown",
   "metadata": {},
   "source": [
    "По данным сводной таблице видно, что средняя стоимость квартиры не зависит от дня размещения"
   ]
  },
  {
   "cell_type": "code",
   "execution_count": 49,
   "metadata": {},
   "outputs": [
    {
     "name": "stdout",
     "output_type": "stream",
     "text": [
      "                        count      mean\n",
      "first_month_exposition                 \n",
      "1                        1500  0.000007\n",
      "2                        2640  0.000006\n",
      "3                        2587  0.000006\n",
      "4                        2379  0.000007\n",
      "5                        1274  0.000007\n",
      "6                        1760  0.000006\n",
      "7                        1695  0.000007\n",
      "8                        1744  0.000006\n",
      "9                        1981  0.000007\n",
      "10                       2127  0.000006\n",
      "11                       2371  0.000006\n",
      "12                       1641  0.000007\n"
     ]
    },
    {
     "data": {
      "image/png": "[encoded data removed]",
      "text/plain": [
       "<Figure size 432x288 with 1 Axes>"
      ]
     },
     "metadata": {
      "needs_background": "light"
     },
     "output_type": "display_data"
    }
   ],
   "source": [
    "#Зависимость по месяцу\n",
    "\n",
    "data_pivot_month=data_new.pivot_table(index='first_month_exposition', values='last_price',aggfunc=['count','mean'])\n",
    "data_pivot_month.columns=['count','mean']\n",
    "data_pivot_month.plot(y='mean')\n",
    "print(data_pivot_month)"
   ]
  },
  {
   "cell_type": "markdown",
   "metadata": {},
   "source": [
    "Данные сводной таблицы показывают, что стоимость квартир не равномерно колеблится, в зависимости от месяца. Однако, \n",
    "в последний месяц стоимость квартиры дороже примерно на 8%"
   ]
  },
  {
   "cell_type": "code",
   "execution_count": 50,
   "metadata": {},
   "outputs": [
    {
     "name": "stdout",
     "output_type": "stream",
     "text": [
      "                       count      mean\n",
      "first_year_exposition                 \n",
      "2014                     137  0.000012\n",
      "2015                    1191  0.000009\n",
      "2016                    2783  0.000007\n",
      "2017                    8190  0.000007\n",
      "2018                    8519  0.000006\n",
      "2019                    2879  0.000007\n"
     ]
    },
    {
     "data": {
      "image/png": "[encoded data removed]",
      "text/plain": [
       "<Figure size 432x288 with 1 Axes>"
      ]
     },
     "metadata": {
      "needs_background": "light"
     },
     "output_type": "display_data"
    }
   ],
   "source": [
    "#Зависимость по году\n",
    "\n",
    "data_pivot_year=data_new.pivot_table(index='first_year_exposition', values='last_price',aggfunc=['count','mean'])\n",
    "data_pivot_year.columns=['count','mean']\n",
    "data_pivot_year.plot(y='mean')\n",
    "print(data_pivot_year)"
   ]
  },
  {
   "cell_type": "markdown",
   "metadata": {},
   "source": [
    "По графику можно проследить тенденцию к снижению цен на квартиры в период с 2014 по 2018 год, \n",
    "одна с 2018 происходитрост цен на недвижимость. Пиковыми по количеству квартир, которые были выставлены на продажу,\n",
    "являются 2017 и 2018 года. "
   ]
  },
  {
   "cell_type": "markdown",
   "metadata": {},
   "source": [
    "**Посчитайте среднюю цену одного квадратного метра в 10 населённых пунктах с наибольшим числом объявлений. Выделите населённые пункты с самой высокой и низкой стоимостью квадратного метра. Эти данные можно найти по имени в столбце locality_name**"
   ]
  },
  {
   "cell_type": "code",
   "execution_count": 51,
   "metadata": {},
   "outputs": [
    {
     "name": "stdout",
     "output_type": "stream",
     "text": [
      "Топ 10 населенных пунктов с наибольшим числом объявлений:\n",
      "                   count      mean\n",
      "locality_name                     \n",
      "санкт-петербург    15721  0.114849\n",
      "поселок мурино       556  0.085682\n",
      "поселок шушары       440  0.078677\n",
      "всеволожск           398  0.068654\n",
      "пушкин               369  0.103126\n",
      "колпино              338  0.075425\n",
      "поселок парголово    327  0.090176\n",
      "гатчина              307  0.068746\n",
      "деревня кудрово      299  0.092474\n",
      "выборг               237  0.058142\n",
      "\n",
      "Пункты с самой высокой стоимостью квадратного метра:\n",
      "                   price_one_areal\n",
      "locality_name                     \n",
      "зеленогорск               0.115123\n",
      "санкт-петербург           0.114849\n",
      "поселок репино            0.104239\n",
      "пушкин                    0.103126\n",
      "сестрорецк                0.101758\n",
      "поселок лисий нос         0.100661\n",
      "кудрово                   0.100253\n",
      "деревня мистолово         0.098550\n",
      "поселок левашово          0.096998\n",
      "мурино                    0.092723\n",
      "\n",
      "Пункты с самой низкой  стоимостью квадратного метра:\n",
      "                         price_one_areal\n",
      "locality_name                           \n",
      "деревня старополье              0.011206\n",
      "поселок станции свирь           0.011481\n",
      "деревня вахнова кара            0.011688\n",
      "деревня выскатка                0.012335\n",
      "поселок совхозный               0.012629\n",
      "деревня малая романовка         0.012725\n",
      "поселок тесово-4                0.012931\n",
      "деревня сижно                   0.013710\n",
      "деревня ям-тесово               0.013712\n",
      "поселок житково                 0.014956\n"
     ]
    }
   ],
   "source": [
    "#сводная таблица со средним значением и количеством квартир\n",
    "data_pivot_locality=data_new.pivot_table(index='locality_name', values='price_one_areal',aggfunc=['count','mean'])\n",
    "data_pivot_locality.columns=['count','mean']\n",
    "\n",
    "#сортировка в зависимости от нужных показателей\n",
    "print('Топ 10 населенных пунктов с наибольшим числом объявлений:' )\n",
    "print(data_pivot_locality.sort_values(by='count',ascending=False).head(10))\n",
    "print('')\n",
    "print('Пункты с самой высокой стоимостью квадратного метра:')\n",
    "print(data_new.groupby(['locality_name']).agg({'price_one_areal':'mean'})\\\n",
    "     .sort_values(by='price_one_areal',ascending=False)\\\n",
    "     .head(10))\n",
    "print('')\n",
    "print('Пункты с самой низкой  стоимостью квадратного метра:')\n",
    "print(data_new.groupby(['locality_name']).agg({'price_one_areal':'mean'})\\\n",
    "     .sort_values(by='price_one_areal')\\\n",
    "     .head(10))"
   ]
  },
  {
   "cell_type": "markdown",
   "metadata": {},
   "source": [
    "Ранее вы посчитали расстояние до центра в километрах. Теперь выделите квартиры в Санкт-Петербурге с помощью столбца locality_name и вычислите среднюю цену каждого километра. Опишите, как стоимость объектов зависит от расстояния до центра города."
   ]
  },
  {
   "cell_type": "code",
   "execution_count": 52,
   "metadata": {},
   "outputs": [
    {
     "name": "stdout",
     "output_type": "stream",
     "text": [
      "                              mean          median\n",
      "                   price_one_areal price_one_areal\n",
      "Centers_nearest_km                                \n",
      "0.0                       0.245834        0.172619\n",
      "1.0                       0.177005        0.128485\n",
      "2.0                       0.157849        0.123036\n",
      "3.0                       0.121387        0.108469\n",
      "4.0                       0.133283        0.117952\n",
      "5.0                       0.140510        0.127093\n",
      "6.0                       0.151012        0.131835\n",
      "7.0                       0.156177        0.127017\n",
      "8.0                       0.125671        0.122945\n",
      "9.0                       0.113131        0.105814\n",
      "10.0                      0.112728        0.106452\n",
      "11.0                      0.108631        0.103553\n",
      "12.0                      0.107489        0.103989\n",
      "13.0                      0.108148        0.104082\n",
      "14.0                      0.104252        0.101865\n",
      "15.0                      0.104232        0.101301\n",
      "16.0                      0.100543        0.097500\n",
      "17.0                      0.096598        0.094203\n",
      "18.0                      0.096362        0.095000\n",
      "19.0                      0.098653        0.097241\n",
      "20.0                      0.103045        0.103704\n",
      "21.0                      0.094470        0.089706\n",
      "22.0                      0.091330        0.088781\n",
      "23.0                      0.091829        0.089965\n",
      "24.0                      0.085737        0.086353\n",
      "25.0                      0.091531        0.093612\n",
      "26.0                      0.089286        0.089394\n",
      "27.0                      0.132116        0.132116\n",
      "28.0                      0.081162        0.079372\n",
      "29.0                      0.072953        0.076085\n"
     ]
    }
   ],
   "source": [
    "#создаем переменную со значениями стоимости 1 кв метра в Санкт-Петербурге\n",
    "data_cityCenter= data_new[['locality_name','price_one_areal','Centers_nearest_km']]\n",
    "data_cityCenter=data_cityCenter[data_cityCenter['locality_name']=='санкт-петербург']\n",
    "data_cityCenter['Centers_nearest_km']=round(data_cityCenter['Centers_nearest_km'])\n",
    "print(data_cityCenter.pivot_table(index='Centers_nearest_km',values='price_one_areal',aggfunc=['mean','median']))\n"
   ]
  },
  {
   "cell_type": "markdown",
   "metadata": {},
   "source": [
    "Из данных видно, что средняя стоимость увеличивается у квартир, которые находятся ближе к центру, исключая 27 и 20 км от центра города, но можно пердположить, что там находятся квартиры с большой площадью, например, загородные дома. "
   ]
  },
  {
   "cell_type": "markdown",
   "metadata": {},
   "source": [
    "### Общий вывод"
   ]
  },
  {
   "cell_type": "markdown",
   "metadata": {},
   "source": [
    "Входе данного исследования мы проаализировали архив объявлений за несколько лет о продаже квартир в Санкт-Петербурге и соседних населённых пунктах. В первом этапе мы обработали пропуски, изменили типы данных, где это требовалось. Также мы добавили требующиеся для упрощения анализ столбцы: посчитали стоимость 1 кв. метра, выделили день недели, месяц и год из даты публикации. \n",
    "Мы смогли проанализировать завимости стоимости от общей площади,жилой площади,площади кухни,количество комнат,типа этажа,даты размещения (день недели, месяц, год). Из полученных данных в ходе анализа,мы выяснили, что стоимость больше всего зависит от общей площади, жилой площади и площади кухни, а также от типа этажа. Нужно заметить, что квартиры чаще всего продаются дороге в последний и первый месяц года. Мы также смогли отследить тенденцию снижения стоимости квартир в период с 2014 по 2018 год. \n",
    "Мы отдельно проанализировали стоимость квартиры в зависимости от расстояния от центра Санкт-Петербурга в километрах. И выяснили, что квартиры, которые находят в 2 км от центра города является наиболее дорогостоящим. "
   ]
  }
 ],
 "metadata": {
  "ExecuteTimeLog": [
   {
    "duration": 45,
    "start_time": "2023-01-02T12:17:50.601Z"
   },
   {
    "duration": 698,
    "start_time": "2023-01-02T12:18:29.394Z"
   },
   {
    "duration": 43,
    "start_time": "2023-01-02T12:18:49.233Z"
   },
   {
    "duration": 97,
    "start_time": "2023-01-02T12:18:53.953Z"
   },
   {
    "duration": 2349,
    "start_time": "2023-01-02T12:19:18.665Z"
   },
   {
    "duration": 10,
    "start_time": "2023-01-02T12:23:27.481Z"
   },
   {
    "duration": 74,
    "start_time": "2023-01-02T12:35:37.429Z"
   },
   {
    "duration": 12,
    "start_time": "2023-01-02T12:36:09.021Z"
   },
   {
    "duration": 22,
    "start_time": "2023-01-02T12:36:33.049Z"
   },
   {
    "duration": 11,
    "start_time": "2023-01-02T12:37:32.469Z"
   },
   {
    "duration": 11,
    "start_time": "2023-01-02T12:38:24.013Z"
   },
   {
    "duration": 1915,
    "start_time": "2023-01-02T12:38:27.328Z"
   },
   {
    "duration": 17,
    "start_time": "2023-01-02T12:39:05.754Z"
   },
   {
    "duration": 18,
    "start_time": "2023-01-02T12:39:31.744Z"
   },
   {
    "duration": 5,
    "start_time": "2023-01-02T12:46:43.865Z"
   },
   {
    "duration": 11,
    "start_time": "2023-01-02T12:50:16.444Z"
   },
   {
    "duration": 3,
    "start_time": "2023-01-02T12:51:06.873Z"
   },
   {
    "duration": 3,
    "start_time": "2023-01-02T12:51:13.740Z"
   },
   {
    "duration": 6,
    "start_time": "2023-01-02T12:51:20.664Z"
   },
   {
    "duration": 19,
    "start_time": "2023-01-02T12:54:24.652Z"
   },
   {
    "duration": 12,
    "start_time": "2023-01-02T12:54:35.325Z"
   },
   {
    "duration": 10,
    "start_time": "2023-01-02T12:55:07.040Z"
   },
   {
    "duration": 1966,
    "start_time": "2023-01-02T12:55:12.408Z"
   },
   {
    "duration": 26,
    "start_time": "2023-01-02T12:55:14.376Z"
   },
   {
    "duration": 12,
    "start_time": "2023-01-02T12:55:17.165Z"
   },
   {
    "duration": 429,
    "start_time": "2023-01-02T13:01:45.981Z"
   },
   {
    "duration": 524,
    "start_time": "2023-01-02T13:03:42.305Z"
   },
   {
    "duration": 363,
    "start_time": "2023-01-02T13:04:00.212Z"
   },
   {
    "duration": 17,
    "start_time": "2023-01-02T13:04:10.797Z"
   },
   {
    "duration": 35,
    "start_time": "2023-01-02T13:04:41.141Z"
   },
   {
    "duration": 26,
    "start_time": "2023-01-02T13:05:42.057Z"
   },
   {
    "duration": 195,
    "start_time": "2023-01-02T13:07:06.313Z"
   },
   {
    "duration": 24,
    "start_time": "2023-01-02T13:07:22.861Z"
   },
   {
    "duration": 23,
    "start_time": "2023-01-02T13:08:08.181Z"
   },
   {
    "duration": 29,
    "start_time": "2023-01-02T13:08:18.745Z"
   },
   {
    "duration": 1938,
    "start_time": "2023-01-02T13:18:57.073Z"
   },
   {
    "duration": 37,
    "start_time": "2023-01-02T13:18:59.013Z"
   },
   {
    "duration": 19,
    "start_time": "2023-01-02T13:19:01.040Z"
   },
   {
    "duration": 24,
    "start_time": "2023-01-02T13:19:43.996Z"
   },
   {
    "duration": 32,
    "start_time": "2023-01-02T13:19:45.192Z"
   },
   {
    "duration": 9,
    "start_time": "2023-01-02T13:20:21.560Z"
   },
   {
    "duration": 7,
    "start_time": "2023-01-02T13:20:46.049Z"
   },
   {
    "duration": 3345,
    "start_time": "2023-01-02T17:59:47.930Z"
   },
   {
    "duration": 27,
    "start_time": "2023-01-02T17:59:51.277Z"
   },
   {
    "duration": 21,
    "start_time": "2023-01-02T17:59:51.306Z"
   },
   {
    "duration": 7,
    "start_time": "2023-01-02T17:59:53.258Z"
   },
   {
    "duration": 10,
    "start_time": "2023-01-02T18:05:47.858Z"
   },
   {
    "duration": 70,
    "start_time": "2023-01-02T18:06:02.914Z"
   },
   {
    "duration": 11,
    "start_time": "2023-01-02T18:06:52.273Z"
   },
   {
    "duration": 13,
    "start_time": "2023-01-02T18:07:02.546Z"
   },
   {
    "duration": 12,
    "start_time": "2023-01-02T18:07:25.702Z"
   },
   {
    "duration": 12,
    "start_time": "2023-01-02T18:07:38.370Z"
   },
   {
    "duration": 13,
    "start_time": "2023-01-02T18:08:06.681Z"
   },
   {
    "duration": 18,
    "start_time": "2023-01-02T18:09:26.506Z"
   },
   {
    "duration": 14,
    "start_time": "2023-01-02T18:09:32.010Z"
   },
   {
    "duration": 19,
    "start_time": "2023-01-02T18:10:25.856Z"
   },
   {
    "duration": 18,
    "start_time": "2023-01-02T18:11:13.801Z"
   },
   {
    "duration": 24,
    "start_time": "2023-01-02T18:11:19.704Z"
   },
   {
    "duration": 17,
    "start_time": "2023-01-02T18:11:21.644Z"
   },
   {
    "duration": 2012,
    "start_time": "2023-01-02T18:11:24.805Z"
   },
   {
    "duration": 23,
    "start_time": "2023-01-02T18:11:26.819Z"
   },
   {
    "duration": 17,
    "start_time": "2023-01-02T18:11:27.865Z"
   },
   {
    "duration": 17,
    "start_time": "2023-01-02T18:11:29.548Z"
   },
   {
    "duration": 19,
    "start_time": "2023-01-02T18:18:55.944Z"
   },
   {
    "duration": 23,
    "start_time": "2023-01-02T18:20:17.768Z"
   },
   {
    "duration": 25,
    "start_time": "2023-01-02T18:23:09.052Z"
   },
   {
    "duration": 29,
    "start_time": "2023-01-02T18:26:23.058Z"
   },
   {
    "duration": 41,
    "start_time": "2023-01-02T18:26:34.338Z"
   },
   {
    "duration": 7,
    "start_time": "2023-01-02T18:28:40.692Z"
   },
   {
    "duration": 1945,
    "start_time": "2023-01-02T18:29:07.360Z"
   },
   {
    "duration": 1770,
    "start_time": "2023-01-02T18:30:38.926Z"
   },
   {
    "duration": 288,
    "start_time": "2023-01-02T18:35:13.944Z"
   },
   {
    "duration": 81,
    "start_time": "2023-01-02T18:35:50.599Z"
   },
   {
    "duration": 40,
    "start_time": "2023-01-02T18:38:47.750Z"
   },
   {
    "duration": 47,
    "start_time": "2023-01-02T18:38:55.251Z"
   },
   {
    "duration": 1813,
    "start_time": "2023-01-02T18:39:09.731Z"
   },
   {
    "duration": 22,
    "start_time": "2023-01-02T18:39:11.546Z"
   },
   {
    "duration": 15,
    "start_time": "2023-01-02T18:39:11.570Z"
   },
   {
    "duration": 78,
    "start_time": "2023-01-02T18:39:13.043Z"
   },
   {
    "duration": 46,
    "start_time": "2023-01-02T18:39:14.094Z"
   },
   {
    "duration": 364,
    "start_time": "2023-01-02T18:40:12.434Z"
   },
   {
    "duration": 324,
    "start_time": "2023-01-02T18:40:46.411Z"
   },
   {
    "duration": 42,
    "start_time": "2023-01-02T18:43:48.557Z"
   },
   {
    "duration": 2850,
    "start_time": "2023-01-02T18:43:53.097Z"
   },
   {
    "duration": 23,
    "start_time": "2023-01-02T18:43:55.949Z"
   },
   {
    "duration": 90,
    "start_time": "2023-01-02T18:43:58.133Z"
   },
   {
    "duration": 85,
    "start_time": "2023-01-02T18:43:58.613Z"
   },
   {
    "duration": 158,
    "start_time": "2023-01-02T18:44:33.549Z"
   },
   {
    "duration": 22,
    "start_time": "2023-01-02T18:44:55.081Z"
   },
   {
    "duration": 77,
    "start_time": "2023-01-02T18:45:14.560Z"
   },
   {
    "duration": 84,
    "start_time": "2023-01-02T18:47:53.084Z"
   },
   {
    "duration": 94,
    "start_time": "2023-01-02T18:54:01.645Z"
   },
   {
    "duration": 153,
    "start_time": "2023-01-02T18:54:56.406Z"
   },
   {
    "duration": 162,
    "start_time": "2023-01-02T18:55:39.850Z"
   },
   {
    "duration": 123,
    "start_time": "2023-01-02T18:55:47.558Z"
   },
   {
    "duration": 122,
    "start_time": "2023-01-02T18:57:59.858Z"
   },
   {
    "duration": 145,
    "start_time": "2023-01-02T18:58:16.758Z"
   },
   {
    "duration": 370,
    "start_time": "2023-01-02T18:58:24.137Z"
   },
   {
    "duration": 121,
    "start_time": "2023-01-02T18:59:00.866Z"
   },
   {
    "duration": 401,
    "start_time": "2023-01-02T18:59:09.914Z"
   },
   {
    "duration": 17,
    "start_time": "2023-01-02T19:12:49.430Z"
   },
   {
    "duration": 16,
    "start_time": "2023-01-02T19:13:13.235Z"
   },
   {
    "duration": 11,
    "start_time": "2023-01-02T19:16:44.775Z"
   },
   {
    "duration": 10,
    "start_time": "2023-01-02T19:16:57.439Z"
   },
   {
    "duration": 12,
    "start_time": "2023-01-02T19:18:16.479Z"
   },
   {
    "duration": 10,
    "start_time": "2023-01-02T19:18:29.007Z"
   },
   {
    "duration": 18,
    "start_time": "2023-01-02T19:20:27.378Z"
   },
   {
    "duration": 19,
    "start_time": "2023-01-02T19:21:05.875Z"
   },
   {
    "duration": 18,
    "start_time": "2023-01-02T19:22:14.846Z"
   },
   {
    "duration": 13,
    "start_time": "2023-01-02T19:22:44.002Z"
   },
   {
    "duration": 15,
    "start_time": "2023-01-02T19:22:53.402Z"
   },
   {
    "duration": 14,
    "start_time": "2023-01-02T19:24:41.482Z"
   },
   {
    "duration": 91,
    "start_time": "2023-01-02T19:30:11.674Z"
   },
   {
    "duration": 20,
    "start_time": "2023-01-02T19:30:22.690Z"
   },
   {
    "duration": 18,
    "start_time": "2023-01-02T19:30:43.090Z"
   },
   {
    "duration": 23,
    "start_time": "2023-01-02T19:30:49.130Z"
   },
   {
    "duration": 22,
    "start_time": "2023-01-02T19:31:47.494Z"
   },
   {
    "duration": 1894,
    "start_time": "2023-01-02T19:32:03.339Z"
   },
   {
    "duration": 24,
    "start_time": "2023-01-02T19:32:05.235Z"
   },
   {
    "duration": 18,
    "start_time": "2023-01-02T19:32:05.285Z"
   },
   {
    "duration": 75,
    "start_time": "2023-01-02T19:32:07.081Z"
   },
   {
    "duration": 509,
    "start_time": "2023-01-02T19:32:07.821Z"
   },
   {
    "duration": 24,
    "start_time": "2023-01-02T19:32:09.234Z"
   },
   {
    "duration": 1901,
    "start_time": "2023-01-02T19:32:27.205Z"
   },
   {
    "duration": 25,
    "start_time": "2023-01-02T19:32:29.112Z"
   },
   {
    "duration": 18,
    "start_time": "2023-01-02T19:32:29.139Z"
   },
   {
    "duration": 74,
    "start_time": "2023-01-02T19:32:30.406Z"
   },
   {
    "duration": 524,
    "start_time": "2023-01-02T19:32:30.922Z"
   },
   {
    "duration": 23,
    "start_time": "2023-01-02T19:32:32.082Z"
   },
   {
    "duration": 18,
    "start_time": "2023-01-02T19:40:07.746Z"
   },
   {
    "duration": 9,
    "start_time": "2023-01-02T19:41:11.213Z"
   },
   {
    "duration": 1896,
    "start_time": "2023-01-02T19:41:31.390Z"
   },
   {
    "duration": 31,
    "start_time": "2023-01-02T19:41:33.288Z"
   },
   {
    "duration": 17,
    "start_time": "2023-01-02T19:41:33.641Z"
   },
   {
    "duration": 15,
    "start_time": "2023-01-02T19:41:49.827Z"
   },
   {
    "duration": 1915,
    "start_time": "2023-01-02T19:43:01.613Z"
   },
   {
    "duration": 25,
    "start_time": "2023-01-02T19:43:03.530Z"
   },
   {
    "duration": 18,
    "start_time": "2023-01-02T19:43:07.982Z"
   },
   {
    "duration": 76,
    "start_time": "2023-01-02T19:43:15.397Z"
   },
   {
    "duration": 547,
    "start_time": "2023-01-02T19:43:16.065Z"
   },
   {
    "duration": 19,
    "start_time": "2023-01-02T19:43:17.589Z"
   },
   {
    "duration": 221,
    "start_time": "2023-01-04T14:52:21.280Z"
   },
   {
    "duration": 1966,
    "start_time": "2023-01-04T14:52:31.399Z"
   },
   {
    "duration": 58,
    "start_time": "2023-01-04T14:52:33.367Z"
   },
   {
    "duration": 27,
    "start_time": "2023-01-04T14:52:33.427Z"
   },
   {
    "duration": 92,
    "start_time": "2023-01-04T14:52:34.292Z"
   },
   {
    "duration": 517,
    "start_time": "2023-01-04T14:52:34.952Z"
   },
   {
    "duration": 374,
    "start_time": "2023-01-04T14:53:18.849Z"
   },
   {
    "duration": 257,
    "start_time": "2023-01-04T16:04:12.159Z"
   },
   {
    "duration": 280,
    "start_time": "2023-01-04T16:04:19.210Z"
   },
   {
    "duration": 2733,
    "start_time": "2023-01-05T09:49:13.431Z"
   },
   {
    "duration": 27,
    "start_time": "2023-01-05T09:49:16.166Z"
   },
   {
    "duration": 20,
    "start_time": "2023-01-05T09:49:16.195Z"
   },
   {
    "duration": 79,
    "start_time": "2023-01-05T09:49:17.383Z"
   },
   {
    "duration": 383,
    "start_time": "2023-01-05T09:49:18.115Z"
   },
   {
    "duration": 355,
    "start_time": "2023-01-05T09:49:19.279Z"
   },
   {
    "duration": 1752,
    "start_time": "2023-01-05T09:49:20.838Z"
   },
   {
    "duration": 1806,
    "start_time": "2023-01-05T09:51:40.458Z"
   },
   {
    "duration": 1668,
    "start_time": "2023-01-05T09:52:28.690Z"
   },
   {
    "duration": 1772,
    "start_time": "2023-01-05T09:54:46.622Z"
   },
   {
    "duration": 1682,
    "start_time": "2023-01-05T09:55:16.994Z"
   },
   {
    "duration": 1811,
    "start_time": "2023-01-05T09:55:40.194Z"
   },
   {
    "duration": 1931,
    "start_time": "2023-01-05T09:56:28.223Z"
   },
   {
    "duration": 2053,
    "start_time": "2023-01-05T09:57:33.642Z"
   },
   {
    "duration": 1828,
    "start_time": "2023-01-05T09:59:40.557Z"
   },
   {
    "duration": 1850,
    "start_time": "2023-01-05T10:00:21.530Z"
   },
   {
    "duration": 1732,
    "start_time": "2023-01-05T10:01:58.362Z"
   },
   {
    "duration": 1921,
    "start_time": "2023-01-05T10:03:14.662Z"
   },
   {
    "duration": 1945,
    "start_time": "2023-01-05T10:03:40.497Z"
   },
   {
    "duration": 2203,
    "start_time": "2023-01-05T10:04:12.421Z"
   },
   {
    "duration": 1983,
    "start_time": "2023-01-05T10:04:33.521Z"
   },
   {
    "duration": 1903,
    "start_time": "2023-01-05T10:04:55.121Z"
   },
   {
    "duration": 2034,
    "start_time": "2023-01-05T10:05:42.346Z"
   },
   {
    "duration": 1940,
    "start_time": "2023-01-05T10:06:15.017Z"
   },
   {
    "duration": 1973,
    "start_time": "2023-01-05T10:07:07.061Z"
   },
   {
    "duration": 2461,
    "start_time": "2023-01-05T10:08:19.745Z"
   },
   {
    "duration": 2078,
    "start_time": "2023-01-05T10:08:36.261Z"
   },
   {
    "duration": 3779,
    "start_time": "2023-01-05T10:13:34.261Z"
   },
   {
    "duration": 2209,
    "start_time": "2023-01-05T10:14:29.697Z"
   },
   {
    "duration": 27,
    "start_time": "2023-01-05T10:14:31.908Z"
   },
   {
    "duration": 18,
    "start_time": "2023-01-05T10:14:31.936Z"
   },
   {
    "duration": 75,
    "start_time": "2023-01-05T10:14:33.201Z"
   },
   {
    "duration": 517,
    "start_time": "2023-01-05T10:14:33.672Z"
   },
   {
    "duration": 298,
    "start_time": "2023-01-05T10:14:34.720Z"
   },
   {
    "duration": 3894,
    "start_time": "2023-01-05T10:14:35.912Z"
   },
   {
    "duration": 3716,
    "start_time": "2023-01-05T10:22:47.200Z"
   },
   {
    "duration": 3530,
    "start_time": "2023-01-05T10:24:28.160Z"
   },
   {
    "duration": 3737,
    "start_time": "2023-01-05T10:25:06.211Z"
   },
   {
    "duration": 3786,
    "start_time": "2023-01-05T10:25:33.187Z"
   },
   {
    "duration": 3917,
    "start_time": "2023-01-05T10:27:10.271Z"
   },
   {
    "duration": 3700,
    "start_time": "2023-01-05T10:27:28.436Z"
   },
   {
    "duration": 3698,
    "start_time": "2023-01-05T10:27:47.992Z"
   },
   {
    "duration": 2062,
    "start_time": "2023-01-05T10:28:02.780Z"
   },
   {
    "duration": 35,
    "start_time": "2023-01-05T10:28:04.844Z"
   },
   {
    "duration": 18,
    "start_time": "2023-01-05T10:28:04.881Z"
   },
   {
    "duration": 75,
    "start_time": "2023-01-05T10:28:06.996Z"
   },
   {
    "duration": 425,
    "start_time": "2023-01-05T10:28:07.780Z"
   },
   {
    "duration": 289,
    "start_time": "2023-01-05T10:28:10.008Z"
   },
   {
    "duration": 3570,
    "start_time": "2023-01-05T10:28:14.383Z"
   },
   {
    "duration": 2237,
    "start_time": "2023-01-05T10:28:35.773Z"
   },
   {
    "duration": 28,
    "start_time": "2023-01-05T10:28:38.012Z"
   },
   {
    "duration": 19,
    "start_time": "2023-01-05T10:28:38.332Z"
   },
   {
    "duration": 87,
    "start_time": "2023-01-05T10:28:40.400Z"
   },
   {
    "duration": 420,
    "start_time": "2023-01-05T10:28:41.128Z"
   },
   {
    "duration": 272,
    "start_time": "2023-01-05T10:28:42.591Z"
   },
   {
    "duration": 3561,
    "start_time": "2023-01-05T10:28:44.464Z"
   },
   {
    "duration": 3793,
    "start_time": "2023-01-05T10:33:13.731Z"
   },
   {
    "duration": 3449,
    "start_time": "2023-01-05T10:33:31.707Z"
   },
   {
    "duration": 3892,
    "start_time": "2023-01-05T10:35:48.495Z"
   },
   {
    "duration": 3534,
    "start_time": "2023-01-05T10:36:16.879Z"
   },
   {
    "duration": 2847,
    "start_time": "2023-01-05T10:39:45.411Z"
   },
   {
    "duration": 581,
    "start_time": "2023-01-05T10:45:20.047Z"
   },
   {
    "duration": 184,
    "start_time": "2023-01-05T10:51:57.997Z"
   },
   {
    "duration": 322,
    "start_time": "2023-01-05T10:52:43.258Z"
   },
   {
    "duration": 194,
    "start_time": "2023-01-05T10:53:39.150Z"
   },
   {
    "duration": 491,
    "start_time": "2023-01-05T10:54:57.978Z"
   },
   {
    "duration": 606,
    "start_time": "2023-01-05T10:55:15.334Z"
   },
   {
    "duration": 609,
    "start_time": "2023-01-05T10:56:16.721Z"
   },
   {
    "duration": 553,
    "start_time": "2023-01-05T10:57:02.478Z"
   },
   {
    "duration": 824,
    "start_time": "2023-01-05T10:57:25.253Z"
   },
   {
    "duration": 96,
    "start_time": "2023-01-05T10:59:30.265Z"
   },
   {
    "duration": 113,
    "start_time": "2023-01-05T11:00:14.965Z"
   },
   {
    "duration": 110,
    "start_time": "2023-01-05T11:05:15.385Z"
   },
   {
    "duration": 90,
    "start_time": "2023-01-05T11:05:51.985Z"
   },
   {
    "duration": 161,
    "start_time": "2023-01-05T11:25:33.647Z"
   },
   {
    "duration": 151,
    "start_time": "2023-01-05T11:25:49.252Z"
   },
   {
    "duration": 2194,
    "start_time": "2023-01-05T11:27:12.688Z"
   },
   {
    "duration": 28,
    "start_time": "2023-01-05T11:27:14.884Z"
   },
   {
    "duration": 20,
    "start_time": "2023-01-05T11:27:14.913Z"
   },
   {
    "duration": 81,
    "start_time": "2023-01-05T11:27:15.908Z"
   },
   {
    "duration": 94,
    "start_time": "2023-01-05T11:27:16.471Z"
   },
   {
    "duration": 265,
    "start_time": "2023-01-05T11:27:18.640Z"
   },
   {
    "duration": 3040,
    "start_time": "2023-01-05T11:27:20.423Z"
   },
   {
    "duration": 977,
    "start_time": "2023-01-05T11:27:23.464Z"
   },
   {
    "duration": 140,
    "start_time": "2023-01-05T11:27:27.440Z"
   },
   {
    "duration": 151,
    "start_time": "2023-01-05T11:28:16.000Z"
   },
   {
    "duration": 137,
    "start_time": "2023-01-05T11:28:35.920Z"
   },
   {
    "duration": 117,
    "start_time": "2023-01-05T11:28:53.468Z"
   },
   {
    "duration": 8,
    "start_time": "2023-01-05T11:29:22.531Z"
   },
   {
    "duration": 119,
    "start_time": "2023-01-05T11:29:33.704Z"
   },
   {
    "duration": 168,
    "start_time": "2023-01-05T11:29:41.063Z"
   },
   {
    "duration": 21,
    "start_time": "2023-01-05T11:30:25.911Z"
   },
   {
    "duration": 138,
    "start_time": "2023-01-05T11:30:33.399Z"
   },
   {
    "duration": 153,
    "start_time": "2023-01-05T11:31:58.439Z"
   },
   {
    "duration": 140,
    "start_time": "2023-01-05T11:32:52.535Z"
   },
   {
    "duration": 153,
    "start_time": "2023-01-05T11:33:02.492Z"
   },
   {
    "duration": 164,
    "start_time": "2023-01-05T11:33:10.003Z"
   },
   {
    "duration": 159,
    "start_time": "2023-01-05T11:34:46.479Z"
   },
   {
    "duration": 137,
    "start_time": "2023-01-05T11:35:08.736Z"
   },
   {
    "duration": 175,
    "start_time": "2023-01-05T11:35:38.791Z"
   },
   {
    "duration": 96,
    "start_time": "2023-01-05T11:38:56.743Z"
   },
   {
    "duration": 159,
    "start_time": "2023-01-05T11:40:12.135Z"
   },
   {
    "duration": 157,
    "start_time": "2023-01-05T11:41:16.743Z"
   },
   {
    "duration": 128,
    "start_time": "2023-01-05T11:43:27.523Z"
   },
   {
    "duration": 156,
    "start_time": "2023-01-05T11:45:40.687Z"
   },
   {
    "duration": 32,
    "start_time": "2023-01-05T11:47:57.662Z"
   },
   {
    "duration": 199,
    "start_time": "2023-01-05T11:48:05.002Z"
   },
   {
    "duration": 195,
    "start_time": "2023-01-05T11:48:21.526Z"
   },
   {
    "duration": 36,
    "start_time": "2023-01-05T11:48:39.375Z"
   },
   {
    "duration": 182,
    "start_time": "2023-01-05T11:48:49.555Z"
   },
   {
    "duration": 171,
    "start_time": "2023-01-05T11:49:06.206Z"
   },
   {
    "duration": 164,
    "start_time": "2023-01-05T11:49:22.215Z"
   },
   {
    "duration": 31,
    "start_time": "2023-01-05T11:51:28.963Z"
   },
   {
    "duration": 190,
    "start_time": "2023-01-05T11:51:57.802Z"
   },
   {
    "duration": 40,
    "start_time": "2023-01-05T11:53:14.194Z"
   },
   {
    "duration": 197,
    "start_time": "2023-01-05T11:54:38.094Z"
   },
   {
    "duration": 181,
    "start_time": "2023-01-05T11:56:52.430Z"
   },
   {
    "duration": 171,
    "start_time": "2023-01-05T11:58:54.950Z"
   },
   {
    "duration": 317,
    "start_time": "2023-01-05T12:02:17.826Z"
   },
   {
    "duration": 327,
    "start_time": "2023-01-05T12:02:40.945Z"
   },
   {
    "duration": 20,
    "start_time": "2023-01-05T12:04:04.346Z"
   },
   {
    "duration": 22,
    "start_time": "2023-01-05T12:04:13.905Z"
   },
   {
    "duration": 11,
    "start_time": "2023-01-05T12:04:27.841Z"
   },
   {
    "duration": 132,
    "start_time": "2023-01-05T12:04:46.305Z"
   },
   {
    "duration": 137,
    "start_time": "2023-01-05T12:05:06.730Z"
   },
   {
    "duration": 471,
    "start_time": "2023-01-05T12:05:36.561Z"
   },
   {
    "duration": 466,
    "start_time": "2023-01-05T12:05:49.285Z"
   },
   {
    "duration": 1186,
    "start_time": "2023-01-05T12:06:18.201Z"
   },
   {
    "duration": 1119,
    "start_time": "2023-01-05T12:06:40.731Z"
   },
   {
    "duration": 1119,
    "start_time": "2023-01-05T12:06:45.973Z"
   },
   {
    "duration": 19,
    "start_time": "2023-01-05T12:06:59.952Z"
   },
   {
    "duration": 16,
    "start_time": "2023-01-05T12:07:16.442Z"
   },
   {
    "duration": 159,
    "start_time": "2023-01-05T12:08:00.546Z"
   },
   {
    "duration": 1545,
    "start_time": "2023-01-05T12:08:08.361Z"
   },
   {
    "duration": 1223,
    "start_time": "2023-01-05T12:08:26.724Z"
   },
   {
    "duration": 129,
    "start_time": "2023-01-05T12:08:47.329Z"
   },
   {
    "duration": 1221,
    "start_time": "2023-01-05T12:09:03.240Z"
   },
   {
    "duration": 129,
    "start_time": "2023-01-05T12:09:40.556Z"
   },
   {
    "duration": 152,
    "start_time": "2023-01-05T12:13:20.248Z"
   },
   {
    "duration": 142,
    "start_time": "2023-01-05T12:14:42.220Z"
   },
   {
    "duration": 75,
    "start_time": "2023-01-05T12:18:14.508Z"
   },
   {
    "duration": 135,
    "start_time": "2023-01-05T12:19:09.230Z"
   },
   {
    "duration": 23,
    "start_time": "2023-01-05T12:56:50.156Z"
   },
   {
    "duration": 97,
    "start_time": "2023-01-05T12:59:08.936Z"
   },
   {
    "duration": 24,
    "start_time": "2023-01-05T12:59:15.044Z"
   },
   {
    "duration": 22,
    "start_time": "2023-01-05T12:59:24.649Z"
   },
   {
    "duration": 29,
    "start_time": "2023-01-05T13:02:57.356Z"
   },
   {
    "duration": 29,
    "start_time": "2023-01-05T13:03:21.444Z"
   },
   {
    "duration": 30,
    "start_time": "2023-01-05T13:07:54.364Z"
   },
   {
    "duration": 94,
    "start_time": "2023-01-05T13:08:20.216Z"
   },
   {
    "duration": 32,
    "start_time": "2023-01-05T13:08:29.992Z"
   },
   {
    "duration": 35,
    "start_time": "2023-01-05T13:08:49.429Z"
   },
   {
    "duration": 30,
    "start_time": "2023-01-05T13:09:29.896Z"
   },
   {
    "duration": 1204,
    "start_time": "2023-01-05T13:09:58.948Z"
   },
   {
    "duration": 1110,
    "start_time": "2023-01-05T13:10:11.380Z"
   },
   {
    "duration": 29,
    "start_time": "2023-01-05T13:12:30.616Z"
   },
   {
    "duration": 87,
    "start_time": "2023-01-05T13:13:17.759Z"
   },
   {
    "duration": 39,
    "start_time": "2023-01-05T13:13:43.175Z"
   },
   {
    "duration": 25,
    "start_time": "2023-01-05T13:16:51.259Z"
   },
   {
    "duration": 13,
    "start_time": "2023-01-05T13:18:28.735Z"
   },
   {
    "duration": 1193,
    "start_time": "2023-01-05T13:20:14.739Z"
   },
   {
    "duration": 9,
    "start_time": "2023-01-05T13:20:28.439Z"
   },
   {
    "duration": 12,
    "start_time": "2023-01-05T13:23:43.795Z"
   },
   {
    "duration": 21,
    "start_time": "2023-01-05T13:26:11.154Z"
   },
   {
    "duration": 16,
    "start_time": "2023-01-05T13:27:31.883Z"
   },
   {
    "duration": 22,
    "start_time": "2023-01-05T13:31:28.571Z"
   },
   {
    "duration": 1892,
    "start_time": "2023-01-05T13:49:57.910Z"
   },
   {
    "duration": 22,
    "start_time": "2023-01-05T13:49:59.803Z"
   },
   {
    "duration": 17,
    "start_time": "2023-01-05T13:49:59.826Z"
   },
   {
    "duration": 87,
    "start_time": "2023-01-05T13:50:00.958Z"
   },
   {
    "duration": 99,
    "start_time": "2023-01-05T13:50:01.386Z"
   },
   {
    "duration": 279,
    "start_time": "2023-01-05T13:50:02.279Z"
   },
   {
    "duration": 3240,
    "start_time": "2023-01-05T13:50:03.178Z"
   },
   {
    "duration": 559,
    "start_time": "2023-01-05T13:50:06.420Z"
   },
   {
    "duration": 143,
    "start_time": "2023-01-05T13:50:06.981Z"
   },
   {
    "duration": 159,
    "start_time": "2023-01-05T13:50:07.163Z"
   },
   {
    "duration": 142,
    "start_time": "2023-01-05T13:50:08.170Z"
   },
   {
    "duration": 168,
    "start_time": "2023-01-05T13:50:09.366Z"
   },
   {
    "duration": 521,
    "start_time": "2023-01-05T13:50:10.342Z"
   },
   {
    "duration": 175,
    "start_time": "2023-01-05T13:50:11.274Z"
   },
   {
    "duration": 169,
    "start_time": "2023-01-05T13:50:12.346Z"
   },
   {
    "duration": 154,
    "start_time": "2023-01-05T13:50:13.291Z"
   },
   {
    "duration": 36,
    "start_time": "2023-01-05T13:50:14.866Z"
   },
   {
    "duration": 24,
    "start_time": "2023-01-05T13:50:16.458Z"
   },
   {
    "duration": 3224,
    "start_time": "2023-01-10T15:45:46.977Z"
   },
   {
    "duration": 31,
    "start_time": "2023-01-10T15:45:50.204Z"
   },
   {
    "duration": 27,
    "start_time": "2023-01-10T15:45:51.197Z"
   },
   {
    "duration": 321,
    "start_time": "2023-01-10T15:47:56.349Z"
   },
   {
    "duration": 4,
    "start_time": "2023-01-10T15:49:29.621Z"
   },
   {
    "duration": 8,
    "start_time": "2023-01-10T15:49:37.533Z"
   },
   {
    "duration": 4,
    "start_time": "2023-01-10T15:49:52.517Z"
   },
   {
    "duration": 177,
    "start_time": "2023-01-10T15:50:16.241Z"
   },
   {
    "duration": 76,
    "start_time": "2023-01-10T15:56:44.848Z"
   },
   {
    "duration": 70,
    "start_time": "2023-01-10T15:57:11.196Z"
   },
   {
    "duration": 83,
    "start_time": "2023-01-10T15:57:18.964Z"
   },
   {
    "duration": 4,
    "start_time": "2023-01-10T15:57:49.972Z"
   },
   {
    "duration": 141,
    "start_time": "2023-01-10T15:58:16.760Z"
   },
   {
    "duration": 81,
    "start_time": "2023-01-10T15:59:04.867Z"
   },
   {
    "duration": 82,
    "start_time": "2023-01-10T16:01:44.219Z"
   },
   {
    "duration": 83,
    "start_time": "2023-01-10T16:02:00.919Z"
   },
   {
    "duration": 96,
    "start_time": "2023-01-10T16:04:53.843Z"
   },
   {
    "duration": 110,
    "start_time": "2023-01-10T16:09:31.774Z"
   },
   {
    "duration": 106,
    "start_time": "2023-01-10T16:09:43.947Z"
   },
   {
    "duration": 84,
    "start_time": "2023-01-10T16:51:59.800Z"
   },
   {
    "duration": 77,
    "start_time": "2023-01-10T16:52:06.948Z"
   },
   {
    "duration": 75,
    "start_time": "2023-01-10T16:52:16.608Z"
   },
   {
    "duration": 131,
    "start_time": "2023-01-10T16:52:22.815Z"
   },
   {
    "duration": 9,
    "start_time": "2023-01-10T17:05:22.252Z"
   },
   {
    "duration": 9,
    "start_time": "2023-01-10T17:05:43.518Z"
   },
   {
    "duration": 9,
    "start_time": "2023-01-10T17:05:58.520Z"
   },
   {
    "duration": 2229,
    "start_time": "2023-01-10T17:06:21.320Z"
   },
   {
    "duration": 24,
    "start_time": "2023-01-10T17:06:23.551Z"
   },
   {
    "duration": 19,
    "start_time": "2023-01-10T17:06:24.844Z"
   },
   {
    "duration": 94,
    "start_time": "2023-01-10T17:06:27.846Z"
   },
   {
    "duration": 134,
    "start_time": "2023-01-10T17:06:30.511Z"
   },
   {
    "duration": 86,
    "start_time": "2023-01-10T17:06:50.193Z"
   },
   {
    "duration": 9,
    "start_time": "2023-01-10T17:27:24.324Z"
   },
   {
    "duration": 12,
    "start_time": "2023-01-10T17:27:31.918Z"
   },
   {
    "duration": 10,
    "start_time": "2023-01-10T17:27:34.645Z"
   },
   {
    "duration": 15,
    "start_time": "2023-01-10T17:27:42.919Z"
   },
   {
    "duration": 23,
    "start_time": "2023-01-10T17:27:43.930Z"
   },
   {
    "duration": 90,
    "start_time": "2023-01-10T17:27:44.679Z"
   },
   {
    "duration": 68,
    "start_time": "2023-01-10T17:27:45.055Z"
   },
   {
    "duration": 407,
    "start_time": "2023-01-10T17:27:45.732Z"
   },
   {
    "duration": 3375,
    "start_time": "2023-01-10T17:27:46.363Z"
   },
   {
    "duration": 657,
    "start_time": "2023-01-10T17:27:49.740Z"
   },
   {
    "duration": 187,
    "start_time": "2023-01-10T17:27:50.404Z"
   },
   {
    "duration": 184,
    "start_time": "2023-01-10T17:27:51.021Z"
   },
   {
    "duration": 339,
    "start_time": "2023-01-10T17:27:52.623Z"
   },
   {
    "duration": 1218,
    "start_time": "2023-01-10T17:27:54.119Z"
   },
   {
    "duration": 220,
    "start_time": "2023-01-10T17:28:09.604Z"
   },
   {
    "duration": 31,
    "start_time": "2023-01-10T17:29:46.083Z"
   },
   {
    "duration": 25,
    "start_time": "2023-01-10T17:30:24.808Z"
   },
   {
    "duration": 22,
    "start_time": "2023-01-10T17:30:35.750Z"
   },
   {
    "duration": 40,
    "start_time": "2023-01-10T17:31:02.187Z"
   },
   {
    "duration": 1338,
    "start_time": "2023-01-10T17:55:26.858Z"
   },
   {
    "duration": 201,
    "start_time": "2023-01-10T17:55:43.150Z"
   },
   {
    "duration": 201,
    "start_time": "2023-01-10T17:56:53.730Z"
   },
   {
    "duration": 215,
    "start_time": "2023-01-10T17:58:21.607Z"
   },
   {
    "duration": 185,
    "start_time": "2023-01-10T17:58:28.510Z"
   },
   {
    "duration": 43,
    "start_time": "2023-01-10T17:58:44.637Z"
   },
   {
    "duration": 77,
    "start_time": "2023-01-10T17:58:58.445Z"
   },
   {
    "duration": 46,
    "start_time": "2023-01-10T17:59:24.429Z"
   },
   {
    "duration": 246,
    "start_time": "2023-01-10T18:01:23.390Z"
   },
   {
    "duration": 252,
    "start_time": "2023-01-10T18:02:41.573Z"
   },
   {
    "duration": 225,
    "start_time": "2023-01-10T18:04:13.464Z"
   },
   {
    "duration": 61,
    "start_time": "2023-01-10T18:05:31.431Z"
   },
   {
    "duration": 66,
    "start_time": "2023-01-10T18:05:56.894Z"
   },
   {
    "duration": 253,
    "start_time": "2023-01-10T18:06:17.894Z"
   },
   {
    "duration": 168,
    "start_time": "2023-01-10T18:11:16.229Z"
   },
   {
    "duration": 2794,
    "start_time": "2023-01-12T16:05:15.590Z"
   },
   {
    "duration": 22,
    "start_time": "2023-01-12T16:05:18.386Z"
   },
   {
    "duration": 66,
    "start_time": "2023-01-12T16:05:19.701Z"
   },
   {
    "duration": 8,
    "start_time": "2023-01-12T16:05:39.390Z"
   },
   {
    "duration": 4,
    "start_time": "2023-01-12T16:05:47.675Z"
   },
   {
    "duration": 27,
    "start_time": "2023-01-12T16:06:01.957Z"
   },
   {
    "duration": 21,
    "start_time": "2023-01-12T16:06:55.257Z"
   },
   {
    "duration": 3,
    "start_time": "2023-01-12T16:07:29.177Z"
   },
   {
    "duration": 23,
    "start_time": "2023-01-12T16:07:40.213Z"
   },
   {
    "duration": 21,
    "start_time": "2023-01-12T16:08:41.249Z"
   },
   {
    "duration": 12,
    "start_time": "2023-01-12T16:09:02.922Z"
   },
   {
    "duration": 8,
    "start_time": "2023-01-12T16:09:13.501Z"
   },
   {
    "duration": 21,
    "start_time": "2023-01-12T16:10:16.649Z"
   },
   {
    "duration": 103,
    "start_time": "2023-01-12T16:11:03.652Z"
   },
   {
    "duration": 8,
    "start_time": "2023-01-12T16:11:18.033Z"
   },
   {
    "duration": 240,
    "start_time": "2023-01-12T16:12:21.549Z"
   },
   {
    "duration": 225,
    "start_time": "2023-01-12T16:12:47.379Z"
   },
   {
    "duration": 166,
    "start_time": "2023-01-12T16:13:25.481Z"
   },
   {
    "duration": 8,
    "start_time": "2023-01-12T16:14:07.141Z"
   },
   {
    "duration": 15,
    "start_time": "2023-01-12T16:15:23.910Z"
   },
   {
    "duration": 10,
    "start_time": "2023-01-12T16:15:29.120Z"
   },
   {
    "duration": 9,
    "start_time": "2023-01-12T16:16:40.789Z"
   },
   {
    "duration": 8,
    "start_time": "2023-01-12T16:16:56.781Z"
   },
   {
    "duration": 13,
    "start_time": "2023-01-12T16:19:15.588Z"
   },
   {
    "duration": 6,
    "start_time": "2023-01-12T16:19:45.104Z"
   },
   {
    "duration": 8,
    "start_time": "2023-01-12T16:19:56.104Z"
   },
   {
    "duration": 7,
    "start_time": "2023-01-12T16:22:18.713Z"
   },
   {
    "duration": 15,
    "start_time": "2023-01-12T16:22:25.361Z"
   },
   {
    "duration": 24,
    "start_time": "2023-01-12T17:25:34.204Z"
   },
   {
    "duration": 21,
    "start_time": "2023-01-12T17:25:35.880Z"
   },
   {
    "duration": 82,
    "start_time": "2023-01-12T17:25:38.447Z"
   },
   {
    "duration": 64,
    "start_time": "2023-01-12T17:25:39.168Z"
   },
   {
    "duration": 281,
    "start_time": "2023-01-12T17:25:41.568Z"
   },
   {
    "duration": 2053,
    "start_time": "2023-01-12T17:25:42.628Z"
   },
   {
    "duration": 2978,
    "start_time": "2023-01-12T17:25:44.683Z"
   },
   {
    "duration": 609,
    "start_time": "2023-01-12T17:25:48.688Z"
   },
   {
    "duration": 161,
    "start_time": "2023-01-12T17:25:50.573Z"
   },
   {
    "duration": 341,
    "start_time": "2023-01-12T17:26:09.923Z"
   },
   {
    "duration": 132,
    "start_time": "2023-01-12T17:26:11.332Z"
   },
   {
    "duration": 191,
    "start_time": "2023-01-12T17:26:12.772Z"
   },
   {
    "duration": 140,
    "start_time": "2023-01-12T17:26:17.832Z"
   },
   {
    "duration": 150,
    "start_time": "2023-01-12T17:26:19.212Z"
   },
   {
    "duration": 148,
    "start_time": "2023-01-12T17:26:20.617Z"
   },
   {
    "duration": 135,
    "start_time": "2023-01-12T17:26:21.524Z"
   },
   {
    "duration": 38,
    "start_time": "2023-01-12T17:26:23.228Z"
   },
   {
    "duration": 23,
    "start_time": "2023-01-12T17:26:24.580Z"
   },
   {
    "duration": 187,
    "start_time": "2023-01-12T17:28:04.828Z"
   },
   {
    "duration": 147,
    "start_time": "2023-01-12T17:31:03.180Z"
   },
   {
    "duration": 156,
    "start_time": "2023-01-12T17:31:10.199Z"
   },
   {
    "duration": 156,
    "start_time": "2023-01-12T17:31:18.023Z"
   },
   {
    "duration": 197,
    "start_time": "2023-01-12T17:31:25.884Z"
   }
  ],
  "kernelspec": {
   "display_name": "Python 3 (ipykernel)",
   "language": "python",
   "name": "python3"
  },
  "language_info": {
   "codemirror_mode": {
    "name": "ipython",
    "version": 3
   },
   "file_extension": ".py",
   "mimetype": "text/x-python",
   "name": "python",
   "nbconvert_exporter": "python",
   "pygments_lexer": "ipython3",
   "version": "3.9.5"
  },
  "toc": {
   "base_numbering": 1,
   "nav_menu": {},
   "number_sections": true,
   "sideBar": true,
   "skip_h1_title": true,
   "title_cell": "Table of Contents",
   "title_sidebar": "Contents",
   "toc_cell": false,
   "toc_position": {},
   "toc_section_display": true,
   "toc_window_display": false
  }
 },
 "nbformat": 4,
 "nbformat_minor": 2
}
